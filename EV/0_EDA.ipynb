{
 "cells": [
  {
   "cell_type": "code",
   "execution_count": 161,
   "metadata": {},
   "outputs": [
    {
     "name": "stdout",
     "output_type": "stream",
     "text": [
      "['cmtt10', 'STIXGeneral', 'STIXSizeOneSym', 'DejaVu Sans Mono', 'DejaVu Sans', 'DejaVu Serif Display', 'STIXNonUnicode', 'cmss10', 'STIXNonUnicode', 'DejaVu Sans', 'STIXGeneral', 'STIXSizeOneSym', 'cmr10', 'DejaVu Serif', 'STIXGeneral', 'DejaVu Sans Mono', 'cmb10', 'STIXNonUnicode', 'DejaVu Serif', 'STIXSizeTwoSym', 'DejaVu Sans Mono', 'STIXSizeFiveSym', 'STIXSizeThreeSym', 'DejaVu Sans Display', 'DejaVu Sans Mono', 'STIXSizeFourSym', 'DejaVu Sans', 'STIXSizeThreeSym', 'STIXGeneral', 'STIXNonUnicode', 'STIXSizeTwoSym', 'cmmi10', 'DejaVu Serif', 'STIXSizeFourSym', 'cmex10', 'cmsy10', 'DejaVu Serif', 'DejaVu Sans', 'Corbel', 'Microsoft JhengHei', 'HCR Dotum', 'Verdana', 'NanumMyeongjo', 'Bodoni MT', 'Georgia', 'Bodoni MT', 'Brush Script MT', 'Franklin Gothic Medium', 'Informal Roman', 'Corbel', 'Segoe UI', 'Perpetua Titling MT', 'Book Antiqua', 'Segoe UI', 'Lucida Sans Unicode', 'Han Santteut Dotum', 'Lucida Fax', 'Trebuchet MS', 'Goudy Old Style', 'STCaiyun', 'Batang', 'Monotype Corsiva', 'Century Gothic', 'Franklin Gothic Heavy', 'Courier New', 'Han Santteut Dotum', 'Book Antiqua', 'Modern No. 20', 'Arial', 'KoPubBatang Medium', 'Javanese Text', 'Corbel', 'D2Coding', 'Haan Wing2', 'Calisto MT', 'Webdings', 'Lucida Sans', 'Perpetua', 'Microsoft YaHei', 'Lucida Bright', 'Cambria', 'Cambria', 'STXinwei', 'Leelawadee', 'Corbel', 'Garamond', 'KoPubDotum Bold', 'Segoe UI', 'Segoe Script', 'NanumMyeongjo', 'Segoe Print', 'HCR Batang ExtB', 'Calibri', 'Jokerman', 'YouYuan', 'Palatino Linotype', 'Eras Medium ITC', 'Chiller', 'Berlin Sans FB', 'Tw Cen MT', 'STZhongsong', 'Constantia', 'Century Schoolbook', 'STKaiti', 'Cooper Black', 'Rockwell Condensed', 'Leelawadee UI', 'Trebuchet MS', 'Poor Richard', 'MT Extra', 'Ravie', 'STHupo', 'Segoe UI Variable', 'Forte', 'Curlz MT', 'Microsoft Uighur', 'Bauhaus 93', 'Playbill', 'Perpetua', 'Leelawadee UI', 'Sylfaen', 'Agency FB', 'Book Antiqua', 'Bodoni MT', 'Gill Sans MT', 'Book Antiqua', 'Segoe UI', 'Tempus Sans ITC', 'KoPubBatang Bold', 'Calisto MT', 'Franklin Gothic Demi', 'Agency FB', 'Malgun Gothic', 'Tw Cen MT Condensed', 'Trebuchet MS', 'Verdana', 'NanumGothic', 'Arial', 'Arial', 'Freestyle Script', 'HyhwpEQ', 'Microsoft Sans Serif', 'Maiandra GD', 'Copperplate Gothic Bold', 'Arial', 'Garamond', 'Rockwell Condensed', 'Calibri', 'Gill Sans MT', 'Segoe UI', 'Franklin Gothic Book', 'Broadway', 'Century Schoolbook', 'Yu Gothic', 'Ami R', 'Harrington', 'Onyx', 'Garamond', 'Berlin Sans FB', 'HYPost-Light', 'Nirmala UI', 'NanumGothic', 'Century Schoolbook', 'Lucida Sans Typewriter', 'Franklin Gothic Medium Cond', 'HYGothic-Medium', 'Century', 'Centaur', 'Castellar', 'Arial Rounded MT Bold', 'Rockwell Extra Bold', 'Bell MT', 'Hancom Hoonminjeongeum_H', 'Gill Sans MT Ext Condensed Bold', 'Franklin Gothic Demi Cond', 'Gigi', 'Franklin Gothic Medium', 'Segoe UI', 'Cambria', 'Courier New', 'Pyunji R', 'Mistral', 'Perpetua Titling MT', 'Headline R', 'Tw Cen MT Condensed', 'Tw Cen MT', 'Bodoni MT', 'Lucida Sans Typewriter', 'Malgun Gothic', 'STLiti', 'Hancom Hoonminjeongeum_V', 'Dubai', 'Comic Sans MS', 'Yet R', 'Segoe Print', 'Comic Sans MS', 'Segoe UI', 'Yu Gothic', 'NewJumja', 'Lucida Sans', 'Segoe UI Emoji', 'HYSinMyeongJo-Medium', 'Gadugi', 'Baskerville Old Face', 'HYPost-Medium', 'Georgia', 'Old English Text MT', 'Lucida Bright', 'Algerian', 'Verdana', 'Yu Gothic', 'HYPMokGak-Bold', 'Tahoma', 'D2Coding', 'Lucida Calligraphy', 'Bernard MT Condensed', 'Gill Sans Ultra Bold Condensed', 'STXingkai', 'French Script MT', 'Matura MT Script Capitals', 'Microsoft JhengHei', 'Copperplate Gothic Light', 'Wide Latin', 'Bradley Hand ITC', 'Myanmar Text', 'KoPubDotum Light', 'MV Boli', 'Sitka', 'Microsoft Himalaya', 'HCR Batang Ext', 'HCR Batang ExtB', 'Century Schoolbook', 'OCR A Extended', 'Lucida Bright', 'Cambria', 'Segoe UI', 'Nirmala UI', 'Calibri', 'Goudy Stout', 'HCR Batang', 'Calibri', 'Niagara Solid', 'Vladimir Script', 'Bahnschrift', 'Segoe UI', 'Wingdings 2', 'HYGraphic-Medium', 'Snap ITC', 'MS Outlook', 'Wingdings', 'Segoe UI Historic', 'KoPubBatang Light', 'Palatino Linotype', 'Franklin Gothic Demi', 'Rockwell', 'Gulim', 'New Gulim', 'SimSun-ExtB', 'Lucida Fax', 'Segoe Script', 'Bookman Old Style', 'Microsoft Yi Baiti', 'HYShortSamul-Medium', 'Consolas', 'Century Gothic', 'Microsoft JhengHei', 'Palatino Linotype', 'Lucida Sans', 'HYGothic-Extra', 'Century Gothic', 'Kunstler Script', 'Segoe MDL2 Assets', 'Consolas', 'Gill Sans Ultra Bold', 'Sitka', 'Bookman Old Style', 'Constantia', 'MS Reference Sans Serif', 'Goudy Old Style', 'Ebrima', 'NanumGothic', 'Open Sans', 'Viner Hand ITC', 'Franklin Gothic Book', 'Palatino Linotype', 'Imprint MT Shadow', 'Leelawadee', 'Gill Sans MT Condensed', 'Trebuchet MS', 'Ink Free', 'Microsoft Tai Le', 'Tw Cen MT', 'Rage Italic', 'Lucida Fax', 'MingLiU-ExtB', 'Microsoft YaHei', 'Vivaldi', 'Constantia', 'Wingdings 3', 'Dubai', 'Tw Cen MT Condensed Extra Bold', 'Papyrus', 'Malgun Gothic', 'Bodoni MT', 'Gill Sans MT', 'Perpetua', 'Parchment', 'Colonna MT', 'Tw Cen MT', 'Times New Roman', 'Segoe UI', 'Hancom Gothic', 'Magneto', 'Ebrima', 'Sans Serif Collection', 'Impact', 'Script MT Bold', 'Bodoni MT', 'Bell MT', 'Bookshelf Symbol 7', 'SimSun', 'Mongolian Baiti', 'Arial', 'HoloLens MDL2 Assets', 'Pristina', 'Lucida Sans Typewriter', 'Corbel', 'Arial', 'Calibri', 'STSong', 'Bodoni MT', 'Haettenschweiler', 'Times New Roman', 'NanumMyeongjo', 'Calisto MT', 'Microsoft YaHei', 'Microsoft PhagsPa', 'Calisto MT', 'Segoe UI Symbol', 'NanumGothic', 'Candara', 'Symbol', 'Bookman Old Style', 'UnDotum', 'Niagara Engraved', 'Bell MT', 'NanumGothic', 'Palace Script MT', 'Juice ITC', 'Bodoni MT', 'Candara', 'Gill Sans MT', 'HYHeadLine-Medium', 'Georgia', 'Comic Sans MS', 'Arial', 'Rockwell', 'Candara', 'Bodoni MT', 'Segoe Fluent Icons', 'Eras Demi ITC', 'Myanmar Text', 'Goudy Old Style', 'Dubai', 'High Tower Text', 'MS Gothic', 'Nirmala UI', 'Corbel', 'Georgia', 'Candara', 'Century Gothic', 'Candara', 'Microsoft PhagsPa', 'MS Reference Specialty', 'HCR Dotum', 'Lucida Fax', 'KoPubDotum Medium', 'Courier New', 'Comic Sans MS', 'Blackadder ITC', 'Hancom MalangMalang', 'Microsoft New Tai Lue', 'Franklin Gothic Heavy', 'Courier New', 'Kristen ITC', 'Lucida Sans', 'Tahoma', 'Perpetua', 'Showcard Gothic', 'Bodoni MT', 'Felix Titling', 'Times New Roman', 'Britannic Bold', 'Microsoft New Tai Lue', 'D2Coding', 'Eras Bold ITC', 'Gloucester MT Extra Condensed', 'Harlow Solid Italic', 'Footlight MT Light', 'Microsoft Tai Le', 'Rockwell', 'Candara', 'Dubai', 'Hancom Gothic', 'Elephant', 'HCR Batang', 'Microsoft Uighur', 'Lucida Sans Typewriter', 'Magic R', 'Californian FB', 'Consolas', 'Stencil', 'FZShuTi', 'Berlin Sans FB Demi', 'Californian FB', 'Rockwell', 'Verdana', 'Arial', 'Eras Light ITC', 'Bookman Old Style', 'Gabriola', 'Hancom MalangMalang', 'Calibri', 'LiSu', 'Lucida Console', 'High Tower Text', 'Lucida Handwriting', 'Lucida Bright', 'MoeumT R', 'Gadugi', 'Leelawadee UI', 'STXihei', 'NanumGothicOTF', 'Californian FB', 'Times New Roman', 'Arial', 'UnBatang', 'Segoe UI', 'Bodoni MT', 'Constantia', 'Engravers MT', 'STFangsong', 'HancomEQN', 'HYGungSo-Bold', 'FZYaoTi', 'Elephant', 'Consolas', 'Edwardian Script ITC', 'HYMyeongJo-Extra', 'Yu Gothic', 'HCR Dotum Ext', 'Segoe UI']\n"
     ]
    }
   ],
   "source": [
    "import matplotlib.font_manager as fm\n",
    "\n",
    "# 시스템에서 사용 가능한 모든 폰트 출력\n",
    "font_list = [f.name for f in fm.fontManager.ttflist]\n",
    "print(font_list)"
   ]
  },
  {
   "cell_type": "code",
   "execution_count": 162,
   "metadata": {},
   "outputs": [],
   "source": [
    "import matplotlib.pyplot as plt\n",
    "import platform\n",
    "\n",
    "# 운영 체제에 따라 폰트 설정\n",
    "if platform.system() == 'Windows':\n",
    "    plt.rc('font', family='Malgun Gothic')\n",
    "elif platform.system() == 'Darwin':  # macOS\n",
    "    plt.rc('font', family='AppleGothic')\n",
    "else:  # Linux (예: 구글 코랩)\n",
    "    plt.rc('font', family='NanumGothic')\n",
    "\n",
    "# 마이너스 기호 깨짐 방지\n",
    "plt.rcParams['axes.unicode_minus'] = False"
   ]
  },
  {
   "cell_type": "markdown",
   "metadata": {},
   "source": [
    "# Dataset Info.\n",
    "\n",
    "## train.csv [파일]\n",
    "ID : 샘플별 고유 ID\n",
    "제조사, 모델, 차량상태, 배터리용량, 구동방식, 주행거리(km), 보증기간(년), 사고이력, 연식(년) , 가격(백만원)\n",
    "\n",
    "\n",
    "## test.csv [파일]\n",
    "ID : 샘플별 고유 ID\n",
    "제조사\n",
    ", 모델, 차량상태, 배터리용량, 구동방식, 주행거리(km), 보증기간(년), 사고이력, 연식(년) \n",
    "\n",
    "\n",
    "sample_submission.csv [파일] - 제출 양식\n",
    "ID : 샘플 별 고유 ID\n",
    "가격(백만원)\n"
   ]
  },
  {
   "cell_type": "code",
   "execution_count": 163,
   "metadata": {},
   "outputs": [],
   "source": [
    "import pandas as pd\n",
    "import matplotlib.pyplot as plt"
   ]
  },
  {
   "cell_type": "code",
   "execution_count": 164,
   "metadata": {},
   "outputs": [],
   "source": [
    "df_train = pd.read_csv('./train.csv')\n",
    "df_test = pd.read_csv('./test.csv')"
   ]
  },
  {
   "cell_type": "code",
   "execution_count": 165,
   "metadata": {},
   "outputs": [
    {
     "data": {
      "text/html": [
       "<div>\n",
       "<style scoped>\n",
       "    .dataframe tbody tr th:only-of-type {\n",
       "        vertical-align: middle;\n",
       "    }\n",
       "\n",
       "    .dataframe tbody tr th {\n",
       "        vertical-align: top;\n",
       "    }\n",
       "\n",
       "    .dataframe thead th {\n",
       "        text-align: right;\n",
       "    }\n",
       "</style>\n",
       "<table border=\"1\" class=\"dataframe\">\n",
       "  <thead>\n",
       "    <tr style=\"text-align: right;\">\n",
       "      <th></th>\n",
       "      <th>ID</th>\n",
       "      <th>제조사</th>\n",
       "      <th>모델</th>\n",
       "      <th>차량상태</th>\n",
       "      <th>배터리용량</th>\n",
       "      <th>구동방식</th>\n",
       "      <th>주행거리(km)</th>\n",
       "      <th>보증기간(년)</th>\n",
       "      <th>사고이력</th>\n",
       "      <th>연식(년)</th>\n",
       "      <th>가격(백만원)</th>\n",
       "    </tr>\n",
       "  </thead>\n",
       "  <tbody>\n",
       "    <tr>\n",
       "      <th>6033</th>\n",
       "      <td>TRAIN_6033</td>\n",
       "      <td>K사</td>\n",
       "      <td>EV6</td>\n",
       "      <td>Brand New</td>\n",
       "      <td>90.0</td>\n",
       "      <td>FWD</td>\n",
       "      <td>9599</td>\n",
       "      <td>9</td>\n",
       "      <td>No</td>\n",
       "      <td>0</td>\n",
       "      <td>41.45</td>\n",
       "    </tr>\n",
       "  </tbody>\n",
       "</table>\n",
       "</div>"
      ],
      "text/plain": [
       "              ID 제조사   모델       차량상태  배터리용량 구동방식  주행거리(km)  보증기간(년) 사고이력  \\\n",
       "6033  TRAIN_6033  K사  EV6  Brand New   90.0  FWD      9599        9   No   \n",
       "\n",
       "      연식(년)  가격(백만원)  \n",
       "6033      0    41.45  "
      ]
     },
     "execution_count": 165,
     "metadata": {},
     "output_type": "execute_result"
    }
   ],
   "source": [
    "df_train.sample(1)"
   ]
  },
  {
   "cell_type": "code",
   "execution_count": 166,
   "metadata": {},
   "outputs": [
    {
     "data": {
      "text/html": [
       "<div>\n",
       "<style scoped>\n",
       "    .dataframe tbody tr th:only-of-type {\n",
       "        vertical-align: middle;\n",
       "    }\n",
       "\n",
       "    .dataframe tbody tr th {\n",
       "        vertical-align: top;\n",
       "    }\n",
       "\n",
       "    .dataframe thead th {\n",
       "        text-align: right;\n",
       "    }\n",
       "</style>\n",
       "<table border=\"1\" class=\"dataframe\">\n",
       "  <thead>\n",
       "    <tr style=\"text-align: right;\">\n",
       "      <th></th>\n",
       "      <th>ID</th>\n",
       "      <th>제조사</th>\n",
       "      <th>모델</th>\n",
       "      <th>차량상태</th>\n",
       "      <th>배터리용량</th>\n",
       "      <th>구동방식</th>\n",
       "      <th>주행거리(km)</th>\n",
       "      <th>보증기간(년)</th>\n",
       "      <th>사고이력</th>\n",
       "      <th>연식(년)</th>\n",
       "    </tr>\n",
       "  </thead>\n",
       "  <tbody>\n",
       "    <tr>\n",
       "      <th>178</th>\n",
       "      <td>TEST_178</td>\n",
       "      <td>A사</td>\n",
       "      <td>Q4eT</td>\n",
       "      <td>Nearly New</td>\n",
       "      <td>72.548</td>\n",
       "      <td>AWD</td>\n",
       "      <td>10801</td>\n",
       "      <td>5</td>\n",
       "      <td>No</td>\n",
       "      <td>1</td>\n",
       "    </tr>\n",
       "  </tbody>\n",
       "</table>\n",
       "</div>"
      ],
      "text/plain": [
       "           ID 제조사    모델        차량상태   배터리용량 구동방식  주행거리(km)  보증기간(년) 사고이력  \\\n",
       "178  TEST_178  A사  Q4eT  Nearly New  72.548  AWD     10801        5   No   \n",
       "\n",
       "     연식(년)  \n",
       "178      1  "
      ]
     },
     "execution_count": 166,
     "metadata": {},
     "output_type": "execute_result"
    }
   ],
   "source": [
    "df_test.sample(1)"
   ]
  },
  {
   "cell_type": "code",
   "execution_count": 167,
   "metadata": {},
   "outputs": [
    {
     "name": "stdout",
     "output_type": "stream",
     "text": [
      "['ID', '제조사', '모델', '차량상태', '배터리용량', '구동방식', '주행거리(km)', '보증기간(년)', '사고이력', '연식(년)', '가격(백만원)']\n"
     ]
    }
   ],
   "source": [
    "cols = list(df_train.columns)\n",
    "print(cols)"
   ]
  },
  {
   "cell_type": "code",
   "execution_count": 168,
   "metadata": {},
   "outputs": [
    {
     "name": "stdout",
     "output_type": "stream",
     "text": [
      "\"제조사\"의 value unique : 7\n",
      "\"모델\"의 value unique : 21\n",
      "\"차량상태\"의 value unique : 3\n",
      "\"배터리용량\"의 value unique : 195\n",
      "\"구동방식\"의 value unique : 3\n",
      "\"주행거리(km)\"의 value unique : 6916\n",
      "\"보증기간(년)\"의 value unique : 11\n",
      "\"사고이력\"의 value unique : 2\n",
      "\"연식(년)\"의 value unique : 3\n",
      "\"가격(백만원)\"의 value unique : 3950\n"
     ]
    }
   ],
   "source": [
    "for i in range(1, len(cols)):\n",
    "    print(f'\"{cols[i]}\"의 value unique : {len(df_train[cols[i]].unique())}')"
   ]
  },
  {
   "cell_type": "code",
   "execution_count": 169,
   "metadata": {},
   "outputs": [
    {
     "name": "stdout",
     "output_type": "stream",
     "text": [
      "\"제조사\"의 value unique : 7\n",
      "\"모델\"의 value unique : 21\n",
      "\"차량상태\"의 value unique : 3\n",
      "\"배터리용량\"의 value unique : 93\n",
      "\"구동방식\"의 value unique : 3\n",
      "\"주행거리(km)\"의 value unique : 842\n",
      "\"보증기간(년)\"의 value unique : 11\n",
      "\"사고이력\"의 value unique : 2\n",
      "\"연식(년)\"의 value unique : 3\n"
     ]
    }
   ],
   "source": [
    "for i in range(1, len(cols)-1):\n",
    "    print(f'\"{cols[i]}\"의 value unique : {len(df_test[cols[i]].unique())}')"
   ]
  },
  {
   "cell_type": "code",
   "execution_count": 170,
   "metadata": {},
   "outputs": [
    {
     "name": "stdout",
     "output_type": "stream",
     "text": [
      "[ 0  1  2  3  4  5  6  7  8  9 10] [ 0  1  2  3  4  5  6  7  8  9 10]\n"
     ]
    }
   ],
   "source": [
    "print(df_train['보증기간(년)'].sort_values().unique(), df_test['보증기간(년)'].sort_values().unique())"
   ]
  },
  {
   "cell_type": "code",
   "execution_count": 171,
   "metadata": {},
   "outputs": [
    {
     "data": {
      "text/plain": [
       "69.39718679481821"
      ]
     },
     "execution_count": 171,
     "metadata": {},
     "output_type": "execute_result"
    }
   ],
   "source": [
    "df_train['배터리용량'].mean()"
   ]
  },
  {
   "cell_type": "code",
   "execution_count": 172,
   "metadata": {},
   "outputs": [],
   "source": [
    "df_train['배터리용량'] = df_train['배터리용량'].fillna(df_train['배터리용량'].mean())"
   ]
  },
  {
   "cell_type": "code",
   "execution_count": 173,
   "metadata": {},
   "outputs": [
    {
     "data": {
      "text/plain": [
       "ID          0\n",
       "제조사         0\n",
       "모델          0\n",
       "차량상태        0\n",
       "배터리용량       0\n",
       "구동방식        0\n",
       "주행거리(km)    0\n",
       "보증기간(년)     0\n",
       "사고이력        0\n",
       "연식(년)       0\n",
       "가격(백만원)     0\n",
       "dtype: int64"
      ]
     },
     "execution_count": 173,
     "metadata": {},
     "output_type": "execute_result"
    }
   ],
   "source": [
    "df_train.isnull().sum()"
   ]
  },
  {
   "cell_type": "markdown",
   "metadata": {},
   "source": [
    "train, test 비교 결과 : 제조사, 모델, 차량상태, 구동방식, 보증기간, 사고이력에서는 나타나는 값의 종류가 동일\n"
   ]
  },
  {
   "cell_type": "markdown",
   "metadata": {},
   "source": [
    "'ID', '제조사', '모델', '차량상태', '배터리용량', '구동방식', '주행거리(km)', '보증기간(년)', '사고이력', '연식(년)', '가격(백만원)'\n",
    "\n",
    "### 가격에 직접적인 영향(스케일링_연속값 0 ~ 1) : 차량상태, 주행거리, 보증기간, 사고이력, 연식\n",
    "\n",
    "### 가격에 간접적인 영향(원-핫 인코딩) : 제조사==모델?, 구동방식\n",
    "\n",
    "원핫인코딩 : 각 레이블마다 1을 부여하면서 쪼갬\n",
    "\n",
    "라벨인코딩 : 해당 열의 값에 0부터 순서대로 번호 부여"
   ]
  },
  {
   "cell_type": "markdown",
   "metadata": {},
   "source": [
    "\"제조사\"의 value unique : 7\n",
    "\n",
    "\"모델\"의 value unique : 21\n",
    "\n",
    "\"차량상태\"의 value unique : 3\n",
    "\n",
    "\"배터리용량\"의 value unique : 195\n",
    "\n",
    "\"구동방식\"의 value unique : 3\n",
    "\n",
    "\"주행거리(km)\"의 value unique : 6916\n",
    "\n",
    "\"보증기간(년)\"의 value unique : 11\n",
    "\n",
    "\"사고이력\"의 value unique : 2\n",
    "\n",
    "\"연식(년)\"의 value unique : 3\n",
    "\n",
    "\"가격(백만원)\"의 value unique : 3950"
   ]
  },
  {
   "cell_type": "code",
   "execution_count": 174,
   "metadata": {},
   "outputs": [],
   "source": [
    "df_train = df_train.rename(columns={\n",
    "    '제조사':'Company', # 안씀\n",
    "    '모델': 'Vehicle_Model', # 원핫(21)\n",
    "    '차량상태':'Status', # 라벨(3)\n",
    "    '배터리용량':'Battery', # raw 사용\n",
    "    '구동방식': 'Driving_Method', # 원핫(11)\n",
    "    '주행거리(km)':'Distance', # raw 사용\n",
    "    '보증기간(년)':'Warranty', # 원핫(11)\n",
    "    '사고이력':'Accident', # 라벨(2)\n",
    "    '연식(년)':'Year', #라벨(3)\n",
    "    '가격(백만원)':'Price'}) # 예측값 "
   ]
  },
  {
   "cell_type": "code",
   "execution_count": 175,
   "metadata": {},
   "outputs": [
    {
     "data": {
      "text/plain": [
       "Index(['ID', 'Company', 'Vehicle_Model', 'Status', 'Battery', 'Driving_Method',\n",
       "       'Distance', 'Warranty', 'Accident', 'Year', 'Price'],\n",
       "      dtype='object')"
      ]
     },
     "execution_count": 175,
     "metadata": {},
     "output_type": "execute_result"
    }
   ],
   "source": [
    "df_train.columns"
   ]
  },
  {
   "cell_type": "code",
   "execution_count": 176,
   "metadata": {},
   "outputs": [
    {
     "data": {
      "text/plain": [
       "Index(['ID', 'Company', 'Battery', 'Distance', 'Accident', 'Year', 'Price',\n",
       "       'Vehicle_Model_EV6', 'Vehicle_Model_ID4', 'Vehicle_Model_ION5',\n",
       "       'Vehicle_Model_ION6', 'Vehicle_Model_IONIQ', 'Vehicle_Model_KNE',\n",
       "       'Vehicle_Model_M3', 'Vehicle_Model_MS', 'Vehicle_Model_MX',\n",
       "       'Vehicle_Model_MY', 'Vehicle_Model_Niro', 'Vehicle_Model_Q4eT',\n",
       "       'Vehicle_Model_RSeTGT', 'Vehicle_Model_Soul', 'Vehicle_Model_Tay',\n",
       "       'Vehicle_Model_TayCT', 'Vehicle_Model_TayGTS', 'Vehicle_Model_eT',\n",
       "       'Vehicle_Model_i3', 'Vehicle_Model_i5', 'Vehicle_Model_iX',\n",
       "       'Driving_Method_AWD', 'Driving_Method_FWD', 'Driving_Method_RWD',\n",
       "       'Warranty_0', 'Warranty_1', 'Warranty_2', 'Warranty_3', 'Warranty_4',\n",
       "       'Warranty_5', 'Warranty_6', 'Warranty_7', 'Warranty_8', 'Warranty_9',\n",
       "       'Warranty_10', 'Status_Brand New', 'Status_Nearly New',\n",
       "       'Status_Pre-Owned'],\n",
       "      dtype='object')"
      ]
     },
     "execution_count": 176,
     "metadata": {},
     "output_type": "execute_result"
    }
   ],
   "source": [
    "from sklearn.preprocessing import OneHotEncoder\n",
    "import numpy as np\n",
    "\n",
    "encoder = OneHotEncoder(sparse_output=False)\n",
    "\n",
    "encoded_data = encoder.fit_transform(df_train[['Vehicle_Model', 'Driving_Method','Warranty','Status']])\n",
    "encoded_df = pd.DataFrame(encoded_data, columns=encoder.get_feature_names_out(['Vehicle_Model', 'Driving_Method','Warranty','Status']))\n",
    "\n",
    "# 기존 데이터프레임에 원핫 인코딩된 데이터 추가\n",
    "df_train = pd.concat([df_train, encoded_df], axis=1)\n",
    "df_train.drop(['Vehicle_Model','Driving_Method','Warranty','Status'], axis=1, inplace = True)\n",
    "df_train.columns"
   ]
  },
  {
   "cell_type": "code",
   "execution_count": 177,
   "metadata": {},
   "outputs": [
    {
     "data": {
      "text/html": [
       "<div>\n",
       "<style scoped>\n",
       "    .dataframe tbody tr th:only-of-type {\n",
       "        vertical-align: middle;\n",
       "    }\n",
       "\n",
       "    .dataframe tbody tr th {\n",
       "        vertical-align: top;\n",
       "    }\n",
       "\n",
       "    .dataframe thead th {\n",
       "        text-align: right;\n",
       "    }\n",
       "</style>\n",
       "<table border=\"1\" class=\"dataframe\">\n",
       "  <thead>\n",
       "    <tr style=\"text-align: right;\">\n",
       "      <th></th>\n",
       "      <th>ID</th>\n",
       "      <th>Company</th>\n",
       "      <th>Battery</th>\n",
       "      <th>Distance</th>\n",
       "      <th>Accident</th>\n",
       "      <th>Year</th>\n",
       "      <th>Price</th>\n",
       "      <th>Vehicle_Model_EV6</th>\n",
       "      <th>Vehicle_Model_ID4</th>\n",
       "      <th>Vehicle_Model_ION5</th>\n",
       "      <th>...</th>\n",
       "      <th>Warranty_4</th>\n",
       "      <th>Warranty_5</th>\n",
       "      <th>Warranty_6</th>\n",
       "      <th>Warranty_7</th>\n",
       "      <th>Warranty_8</th>\n",
       "      <th>Warranty_9</th>\n",
       "      <th>Warranty_10</th>\n",
       "      <th>Status_Brand New</th>\n",
       "      <th>Status_Nearly New</th>\n",
       "      <th>Status_Pre-Owned</th>\n",
       "    </tr>\n",
       "  </thead>\n",
       "  <tbody>\n",
       "    <tr>\n",
       "      <th>6672</th>\n",
       "      <td>TRAIN_6672</td>\n",
       "      <td>B사</td>\n",
       "      <td>69.397187</td>\n",
       "      <td>3007</td>\n",
       "      <td>1</td>\n",
       "      <td>0</td>\n",
       "      <td>24.14</td>\n",
       "      <td>0.0</td>\n",
       "      <td>0.0</td>\n",
       "      <td>0.0</td>\n",
       "      <td>...</td>\n",
       "      <td>0.0</td>\n",
       "      <td>0.0</td>\n",
       "      <td>0.0</td>\n",
       "      <td>0.0</td>\n",
       "      <td>1.0</td>\n",
       "      <td>0.0</td>\n",
       "      <td>0.0</td>\n",
       "      <td>1.0</td>\n",
       "      <td>0.0</td>\n",
       "      <td>0.0</td>\n",
       "    </tr>\n",
       "    <tr>\n",
       "      <th>2279</th>\n",
       "      <td>TRAIN_2279</td>\n",
       "      <td>T사</td>\n",
       "      <td>75.145000</td>\n",
       "      <td>144807</td>\n",
       "      <td>-1</td>\n",
       "      <td>0</td>\n",
       "      <td>80.53</td>\n",
       "      <td>0.0</td>\n",
       "      <td>0.0</td>\n",
       "      <td>0.0</td>\n",
       "      <td>...</td>\n",
       "      <td>0.0</td>\n",
       "      <td>0.0</td>\n",
       "      <td>0.0</td>\n",
       "      <td>0.0</td>\n",
       "      <td>0.0</td>\n",
       "      <td>0.0</td>\n",
       "      <td>0.0</td>\n",
       "      <td>0.0</td>\n",
       "      <td>0.0</td>\n",
       "      <td>1.0</td>\n",
       "    </tr>\n",
       "    <tr>\n",
       "      <th>1448</th>\n",
       "      <td>TRAIN_1448</td>\n",
       "      <td>H사</td>\n",
       "      <td>69.397187</td>\n",
       "      <td>651</td>\n",
       "      <td>1</td>\n",
       "      <td>0</td>\n",
       "      <td>21.92</td>\n",
       "      <td>0.0</td>\n",
       "      <td>0.0</td>\n",
       "      <td>0.0</td>\n",
       "      <td>...</td>\n",
       "      <td>0.0</td>\n",
       "      <td>0.0</td>\n",
       "      <td>0.0</td>\n",
       "      <td>0.0</td>\n",
       "      <td>0.0</td>\n",
       "      <td>0.0</td>\n",
       "      <td>1.0</td>\n",
       "      <td>1.0</td>\n",
       "      <td>0.0</td>\n",
       "      <td>0.0</td>\n",
       "    </tr>\n",
       "  </tbody>\n",
       "</table>\n",
       "<p>3 rows × 45 columns</p>\n",
       "</div>"
      ],
      "text/plain": [
       "              ID Company    Battery  Distance  Accident  Year  Price  \\\n",
       "6672  TRAIN_6672      B사  69.397187      3007         1     0  24.14   \n",
       "2279  TRAIN_2279      T사  75.145000    144807        -1     0  80.53   \n",
       "1448  TRAIN_1448      H사  69.397187       651         1     0  21.92   \n",
       "\n",
       "      Vehicle_Model_EV6  Vehicle_Model_ID4  Vehicle_Model_ION5  ...  \\\n",
       "6672                0.0                0.0                 0.0  ...   \n",
       "2279                0.0                0.0                 0.0  ...   \n",
       "1448                0.0                0.0                 0.0  ...   \n",
       "\n",
       "      Warranty_4  Warranty_5  Warranty_6  Warranty_7  Warranty_8  Warranty_9  \\\n",
       "6672         0.0         0.0         0.0         0.0         1.0         0.0   \n",
       "2279         0.0         0.0         0.0         0.0         0.0         0.0   \n",
       "1448         0.0         0.0         0.0         0.0         0.0         0.0   \n",
       "\n",
       "      Warranty_10  Status_Brand New  Status_Nearly New  Status_Pre-Owned  \n",
       "6672          0.0               1.0                0.0               0.0  \n",
       "2279          0.0               0.0                0.0               1.0  \n",
       "1448          1.0               1.0                0.0               0.0  \n",
       "\n",
       "[3 rows x 45 columns]"
      ]
     },
     "execution_count": 177,
     "metadata": {},
     "output_type": "execute_result"
    }
   ],
   "source": [
    "mapping = {'No' : 1, 'Yes' : -1}\n",
    "\n",
    "df_train['Accident'] = df_train['Accident'].map(mapping)\n",
    "df_train.sample(3)"
   ]
  },
  {
   "cell_type": "code",
   "execution_count": 178,
   "metadata": {},
   "outputs": [],
   "source": [
    "df_train.drop(['ID','Company'], axis=1, inplace = True)"
   ]
  },
  {
   "cell_type": "code",
   "execution_count": 179,
   "metadata": {},
   "outputs": [
    {
     "data": {
      "text/html": [
       "<div>\n",
       "<style scoped>\n",
       "    .dataframe tbody tr th:only-of-type {\n",
       "        vertical-align: middle;\n",
       "    }\n",
       "\n",
       "    .dataframe tbody tr th {\n",
       "        vertical-align: top;\n",
       "    }\n",
       "\n",
       "    .dataframe thead th {\n",
       "        text-align: right;\n",
       "    }\n",
       "</style>\n",
       "<table border=\"1\" class=\"dataframe\">\n",
       "  <thead>\n",
       "    <tr style=\"text-align: right;\">\n",
       "      <th></th>\n",
       "      <th>Battery</th>\n",
       "      <th>Distance</th>\n",
       "      <th>Accident</th>\n",
       "      <th>Year</th>\n",
       "      <th>Price</th>\n",
       "      <th>Vehicle_Model_EV6</th>\n",
       "      <th>Vehicle_Model_ID4</th>\n",
       "      <th>Vehicle_Model_ION5</th>\n",
       "      <th>Vehicle_Model_ION6</th>\n",
       "      <th>Vehicle_Model_IONIQ</th>\n",
       "      <th>...</th>\n",
       "      <th>Warranty_4</th>\n",
       "      <th>Warranty_5</th>\n",
       "      <th>Warranty_6</th>\n",
       "      <th>Warranty_7</th>\n",
       "      <th>Warranty_8</th>\n",
       "      <th>Warranty_9</th>\n",
       "      <th>Warranty_10</th>\n",
       "      <th>Status_Brand New</th>\n",
       "      <th>Status_Nearly New</th>\n",
       "      <th>Status_Pre-Owned</th>\n",
       "    </tr>\n",
       "  </thead>\n",
       "  <tbody>\n",
       "    <tr>\n",
       "      <th>3343</th>\n",
       "      <td>51.940000</td>\n",
       "      <td>175220</td>\n",
       "      <td>1</td>\n",
       "      <td>0</td>\n",
       "      <td>50.88</td>\n",
       "      <td>0.0</td>\n",
       "      <td>0.0</td>\n",
       "      <td>0.0</td>\n",
       "      <td>0.0</td>\n",
       "      <td>0.0</td>\n",
       "      <td>...</td>\n",
       "      <td>0.0</td>\n",
       "      <td>0.0</td>\n",
       "      <td>0.0</td>\n",
       "      <td>0.0</td>\n",
       "      <td>0.0</td>\n",
       "      <td>0.0</td>\n",
       "      <td>0.0</td>\n",
       "      <td>0.0</td>\n",
       "      <td>0.0</td>\n",
       "      <td>1.0</td>\n",
       "    </tr>\n",
       "    <tr>\n",
       "      <th>7234</th>\n",
       "      <td>69.397187</td>\n",
       "      <td>7662</td>\n",
       "      <td>1</td>\n",
       "      <td>0</td>\n",
       "      <td>38.58</td>\n",
       "      <td>0.0</td>\n",
       "      <td>0.0</td>\n",
       "      <td>0.0</td>\n",
       "      <td>1.0</td>\n",
       "      <td>0.0</td>\n",
       "      <td>...</td>\n",
       "      <td>0.0</td>\n",
       "      <td>0.0</td>\n",
       "      <td>0.0</td>\n",
       "      <td>0.0</td>\n",
       "      <td>0.0</td>\n",
       "      <td>0.0</td>\n",
       "      <td>1.0</td>\n",
       "      <td>1.0</td>\n",
       "      <td>0.0</td>\n",
       "      <td>0.0</td>\n",
       "    </tr>\n",
       "    <tr>\n",
       "      <th>3833</th>\n",
       "      <td>91.200000</td>\n",
       "      <td>2584</td>\n",
       "      <td>1</td>\n",
       "      <td>0</td>\n",
       "      <td>65.25</td>\n",
       "      <td>0.0</td>\n",
       "      <td>0.0</td>\n",
       "      <td>0.0</td>\n",
       "      <td>0.0</td>\n",
       "      <td>0.0</td>\n",
       "      <td>...</td>\n",
       "      <td>0.0</td>\n",
       "      <td>0.0</td>\n",
       "      <td>0.0</td>\n",
       "      <td>1.0</td>\n",
       "      <td>0.0</td>\n",
       "      <td>0.0</td>\n",
       "      <td>0.0</td>\n",
       "      <td>1.0</td>\n",
       "      <td>0.0</td>\n",
       "      <td>0.0</td>\n",
       "    </tr>\n",
       "    <tr>\n",
       "      <th>6757</th>\n",
       "      <td>69.397187</td>\n",
       "      <td>1079</td>\n",
       "      <td>1</td>\n",
       "      <td>0</td>\n",
       "      <td>120.00</td>\n",
       "      <td>0.0</td>\n",
       "      <td>0.0</td>\n",
       "      <td>0.0</td>\n",
       "      <td>0.0</td>\n",
       "      <td>0.0</td>\n",
       "      <td>...</td>\n",
       "      <td>0.0</td>\n",
       "      <td>0.0</td>\n",
       "      <td>0.0</td>\n",
       "      <td>0.0</td>\n",
       "      <td>0.0</td>\n",
       "      <td>0.0</td>\n",
       "      <td>0.0</td>\n",
       "      <td>1.0</td>\n",
       "      <td>0.0</td>\n",
       "      <td>0.0</td>\n",
       "    </tr>\n",
       "    <tr>\n",
       "      <th>16</th>\n",
       "      <td>76.093000</td>\n",
       "      <td>49335</td>\n",
       "      <td>1</td>\n",
       "      <td>0</td>\n",
       "      <td>130.61</td>\n",
       "      <td>0.0</td>\n",
       "      <td>0.0</td>\n",
       "      <td>0.0</td>\n",
       "      <td>0.0</td>\n",
       "      <td>0.0</td>\n",
       "      <td>...</td>\n",
       "      <td>0.0</td>\n",
       "      <td>0.0</td>\n",
       "      <td>0.0</td>\n",
       "      <td>0.0</td>\n",
       "      <td>0.0</td>\n",
       "      <td>0.0</td>\n",
       "      <td>0.0</td>\n",
       "      <td>0.0</td>\n",
       "      <td>1.0</td>\n",
       "      <td>0.0</td>\n",
       "    </tr>\n",
       "  </tbody>\n",
       "</table>\n",
       "<p>5 rows × 43 columns</p>\n",
       "</div>"
      ],
      "text/plain": [
       "        Battery  Distance  Accident  Year   Price  Vehicle_Model_EV6  \\\n",
       "3343  51.940000    175220         1     0   50.88                0.0   \n",
       "7234  69.397187      7662         1     0   38.58                0.0   \n",
       "3833  91.200000      2584         1     0   65.25                0.0   \n",
       "6757  69.397187      1079         1     0  120.00                0.0   \n",
       "16    76.093000     49335         1     0  130.61                0.0   \n",
       "\n",
       "      Vehicle_Model_ID4  Vehicle_Model_ION5  Vehicle_Model_ION6  \\\n",
       "3343                0.0                 0.0                 0.0   \n",
       "7234                0.0                 0.0                 1.0   \n",
       "3833                0.0                 0.0                 0.0   \n",
       "6757                0.0                 0.0                 0.0   \n",
       "16                  0.0                 0.0                 0.0   \n",
       "\n",
       "      Vehicle_Model_IONIQ  ...  Warranty_4  Warranty_5  Warranty_6  \\\n",
       "3343                  0.0  ...         0.0         0.0         0.0   \n",
       "7234                  0.0  ...         0.0         0.0         0.0   \n",
       "3833                  0.0  ...         0.0         0.0         0.0   \n",
       "6757                  0.0  ...         0.0         0.0         0.0   \n",
       "16                    0.0  ...         0.0         0.0         0.0   \n",
       "\n",
       "      Warranty_7  Warranty_8  Warranty_9  Warranty_10  Status_Brand New  \\\n",
       "3343         0.0         0.0         0.0          0.0               0.0   \n",
       "7234         0.0         0.0         0.0          1.0               1.0   \n",
       "3833         1.0         0.0         0.0          0.0               1.0   \n",
       "6757         0.0         0.0         0.0          0.0               1.0   \n",
       "16           0.0         0.0         0.0          0.0               0.0   \n",
       "\n",
       "      Status_Nearly New  Status_Pre-Owned  \n",
       "3343                0.0               1.0  \n",
       "7234                0.0               0.0  \n",
       "3833                0.0               0.0  \n",
       "6757                0.0               0.0  \n",
       "16                  1.0               0.0  \n",
       "\n",
       "[5 rows x 43 columns]"
      ]
     },
     "execution_count": 179,
     "metadata": {},
     "output_type": "execute_result"
    }
   ],
   "source": [
    "df_train.sample(5)"
   ]
  },
  {
   "cell_type": "code",
   "execution_count": 181,
   "metadata": {},
   "outputs": [
    {
     "data": {
      "text/html": [
       "<div>\n",
       "<style scoped>\n",
       "    .dataframe tbody tr th:only-of-type {\n",
       "        vertical-align: middle;\n",
       "    }\n",
       "\n",
       "    .dataframe tbody tr th {\n",
       "        vertical-align: top;\n",
       "    }\n",
       "\n",
       "    .dataframe thead th {\n",
       "        text-align: right;\n",
       "    }\n",
       "</style>\n",
       "<table border=\"1\" class=\"dataframe\">\n",
       "  <thead>\n",
       "    <tr style=\"text-align: right;\">\n",
       "      <th></th>\n",
       "      <th>Battery</th>\n",
       "      <th>Distance</th>\n",
       "      <th>Accident</th>\n",
       "      <th>Year</th>\n",
       "      <th>Price</th>\n",
       "      <th>Vehicle_Model_EV6</th>\n",
       "      <th>Vehicle_Model_ID4</th>\n",
       "      <th>Vehicle_Model_ION5</th>\n",
       "      <th>Vehicle_Model_ION6</th>\n",
       "      <th>Vehicle_Model_IONIQ</th>\n",
       "      <th>...</th>\n",
       "      <th>Warranty_4</th>\n",
       "      <th>Warranty_5</th>\n",
       "      <th>Warranty_6</th>\n",
       "      <th>Warranty_7</th>\n",
       "      <th>Warranty_8</th>\n",
       "      <th>Warranty_9</th>\n",
       "      <th>Warranty_10</th>\n",
       "      <th>Status_Brand New</th>\n",
       "      <th>Status_Nearly New</th>\n",
       "      <th>Status_Pre-Owned</th>\n",
       "    </tr>\n",
       "  </thead>\n",
       "  <tbody>\n",
       "    <tr>\n",
       "      <th>3541</th>\n",
       "      <td>-1.429718e+00</td>\n",
       "      <td>2.131489</td>\n",
       "      <td>1</td>\n",
       "      <td>0</td>\n",
       "      <td>74.66</td>\n",
       "      <td>0.0</td>\n",
       "      <td>0.0</td>\n",
       "      <td>0.0</td>\n",
       "      <td>0.0</td>\n",
       "      <td>0.0</td>\n",
       "      <td>...</td>\n",
       "      <td>0.0</td>\n",
       "      <td>0.0</td>\n",
       "      <td>0.0</td>\n",
       "      <td>0.0</td>\n",
       "      <td>0.0</td>\n",
       "      <td>0.0</td>\n",
       "      <td>0.0</td>\n",
       "      <td>0.0</td>\n",
       "      <td>0.0</td>\n",
       "      <td>1.0</td>\n",
       "    </tr>\n",
       "    <tr>\n",
       "      <th>3746</th>\n",
       "      <td>-1.163848e-15</td>\n",
       "      <td>-0.674144</td>\n",
       "      <td>1</td>\n",
       "      <td>0</td>\n",
       "      <td>40.04</td>\n",
       "      <td>0.0</td>\n",
       "      <td>1.0</td>\n",
       "      <td>0.0</td>\n",
       "      <td>0.0</td>\n",
       "      <td>0.0</td>\n",
       "      <td>...</td>\n",
       "      <td>0.0</td>\n",
       "      <td>0.0</td>\n",
       "      <td>0.0</td>\n",
       "      <td>0.0</td>\n",
       "      <td>1.0</td>\n",
       "      <td>0.0</td>\n",
       "      <td>0.0</td>\n",
       "      <td>1.0</td>\n",
       "      <td>0.0</td>\n",
       "      <td>0.0</td>\n",
       "    </tr>\n",
       "    <tr>\n",
       "      <th>5849</th>\n",
       "      <td>2.096833e+00</td>\n",
       "      <td>-0.650249</td>\n",
       "      <td>1</td>\n",
       "      <td>0</td>\n",
       "      <td>59.62</td>\n",
       "      <td>0.0</td>\n",
       "      <td>0.0</td>\n",
       "      <td>0.0</td>\n",
       "      <td>0.0</td>\n",
       "      <td>0.0</td>\n",
       "      <td>...</td>\n",
       "      <td>0.0</td>\n",
       "      <td>0.0</td>\n",
       "      <td>0.0</td>\n",
       "      <td>0.0</td>\n",
       "      <td>1.0</td>\n",
       "      <td>0.0</td>\n",
       "      <td>0.0</td>\n",
       "      <td>1.0</td>\n",
       "      <td>0.0</td>\n",
       "      <td>0.0</td>\n",
       "    </tr>\n",
       "  </tbody>\n",
       "</table>\n",
       "<p>3 rows × 43 columns</p>\n",
       "</div>"
      ],
      "text/plain": [
       "           Battery  Distance  Accident  Year  Price  Vehicle_Model_EV6  \\\n",
       "3541 -1.429718e+00  2.131489         1     0  74.66                0.0   \n",
       "3746 -1.163848e-15 -0.674144         1     0  40.04                0.0   \n",
       "5849  2.096833e+00 -0.650249         1     0  59.62                0.0   \n",
       "\n",
       "      Vehicle_Model_ID4  Vehicle_Model_ION5  Vehicle_Model_ION6  \\\n",
       "3541                0.0                 0.0                 0.0   \n",
       "3746                1.0                 0.0                 0.0   \n",
       "5849                0.0                 0.0                 0.0   \n",
       "\n",
       "      Vehicle_Model_IONIQ  ...  Warranty_4  Warranty_5  Warranty_6  \\\n",
       "3541                  0.0  ...         0.0         0.0         0.0   \n",
       "3746                  0.0  ...         0.0         0.0         0.0   \n",
       "5849                  0.0  ...         0.0         0.0         0.0   \n",
       "\n",
       "      Warranty_7  Warranty_8  Warranty_9  Warranty_10  Status_Brand New  \\\n",
       "3541         0.0         0.0         0.0          0.0               0.0   \n",
       "3746         0.0         1.0         0.0          0.0               1.0   \n",
       "5849         0.0         1.0         0.0          0.0               1.0   \n",
       "\n",
       "      Status_Nearly New  Status_Pre-Owned  \n",
       "3541                0.0               1.0  \n",
       "3746                0.0               0.0  \n",
       "5849                0.0               0.0  \n",
       "\n",
       "[3 rows x 43 columns]"
      ]
     },
     "execution_count": 181,
     "metadata": {},
     "output_type": "execute_result"
    }
   ],
   "source": [
    "from sklearn.preprocessing import StandardScaler\n",
    "\n",
    "s = StandardScaler()\n",
    "df_train[['Battery', 'Distance']] = s.fit_transform(df_train[['Battery', 'Distance']])\n",
    "df_train.sample(3)"
   ]
  },
  {
   "cell_type": "code",
   "execution_count": 185,
   "metadata": {},
   "outputs": [
    {
     "data": {
      "image/png": "[encoded data removed]",
      "text/plain": [
       "<Figure size 1000x800 with 2 Axes>"
      ]
     },
     "metadata": {},
     "output_type": "display_data"
    }
   ],
   "source": [
    "import seaborn as sns\n",
    "import matplotlib.pyplot as plt\n",
    "\n",
    "# 상관계수 계산\n",
    "correlation_matrix = df_train.corr()\n",
    "\n",
    "corr_matrix = correlation_matrix[correlation_matrix.abs() > 0.5]\n",
    "\n",
    "# 히트맵 시각화\n",
    "plt.figure(figsize=(10, 8))\n",
    "sns.heatmap(corr_matrix, annot=False, fmt='.2f', cmap='coolwarm')\n",
    "plt.title('Correlation Matrix')\n",
    "plt.show()"
   ]
  },
  {
   "cell_type": "code",
   "execution_count": null,
   "metadata": {},
   "outputs": [],
   "source": []
  },
  {
   "cell_type": "code",
   "execution_count": null,
   "metadata": {},
   "outputs": [],
   "source": []
  }
 ],
 "metadata": {
  "kernelspec": {
   "display_name": "py3_11_9",
   "language": "python",
   "name": "python3"
  },
  "language_info": {
   "codemirror_mode": {
    "name": "ipython",
    "version": 3
   },
   "file_extension": ".py",
   "mimetype": "text/x-python",
   "name": "python",
   "nbconvert_exporter": "python",
   "pygments_lexer": "ipython3",
   "version": "3.11.9"
  }
 },
 "nbformat": 4,
 "nbformat_minor": 2
}
