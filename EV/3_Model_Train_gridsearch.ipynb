{
 "cells": [
  {
   "cell_type": "code",
   "execution_count": 1,
   "metadata": {},
   "outputs": [],
   "source": [
    "import pandas as pd\n",
    "import numpy as np\n",
    "from sklearn.model_selection import train_test_split\n",
    "from xgboost import XGBRegressor  # 회귀 문제로 수정\n",
    "from sklearn.metrics import accuracy_score, mean_squared_error, mean_absolute_error\n",
    "from math import sqrt"
   ]
  },
  {
   "cell_type": "code",
   "execution_count": 2,
   "metadata": {},
   "outputs": [],
   "source": [
    "train = pd.read_csv('./train_data.csv', index_col=0)\n",
    "test = pd.read_csv('./test_data.csv', index_col=0)"
   ]
  },
  {
   "cell_type": "code",
   "execution_count": 3,
   "metadata": {},
   "outputs": [],
   "source": [
    "X = train.drop('Price', axis=1)  # 특성 (Features)\n",
    "y = train['Price']  # 타겟 (Target)\n",
    "\n",
    "# 학습 데이터와 테스트 데이터로 분할 (80% 학습, 20% 테스트)\n",
    "# X_train, X_test, y_train, y_test = train_test_split(X, y, test_size=0.2, random_state=42)\n"
   ]
  },
  {
   "cell_type": "code",
   "execution_count": null,
   "metadata": {},
   "outputs": [
    {
     "name": "stdout",
     "output_type": "stream",
     "text": [
      "Fitting 3 folds for each of 243 candidates, totalling 729 fits\n",
      "Best parameters (XGBoost): {'colsample_bytree': 0.9, 'learning_rate': 0.3, 'max_depth': 5, 'min_child_weight': 1, 'subsample': 1}\n",
      "Best RMSE (XGBoost): 1.4029183009358164\n"
     ]
    }
   ],
   "source": [
    "from sklearn.model_selection import GridSearchCV\n",
    "from xgboost import XGBRegressor\n",
    "\n",
    "# XGBoost 모델 초기화\n",
    "xgb_model = XGBRegressor(objective='reg:squarederror', random_state=42)\n",
    "\n",
    "# 하이퍼파라미터 그리드 정의\n",
    "param_grid_xgb = {\n",
    "    'learning_rate': [0.01, 0.1, 0.3],\n",
    "    'max_depth': [3, 5, 7],\n",
    "    'min_child_weight': [1, 3, 5],\n",
    "    'subsample': [0.8, 0.9, 1],\n",
    "    'colsample_bytree': [0.8, 0.9, 1]\n",
    "}\n",
    "\n",
    "# 그리드 서치 수행\n",
    "grid_search_xgb = GridSearchCV(estimator=xgb_model, param_grid=param_grid_xgb, scoring='neg_root_mean_squared_error', cv=3, n_jobs=-1, verbose=1)\n",
    "grid_search_xgb.fit(X, y)\n",
    "\n",
    "# 최적 파라미터 출력\n",
    "print(f\"Best parameters (XGBoost): {grid_search_xgb.best_params_}\")\n",
    "print(f\"Best RMSE (XGBoost): {-grid_search_xgb.best_score_}\")\n"
   ]
  },
  {
   "cell_type": "code",
   "execution_count": 6,
   "metadata": {},
   "outputs": [],
   "source": [
    "# 최적 모델로 예측 수행\n",
    "best_model_xgb = grid_search_xgb.best_estimator_\n",
    "y_pred_xgb = best_model_xgb.predict(test)"
   ]
  },
  {
   "cell_type": "code",
   "execution_count": 7,
   "metadata": {},
   "outputs": [],
   "source": [
    "submission = pd.read_csv('./sample_submission.csv')\n",
    "submission['가격(백만원)'] = y_pred_xgb\n",
    "submission.to_csv('./Grid_XGB_sample.csv', index=False)"
   ]
  },
  {
   "cell_type": "code",
   "execution_count": 12,
   "metadata": {},
   "outputs": [
    {
     "name": "stdout",
     "output_type": "stream",
     "text": [
      "Fitting 3 folds for each of 243 candidates, totalling 729 fits\n",
      "[LightGBM] [Warning] Found whitespace in feature_names, replace with underlines\n",
      "[LightGBM] [Info] Auto-choosing row-wise multi-threading, the overhead of testing was 0.000739 seconds.\n",
      "You can set `force_row_wise=true` to remove the overhead.\n",
      "And if memory is not enough, you can set `force_col_wise=true`.\n",
      "[LightGBM] [Info] Total Bins 440\n",
      "[LightGBM] [Info] Number of data points in the train set: 7497, number of used features: 42\n",
      "[LightGBM] [Info] Start training from score 62.331949\n",
      "Best parameters (LightGBM): {'colsample_bytree': 1, 'learning_rate': 0.1, 'max_depth': -1, 'num_leaves': 31, 'subsample': 0.8}\n",
      "Best RMSE (LightGBM): 1.3558846841260266\n"
     ]
    }
   ],
   "source": [
    "from sklearn.model_selection import GridSearchCV\n",
    "import lightgbm as lgb\n",
    "from sklearn.model_selection import ParameterGrid\n",
    "from tqdm import tqdm\n",
    "# LightGBM 모델 초기화\n",
    "lgb_model = lgb.LGBMRegressor(objective='regression', random_state=42)\n",
    "\n",
    "# 하이퍼파라미터 그리드 정의\n",
    "param_grid_lgb = {\n",
    "    'learning_rate': [0.01, 0.1, 0.3],\n",
    "    'num_leaves': [31, 50, 100],\n",
    "    'max_depth': [-1, 5, 10],\n",
    "    'subsample': [0.8, 0.9, 1],\n",
    "    'colsample_bytree': [0.8, 0.9, 1]\n",
    "}\n",
    "\n",
    "# 그리드 서치 수행\n",
    "grid_search_lgb = GridSearchCV(estimator=lgb_model, param_grid=param_grid_lgb, scoring='neg_root_mean_squared_error', cv=3, n_jobs=-1, verbose=1)\n",
    "grid_search_lgb.fit(X, y)\n",
    "\n",
    "print(f\"Best parameters (LightGBM): {grid_search_lgb.best_params_}\")\n",
    "print(f\"Best RMSE (LightGBM): {-grid_search_lgb.best_score_}\")\n"
   ]
  },
  {
   "cell_type": "code",
   "execution_count": 13,
   "metadata": {},
   "outputs": [],
   "source": [
    "# 최적 모델로 예측 수행\n",
    "best_model_lgb = grid_search_lgb.best_estimator_\n",
    "y_pred_lgb = best_model_lgb.predict(test)"
   ]
  },
  {
   "cell_type": "code",
   "execution_count": 14,
   "metadata": {},
   "outputs": [],
   "source": [
    "submission = pd.read_csv('./sample_submission.csv')\n",
    "submission['가격(백만원)'] = y_pred_lgb\n",
    "submission.to_csv('./Grid_LGBM_sample.csv', index=False)"
   ]
  },
  {
   "cell_type": "code",
   "execution_count": null,
   "metadata": {},
   "outputs": [],
   "source": []
  }
 ],
 "metadata": {
  "kernelspec": {
   "display_name": "py3_11_9",
   "language": "python",
   "name": "python3"
  },
  "language_info": {
   "codemirror_mode": {
    "name": "ipython",
    "version": 3
   },
   "file_extension": ".py",
   "mimetype": "text/x-python",
   "name": "python",
   "nbconvert_exporter": "python",
   "pygments_lexer": "ipython3",
   "version": "3.11.9"
  }
 },
 "nbformat": 4,
 "nbformat_minor": 2
}
