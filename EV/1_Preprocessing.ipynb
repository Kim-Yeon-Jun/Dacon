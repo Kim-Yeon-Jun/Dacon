{
 "cells": [
  {
   "cell_type": "code",
   "execution_count": 13,
   "metadata": {},
   "outputs": [],
   "source": [
    "import pandas as pd\n",
    "from sklearn.preprocessing import OneHotEncoder, StandardScaler\n",
    "import numpy as np"
   ]
  },
  {
   "cell_type": "code",
   "execution_count": 14,
   "metadata": {},
   "outputs": [],
   "source": [
    "df_train = pd.read_csv('./train.csv')\n",
    "df_test = pd.read_csv('./test.csv')"
   ]
  },
  {
   "cell_type": "code",
   "execution_count": 15,
   "metadata": {},
   "outputs": [],
   "source": [
    "df_train['배터리용량'] = df_train['배터리용량'].fillna(df_train['배터리용량'].mean())\n",
    "df_test['배터리용량'] = df_test['배터리용량'].fillna(df_train['배터리용량'].mean())"
   ]
  },
  {
   "cell_type": "code",
   "execution_count": 16,
   "metadata": {},
   "outputs": [],
   "source": [
    "def preprocess(df):\n",
    "    df = df.rename(columns={'제조사':'Company', '모델': 'Vehicle_Model','차량상태':'Status',\n",
    "    '배터리용량':'Battery', '구동방식': 'Driving_Method',\n",
    "    '주행거리(km)':'Distance', '보증기간(년)':'Warranty',\n",
    "    '사고이력':'Accident', '연식(년)':'Year', '가격(백만원)':'Price'})\n",
    "    encoder = OneHotEncoder(sparse_output=False)\n",
    "    encoded_data = encoder.fit_transform(df[['Vehicle_Model', 'Driving_Method','Warranty','Status']])\n",
    "    encoded_df = pd.DataFrame(encoded_data, columns=encoder.get_feature_names_out(['Vehicle_Model', 'Driving_Method','Warranty','Status']))\n",
    "    df = pd.concat([df, encoded_df], axis=1)\n",
    "    df.drop(['Vehicle_Model','Driving_Method','Warranty','Status'], axis=1, inplace = True)\n",
    "    mapping = {'No' : 1, 'Yes' : -1}\n",
    "    df['Accident'] = df['Accident'].map(mapping)\n",
    "    df.drop(['ID','Company'], axis=1, inplace = True)\n",
    "    s = StandardScaler()\n",
    "    df[['Battery', 'Distance']] = s.fit_transform(df[['Battery', 'Distance']])\n",
    "    \n",
    "    return df"
   ]
  },
  {
   "cell_type": "code",
   "execution_count": 17,
   "metadata": {},
   "outputs": [],
   "source": [
    "df_train = preprocess(df_train)"
   ]
  },
  {
   "cell_type": "code",
   "execution_count": 18,
   "metadata": {},
   "outputs": [
    {
     "data": {
      "text/plain": [
       "Index(['Battery', 'Distance', 'Accident', 'Year', 'Price', 'Vehicle_Model_EV6',\n",
       "       'Vehicle_Model_ID4', 'Vehicle_Model_ION5', 'Vehicle_Model_ION6',\n",
       "       'Vehicle_Model_IONIQ', 'Vehicle_Model_KNE', 'Vehicle_Model_M3',\n",
       "       'Vehicle_Model_MS', 'Vehicle_Model_MX', 'Vehicle_Model_MY',\n",
       "       'Vehicle_Model_Niro', 'Vehicle_Model_Q4eT', 'Vehicle_Model_RSeTGT',\n",
       "       'Vehicle_Model_Soul', 'Vehicle_Model_Tay', 'Vehicle_Model_TayCT',\n",
       "       'Vehicle_Model_TayGTS', 'Vehicle_Model_eT', 'Vehicle_Model_i3',\n",
       "       'Vehicle_Model_i5', 'Vehicle_Model_iX', 'Driving_Method_AWD',\n",
       "       'Driving_Method_FWD', 'Driving_Method_RWD', 'Warranty_0', 'Warranty_1',\n",
       "       'Warranty_2', 'Warranty_3', 'Warranty_4', 'Warranty_5', 'Warranty_6',\n",
       "       'Warranty_7', 'Warranty_8', 'Warranty_9', 'Warranty_10',\n",
       "       'Status_Brand New', 'Status_Nearly New', 'Status_Pre-Owned'],\n",
       "      dtype='object')"
      ]
     },
     "execution_count": 18,
     "metadata": {},
     "output_type": "execute_result"
    }
   ],
   "source": [
    "df_train.columns"
   ]
  },
  {
   "cell_type": "code",
   "execution_count": 19,
   "metadata": {},
   "outputs": [
    {
     "data": {
      "text/html": [
       "<div>\n",
       "<style scoped>\n",
       "    .dataframe tbody tr th:only-of-type {\n",
       "        vertical-align: middle;\n",
       "    }\n",
       "\n",
       "    .dataframe tbody tr th {\n",
       "        vertical-align: top;\n",
       "    }\n",
       "\n",
       "    .dataframe thead th {\n",
       "        text-align: right;\n",
       "    }\n",
       "</style>\n",
       "<table border=\"1\" class=\"dataframe\">\n",
       "  <thead>\n",
       "    <tr style=\"text-align: right;\">\n",
       "      <th></th>\n",
       "      <th>Battery</th>\n",
       "      <th>Distance</th>\n",
       "      <th>Accident</th>\n",
       "      <th>Year</th>\n",
       "      <th>Price</th>\n",
       "      <th>Vehicle_Model_EV6</th>\n",
       "      <th>Vehicle_Model_ID4</th>\n",
       "      <th>Vehicle_Model_ION5</th>\n",
       "      <th>Vehicle_Model_ION6</th>\n",
       "      <th>Vehicle_Model_IONIQ</th>\n",
       "      <th>...</th>\n",
       "      <th>Warranty_4</th>\n",
       "      <th>Warranty_5</th>\n",
       "      <th>Warranty_6</th>\n",
       "      <th>Warranty_7</th>\n",
       "      <th>Warranty_8</th>\n",
       "      <th>Warranty_9</th>\n",
       "      <th>Warranty_10</th>\n",
       "      <th>Status_Brand New</th>\n",
       "      <th>Status_Nearly New</th>\n",
       "      <th>Status_Pre-Owned</th>\n",
       "    </tr>\n",
       "  </thead>\n",
       "  <tbody>\n",
       "    <tr>\n",
       "      <th>1543</th>\n",
       "      <td>2.178731</td>\n",
       "      <td>-0.714669</td>\n",
       "      <td>1</td>\n",
       "      <td>0</td>\n",
       "      <td>69.64</td>\n",
       "      <td>0.0</td>\n",
       "      <td>0.0</td>\n",
       "      <td>0.0</td>\n",
       "      <td>0.0</td>\n",
       "      <td>0.0</td>\n",
       "      <td>...</td>\n",
       "      <td>0.0</td>\n",
       "      <td>0.0</td>\n",
       "      <td>0.0</td>\n",
       "      <td>1.0</td>\n",
       "      <td>0.0</td>\n",
       "      <td>0.0</td>\n",
       "      <td>0.0</td>\n",
       "      <td>1.0</td>\n",
       "      <td>0.0</td>\n",
       "      <td>0.0</td>\n",
       "    </tr>\n",
       "  </tbody>\n",
       "</table>\n",
       "<p>1 rows × 43 columns</p>\n",
       "</div>"
      ],
      "text/plain": [
       "       Battery  Distance  Accident  Year  Price  Vehicle_Model_EV6  \\\n",
       "1543  2.178731 -0.714669         1     0  69.64                0.0   \n",
       "\n",
       "      Vehicle_Model_ID4  Vehicle_Model_ION5  Vehicle_Model_ION6  \\\n",
       "1543                0.0                 0.0                 0.0   \n",
       "\n",
       "      Vehicle_Model_IONIQ  ...  Warranty_4  Warranty_5  Warranty_6  \\\n",
       "1543                  0.0  ...         0.0         0.0         0.0   \n",
       "\n",
       "      Warranty_7  Warranty_8  Warranty_9  Warranty_10  Status_Brand New  \\\n",
       "1543         1.0         0.0         0.0          0.0               1.0   \n",
       "\n",
       "      Status_Nearly New  Status_Pre-Owned  \n",
       "1543                0.0               0.0  \n",
       "\n",
       "[1 rows x 43 columns]"
      ]
     },
     "execution_count": 19,
     "metadata": {},
     "output_type": "execute_result"
    }
   ],
   "source": [
    "df_train.sample(1)"
   ]
  },
  {
   "cell_type": "code",
   "execution_count": 20,
   "metadata": {},
   "outputs": [
    {
     "data": {
      "text/plain": [
       "Battery                 0\n",
       "Distance                0\n",
       "Accident                0\n",
       "Year                    0\n",
       "Price                   0\n",
       "Vehicle_Model_EV6       0\n",
       "Vehicle_Model_ID4       0\n",
       "Vehicle_Model_ION5      0\n",
       "Vehicle_Model_ION6      0\n",
       "Vehicle_Model_IONIQ     0\n",
       "Vehicle_Model_KNE       0\n",
       "Vehicle_Model_M3        0\n",
       "Vehicle_Model_MS        0\n",
       "Vehicle_Model_MX        0\n",
       "Vehicle_Model_MY        0\n",
       "Vehicle_Model_Niro      0\n",
       "Vehicle_Model_Q4eT      0\n",
       "Vehicle_Model_RSeTGT    0\n",
       "Vehicle_Model_Soul      0\n",
       "Vehicle_Model_Tay       0\n",
       "Vehicle_Model_TayCT     0\n",
       "Vehicle_Model_TayGTS    0\n",
       "Vehicle_Model_eT        0\n",
       "Vehicle_Model_i3        0\n",
       "Vehicle_Model_i5        0\n",
       "Vehicle_Model_iX        0\n",
       "Driving_Method_AWD      0\n",
       "Driving_Method_FWD      0\n",
       "Driving_Method_RWD      0\n",
       "Warranty_0              0\n",
       "Warranty_1              0\n",
       "Warranty_2              0\n",
       "Warranty_3              0\n",
       "Warranty_4              0\n",
       "Warranty_5              0\n",
       "Warranty_6              0\n",
       "Warranty_7              0\n",
       "Warranty_8              0\n",
       "Warranty_9              0\n",
       "Warranty_10             0\n",
       "Status_Brand New        0\n",
       "Status_Nearly New       0\n",
       "Status_Pre-Owned        0\n",
       "dtype: int64"
      ]
     },
     "execution_count": 20,
     "metadata": {},
     "output_type": "execute_result"
    }
   ],
   "source": [
    "df_train.isnull().sum()"
   ]
  },
  {
   "cell_type": "code",
   "execution_count": 21,
   "metadata": {},
   "outputs": [
    {
     "data": {
      "text/html": [
       "<div>\n",
       "<style scoped>\n",
       "    .dataframe tbody tr th:only-of-type {\n",
       "        vertical-align: middle;\n",
       "    }\n",
       "\n",
       "    .dataframe tbody tr th {\n",
       "        vertical-align: top;\n",
       "    }\n",
       "\n",
       "    .dataframe thead th {\n",
       "        text-align: right;\n",
       "    }\n",
       "</style>\n",
       "<table border=\"1\" class=\"dataframe\">\n",
       "  <thead>\n",
       "    <tr style=\"text-align: right;\">\n",
       "      <th></th>\n",
       "      <th>Battery</th>\n",
       "      <th>Distance</th>\n",
       "      <th>Accident</th>\n",
       "      <th>Year</th>\n",
       "      <th>Vehicle_Model_EV6</th>\n",
       "      <th>Vehicle_Model_ID4</th>\n",
       "      <th>Vehicle_Model_ION5</th>\n",
       "      <th>Vehicle_Model_ION6</th>\n",
       "      <th>Vehicle_Model_IONIQ</th>\n",
       "      <th>Vehicle_Model_KNE</th>\n",
       "      <th>...</th>\n",
       "      <th>Warranty_4</th>\n",
       "      <th>Warranty_5</th>\n",
       "      <th>Warranty_6</th>\n",
       "      <th>Warranty_7</th>\n",
       "      <th>Warranty_8</th>\n",
       "      <th>Warranty_9</th>\n",
       "      <th>Warranty_10</th>\n",
       "      <th>Status_Brand New</th>\n",
       "      <th>Status_Nearly New</th>\n",
       "      <th>Status_Pre-Owned</th>\n",
       "    </tr>\n",
       "  </thead>\n",
       "  <tbody>\n",
       "    <tr>\n",
       "      <th>614</th>\n",
       "      <td>-1.127768</td>\n",
       "      <td>-0.357719</td>\n",
       "      <td>1</td>\n",
       "      <td>1</td>\n",
       "      <td>0.0</td>\n",
       "      <td>0.0</td>\n",
       "      <td>0.0</td>\n",
       "      <td>0.0</td>\n",
       "      <td>0.0</td>\n",
       "      <td>0.0</td>\n",
       "      <td>...</td>\n",
       "      <td>0.0</td>\n",
       "      <td>1.0</td>\n",
       "      <td>0.0</td>\n",
       "      <td>0.0</td>\n",
       "      <td>0.0</td>\n",
       "      <td>0.0</td>\n",
       "      <td>0.0</td>\n",
       "      <td>0.0</td>\n",
       "      <td>1.0</td>\n",
       "      <td>0.0</td>\n",
       "    </tr>\n",
       "    <tr>\n",
       "      <th>507</th>\n",
       "      <td>-0.611131</td>\n",
       "      <td>-0.081502</td>\n",
       "      <td>1</td>\n",
       "      <td>0</td>\n",
       "      <td>0.0</td>\n",
       "      <td>0.0</td>\n",
       "      <td>0.0</td>\n",
       "      <td>0.0</td>\n",
       "      <td>1.0</td>\n",
       "      <td>0.0</td>\n",
       "      <td>...</td>\n",
       "      <td>0.0</td>\n",
       "      <td>0.0</td>\n",
       "      <td>0.0</td>\n",
       "      <td>0.0</td>\n",
       "      <td>0.0</td>\n",
       "      <td>0.0</td>\n",
       "      <td>0.0</td>\n",
       "      <td>0.0</td>\n",
       "      <td>0.0</td>\n",
       "      <td>1.0</td>\n",
       "    </tr>\n",
       "  </tbody>\n",
       "</table>\n",
       "<p>2 rows × 42 columns</p>\n",
       "</div>"
      ],
      "text/plain": [
       "      Battery  Distance  Accident  Year  Vehicle_Model_EV6  Vehicle_Model_ID4  \\\n",
       "614 -1.127768 -0.357719         1     1                0.0                0.0   \n",
       "507 -0.611131 -0.081502         1     0                0.0                0.0   \n",
       "\n",
       "     Vehicle_Model_ION5  Vehicle_Model_ION6  Vehicle_Model_IONIQ  \\\n",
       "614                 0.0                 0.0                  0.0   \n",
       "507                 0.0                 0.0                  1.0   \n",
       "\n",
       "     Vehicle_Model_KNE  ...  Warranty_4  Warranty_5  Warranty_6  Warranty_7  \\\n",
       "614                0.0  ...         0.0         1.0         0.0         0.0   \n",
       "507                0.0  ...         0.0         0.0         0.0         0.0   \n",
       "\n",
       "     Warranty_8  Warranty_9  Warranty_10  Status_Brand New  Status_Nearly New  \\\n",
       "614         0.0         0.0          0.0               0.0                1.0   \n",
       "507         0.0         0.0          0.0               0.0                0.0   \n",
       "\n",
       "     Status_Pre-Owned  \n",
       "614               0.0  \n",
       "507               1.0  \n",
       "\n",
       "[2 rows x 42 columns]"
      ]
     },
     "execution_count": 21,
     "metadata": {},
     "output_type": "execute_result"
    }
   ],
   "source": [
    "df_test = preprocess(df_test)\n",
    "df_test.sample(2)"
   ]
  },
  {
   "cell_type": "code",
   "execution_count": 37,
   "metadata": {},
   "outputs": [],
   "source": [
    "df_train.to_csv('./train_data.csv')\n",
    "df_test.to_csv('./test_data.csv')"
   ]
  },
  {
   "cell_type": "code",
   "execution_count": null,
   "metadata": {},
   "outputs": [],
   "source": []
  }
 ],
 "metadata": {
  "kernelspec": {
   "display_name": "py3_11_9",
   "language": "python",
   "name": "python3"
  },
  "language_info": {
   "codemirror_mode": {
    "name": "ipython",
    "version": 3
   },
   "file_extension": ".py",
   "mimetype": "text/x-python",
   "name": "python",
   "nbconvert_exporter": "python",
   "pygments_lexer": "ipython3",
   "version": "3.11.9"
  }
 },
 "nbformat": 4,
 "nbformat_minor": 2
}
