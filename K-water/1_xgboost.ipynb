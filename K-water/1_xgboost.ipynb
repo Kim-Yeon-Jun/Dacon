{
 "cells": [
  {
   "cell_type": "code",
   "execution_count": 2,
   "metadata": {},
   "outputs": [],
   "source": [
    "import pandas as pd\n",
    "import numpy as np\n",
    "from xgboost import XGBClassifier\n",
    "from sklearn.model_selection import train_test_split\n",
    "from sklearn.metrics import classification_report\n",
    "import torch\n",
    "from typing import List, Dict, Union"
   ]
  },
  {
   "cell_type": "code",
   "execution_count": 3,
   "metadata": {},
   "outputs": [],
   "source": [
    "def prepare_data(df: pd.DataFrame, window_size: int = 10080):\n",
    "    # P로 시작하는 컬럼 추출\n",
    "    feature_columns = df.filter(regex='^P\\\\d+$').columns\n",
    "    \n",
    "    # 윈도우 기반 특성 생성\n",
    "    X = []\n",
    "    y = []\n",
    "    \n",
    "    for i in range(len(df) - window_size):\n",
    "        window = df[feature_columns].iloc[i:i + window_size]\n",
    "        # 통계적 특성 추출\n",
    "        features = pd.concat([\n",
    "            window.mean(),\n",
    "            window.std(),\n",
    "            window.min(),\n",
    "            window.max(),\n",
    "            window.kurt(),\n",
    "            window.skew()\n",
    "        ])\n",
    "        X.append(features)\n",
    "        y.append(df['anomaly'].iloc[i + window_size])\n",
    "    \n",
    "    return np.array(X), np.array(y)"
   ]
  },
  {
   "cell_type": "code",
   "execution_count": 4,
   "metadata": {},
   "outputs": [],
   "source": [
    "def train_xgboost(X_train, y_train):\n",
    "    model = XGBClassifier(\n",
    "        n_estimators=100,\n",
    "        learning_rate=0.1,\n",
    "        max_depth=5,\n",
    "        min_child_weight=1,\n",
    "        subsample=0.8,\n",
    "        colsample_bytree=0.8,\n",
    "        random_state=42\n",
    "    )\n",
    "    \n",
    "    model.fit(\n",
    "        X_train, \n",
    "        y_train,\n",
    "        eval_metric=['auc', 'logloss'],\n",
    "        verbose=True\n",
    "    )\n",
    "    \n",
    "    return model"
   ]
  },
  {
   "cell_type": "code",
   "execution_count": 5,
   "metadata": {},
   "outputs": [],
   "source": [
    "def detect_anomalies(model, X_test, threshold=0.5):\n",
    "    # 확률값 예측\n",
    "    y_pred_proba = model.predict_proba(X_test)[:, 1]\n",
    "    # 임계값 기반 이상 탐지\n",
    "    anomalies = (y_pred_proba > threshold).astype(int)\n",
    "    return anomalies, y_pred_proba"
   ]
  },
  {
   "cell_type": "code",
   "execution_count": 7,
   "metadata": {},
   "outputs": [
    {
     "ename": "NameError",
     "evalue": "name 'Dataset' is not defined",
     "output_type": "error",
     "traceback": [
      "\u001b[1;31m---------------------------------------------------------------------------\u001b[0m",
      "\u001b[1;31mNameError\u001b[0m                                 Traceback (most recent call last)",
      "Cell \u001b[1;32mIn[7], line 1\u001b[0m\n\u001b[1;32m----> 1\u001b[0m \u001b[38;5;28;01mclass\u001b[39;00m \u001b[38;5;21;01mTimeSeriesDataset\u001b[39;00m(\u001b[43mDataset\u001b[49m):\n\u001b[0;32m      2\u001b[0m     \u001b[38;5;28;01mdef\u001b[39;00m \u001b[38;5;21m__init__\u001b[39m(\u001b[38;5;28mself\u001b[39m, df: pd\u001b[38;5;241m.\u001b[39mDataFrame, stride: \u001b[38;5;28mint\u001b[39m \u001b[38;5;241m=\u001b[39m \u001b[38;5;241m1\u001b[39m, inference: \u001b[38;5;28mbool\u001b[39m \u001b[38;5;241m=\u001b[39m \u001b[38;5;28;01mFalse\u001b[39;00m) \u001b[38;5;241m-\u001b[39m\u001b[38;5;241m>\u001b[39m \u001b[38;5;28;01mNone\u001b[39;00m:\n\u001b[0;32m      3\u001b[0m         \u001b[38;5;28mself\u001b[39m\u001b[38;5;241m.\u001b[39minference \u001b[38;5;241m=\u001b[39m inference\n",
      "\u001b[1;31mNameError\u001b[0m: name 'Dataset' is not defined"
     ]
    }
   ],
   "source": [
    "class TimeSeriesDataset(Dataset):\n",
    "    def __init__(self, df: pd.DataFrame, stride: int = 1, inference: bool = False) -> None:\n",
    "        self.inference = inference\n",
    "        # P로 시작하는 컬럼만 추출하고 정렬\n",
    "        self.column_names = sorted(df.filter(regex='^P\\\\d+$').columns.tolist(),\n",
    "                                 key=lambda x: int(x.replace('P', '')))\n",
    "        self.file_ids = df['file_id'].values if 'file_id' in df.columns else None\n",
    "        \n",
    "        if inference:\n",
    "            self.values = df[self.column_names].values.astype(np.float32)\n",
    "            self._prepare_inference_data()\n",
    "        else:\n",
    "            self._prepare_training_data(df, stride)"
   ]
  },
  {
   "cell_type": "code",
   "execution_count": 6,
   "metadata": {},
   "outputs": [
    {
     "ename": "ValueError",
     "evalue": "all the input array dimensions except for the concatenation axis must match exactly, but along dimension 1, the array at index 0 has size 156 and the array at index 1 has size 60",
     "output_type": "error",
     "traceback": [
      "\u001b[1;31m---------------------------------------------------------------------------\u001b[0m",
      "\u001b[1;31mValueError\u001b[0m                                Traceback (most recent call last)",
      "Cell \u001b[1;32mIn[6], line 10\u001b[0m\n\u001b[0;32m      7\u001b[0m X_B, y_B \u001b[38;5;241m=\u001b[39m prepare_data(df_B)\n\u001b[0;32m      9\u001b[0m \u001b[38;5;66;03m# 데이터 결합\u001b[39;00m\n\u001b[1;32m---> 10\u001b[0m X \u001b[38;5;241m=\u001b[39m \u001b[43mnp\u001b[49m\u001b[38;5;241;43m.\u001b[39;49m\u001b[43mconcatenate\u001b[49m\u001b[43m(\u001b[49m\u001b[43m[\u001b[49m\u001b[43mX_A\u001b[49m\u001b[43m,\u001b[49m\u001b[43m \u001b[49m\u001b[43mX_B\u001b[49m\u001b[43m]\u001b[49m\u001b[43m)\u001b[49m\n\u001b[0;32m     11\u001b[0m y \u001b[38;5;241m=\u001b[39m np\u001b[38;5;241m.\u001b[39mconcatenate([y_A, y_B])\n\u001b[0;32m     13\u001b[0m \u001b[38;5;66;03m# 학습/테스트 분할\u001b[39;00m\n",
      "\u001b[1;31mValueError\u001b[0m: all the input array dimensions except for the concatenation axis must match exactly, but along dimension 1, the array at index 0 has size 156 and the array at index 1 has size 60"
     ]
    }
   ],
   "source": [
    "# 데이터 로드\n",
    "df_A = pd.read_csv(\"./train/TRAIN_A.csv\")\n",
    "df_B = pd.read_csv(\"./train/TRAIN_B.csv\")\n",
    "\n",
    "# 데이터 준비\n",
    "X_A, y_A = prepare_data(df_A)\n",
    "X_B, y_B = prepare_data(df_B)\n",
    "\n",
    "# 데이터 결합\n",
    "X = np.concatenate([X_A, X_B])\n",
    "y = np.concatenate([y_A, y_B])\n",
    "\n",
    "# 학습/테스트 분할\n",
    "X_train, X_test, y_train, y_test = train_test_split(\n",
    "    X, y, test_size=0.2, random_state=42\n",
    ")\n",
    "\n",
    "# 모델 학습\n",
    "model = train_xgboost(X_train, y_train)\n",
    "\n",
    "# 이상 탐지 수행\n",
    "anomalies, probabilities = detect_anomalies(model, X_test)\n",
    "\n",
    "# 결과 저장\n",
    "results = pd.DataFrame({\n",
    "    'anomaly': anomalies,\n",
    "    'probability': probabilities\n",
    "})\n",
    "\n",
    "results.to_csv('xgboost_predictions.csv', index=False)"
   ]
  },
  {
   "cell_type": "code",
   "execution_count": null,
   "metadata": {},
   "outputs": [],
   "source": [
    "def inference_test_files(model, test_directory):\n",
    "    test_files = [f for f in os.listdir(test_directory) if f.endswith('.csv')]\n",
    "    all_predictions = []\n",
    "    \n",
    "    for file in test_files:\n",
    "        df = pd.read_csv(f\"{test_directory}/{file}\")\n",
    "        X_test, _ = prepare_data(df)\n",
    "        anomalies, _ = detect_anomalies(model, X_test)\n",
    "        \n",
    "        predictions = {\n",
    "            'ID': file.replace('.csv', ''),\n",
    "            'flag_list': anomalies.tolist()\n",
    "        }\n",
    "        all_predictions.append(predictions)\n",
    "    \n",
    "    return pd.DataFrame(all_predictions)"
   ]
  },
  {
   "cell_type": "code",
   "execution_count": null,
   "metadata": {},
   "outputs": [],
   "source": []
  }
 ],
 "metadata": {
  "kernelspec": {
   "display_name": "py3_11_9",
   "language": "python",
   "name": "python3"
  },
  "language_info": {
   "codemirror_mode": {
    "name": "ipython",
    "version": 3
   },
   "file_extension": ".py",
   "mimetype": "text/x-python",
   "name": "python",
   "nbconvert_exporter": "python",
   "pygments_lexer": "ipython3",
   "version": "3.11.9"
  }
 },
 "nbformat": 4,
 "nbformat_minor": 2
}
