{
 "cells": [
  {
   "cell_type": "code",
   "execution_count": null,
   "metadata": {},
   "outputs": [],
   "source": [
    "# import numpy as np\n",
    "# import pandas as pd\n",
    "# from tensorflow.keras.models import Sequential\n",
    "# from tensorflow.keras.layers import LSTM, Dense, Masking\n",
    "# from tensorflow.keras.preprocessing.sequence import pad_sequences\n",
    "# from sklearn.model_selection import train_test_split\n",
    "# from sklearn.preprocessing import LabelEncoder\n",
    "# from sklearn.metrics import accuracy_score\n",
    "\n",
    "# # 예제 데이터 생성 (시계열 데이터 A와 B)\n",
    "# # A는 P1 ~ P10, B는 P1 ~ P15 (길이가 다른 시계열 데이터)\n",
    "# np.random.seed(42)\n",
    "# data_A = [np.random.rand(10) for _ in range(100)]  # 100개의 샘플\n",
    "# data_B = [np.random.rand(15) for _ in range(100)]  # 100개의 샘플\n",
    "\n",
    "# labels_A = np.random.randint(0, 2, size=100)  # 0 또는 1의 레이블\n",
    "# labels_B = np.random.randint(0, 2, size=100)\n",
    "\n",
    "# # 데이터와 레이블 통합\n",
    "# data = data_A + data_B\n",
    "# labels = np.concatenate([labels_A, labels_B])\n",
    "\n",
    "# # 데이터를 고정된 길이로 패딩 처리\n",
    "# max_length = 15  # 데이터에서 가장 긴 길이\n",
    "# padded_data = pad_sequences(data, padding='post', maxlen=max_length, dtype='float32')\n",
    "\n",
    "# # 학습/테스트 데이터 분리\n",
    "# X_train, X_test, y_train, y_test = train_test_split(padded_data, labels, test_size=0.2, random_state=42)\n",
    "\n",
    "# # 레이블을 0과 1로 인코딩 (이미 0과 1인 경우 생략 가능)\n",
    "# encoder = LabelEncoder()\n",
    "# y_train = encoder.fit_transform(y_train)\n",
    "# y_test = encoder.transform(y_test)\n",
    "\n",
    "# # LSTM 모델 정의\n",
    "# model = Sequential([\n",
    "#     Masking(mask_value=0.0, input_shape=(max_length, 1)),  # 패딩된 부분 무시\n",
    "#     LSTM(64, return_sequences=False),  # LSTM 레이어\n",
    "#     Dense(1, activation='sigmoid')  # 출력 레이어 (이진 분류)\n",
    "# ])\n",
    "\n",
    "# model.compile(optimizer='adam', loss='binary_crossentropy', metrics=['accuracy'])\n",
    "\n",
    "# # 데이터를 (samples, timesteps, features) 형태로 변환\n",
    "# X_train = X_train[..., np.newaxis]\n",
    "# X_test = X_test[..., np.newaxis]\n",
    "\n",
    "# # 모델 학습\n",
    "# model.fit(X_train, y_train, epochs=10, batch_size=16, validation_split=0.1)\n",
    "\n",
    "# # 모델 평가\n",
    "# y_pred = (model.predict(X_test) > 0.5).astype(\"int32\")\n",
    "# accuracy = accuracy_score(y_test, y_pred)\n",
    "# print(f\"Test Accuracy: {accuracy:.2f}\")\n"
   ]
  },
  {
   "cell_type": "code",
   "execution_count": 1,
   "metadata": {},
   "outputs": [],
   "source": [
    "import pandas as pd\n",
    "import numpy as np\n",
    "import torch\n",
    "import torch.nn as nn\n",
    "import torch.optim as optim\n",
    "from torch.utils.data import DataLoader, TensorDataset\n",
    "from sklearn.preprocessing import MinMaxScaler"
   ]
  },
  {
   "cell_type": "code",
   "execution_count": null,
   "metadata": {},
   "outputs": [],
   "source": [
    "# 데이터 로딩 및 전처리\n",
    "def load_and_preprocess_data(file_path):\n",
    "    df = pd.read_csv(file_path)\n",
    "    \n",
    "    # Q, M, P 컬럼 선택\n",
    "    q_cols = [col for col in df.columns if col.startswith('Q')]\n",
    "    m_cols = [col for col in df.columns if col.startswith('M')]\n",
    "    p_cols = [col for col in df.columns if col.startswith('P')]\n",
    "    \n",
    "    # 선택된 컬럼들을 하나의 리스트로 합침\n",
    "    feature_cols = q_cols + m_cols + p_cols\n",
    "    \n",
    "    # 데이터 정규화\n",
    "    scaler = MinMaxScaler()\n",
    "    normalized_data = scaler.fit_transform(df[feature_cols])\n",
    "    \n",
    "    return normalized_data, len(feature_cols)\n",
    "\n",
    "# 시퀀스 생성 함수\n",
    "def create_sequences(data, seq_length):\n",
    "    sequences = []\n",
    "    for i in range(len(data) - seq_length + 1):\n",
    "        sequences.append(data[i:i+seq_length])\n",
    "    return np.array(sequences)"
   ]
  },
  {
   "cell_type": "code",
   "execution_count": null,
   "metadata": {},
   "outputs": [],
   "source": [
    "# 데이터 로드 및 전처리\n",
    "data, input_size = load_and_preprocess_data('your_data_file.csv')\n",
    "sequence_length = 60\n",
    "sequences = create_sequences(data, sequence_length)\n",
    "\n",
    "# PyTorch 텐서로 변환\n",
    "X = torch.FloatTensor(sequences)\n",
    "y = torch.zeros(len(sequences))  # 여기서는 모든 데이터를 정상으로 가정\n",
    "\n",
    "# 데이터셋 및 DataLoader 생성\n",
    "dataset = TensorDataset(X, y)\n",
    "dataloader = DataLoader(dataset, batch_size=32, shuffle=True)"
   ]
  },
  {
   "cell_type": "code",
   "execution_count": null,
   "metadata": {},
   "outputs": [],
   "source": [
    "# LSTM Autoencoder 모델 정의 (이전과 동일)\n",
    "class LSTMAutoencoder(nn.Module):\n",
    "    def __init__(self, input_size, hidden_size, num_layers):\n",
    "        super(LSTMAutoencoder, self).__init__()\n",
    "        self.encoder = nn.LSTM(input_size, hidden_size, num_layers, batch_first=True)\n",
    "        self.decoder = nn.LSTM(hidden_size, input_size, num_layers, batch_first=True)\n",
    "\n",
    "    def forward(self, x):\n",
    "        _, (hidden, _) = self.encoder(x)\n",
    "        decoder_input = hidden.permute(1, 0, 2).repeat(1, x.size(1), 1)\n",
    "        output, _ = self.decoder(decoder_input)\n",
    "        return output"
   ]
  },
  {
   "cell_type": "code",
   "execution_count": null,
   "metadata": {},
   "outputs": [],
   "source": [
    "# 모델 초기화 (input_size가 변경됨)\n",
    "model = LSTMAutoencoder(input_size, hidden_size=64, num_layers=2)\n",
    "criterion = nn.MSELoss()\n",
    "optimizer = optim.Adam(model.parameters())"
   ]
  },
  {
   "cell_type": "code",
   "execution_count": null,
   "metadata": {},
   "outputs": [],
   "source": [
    "from tqdm import tqdm\n",
    "\n",
    "# 학습 루프\n",
    "num_epochs = 100\n",
    "for epoch in tqdm(range(num_epochs), desc=\"Epochs\"):\n",
    "    model.train()\n",
    "    epoch_loss = 0\n",
    "    for batch_X, _ in tqdm(dataloader, desc=f\"Epoch {epoch+1}/{num_epochs}\", leave=False):\n",
    "        optimizer.zero_grad()\n",
    "        outputs = model(batch_X)\n",
    "        loss = criterion(outputs, batch_X)\n",
    "        loss.backward()\n",
    "        optimizer.step()\n",
    "        epoch_loss += loss.item()\n",
    "    \n",
    "    avg_loss = epoch_loss / len(dataloader)\n",
    "    if (epoch + 1) % 10 == 0:\n",
    "        print(f'Epoch [{epoch+1}/{num_epochs}], Average Loss: {avg_loss:.4f}')"
   ]
  },
  {
   "cell_type": "code",
   "execution_count": null,
   "metadata": {},
   "outputs": [],
   "source": [
    "# 이상 감지 함수 (이전과 동일)\n",
    "def detect_anomalies(model, data, threshold):\n",
    "    model.eval()\n",
    "    with torch.no_grad():\n",
    "        reconstructed = model(data)\n",
    "        mse = nn.MSELoss(reduction='none')\n",
    "        reconstruction_errors = mse(reconstructed, data).mean(axis=(1,2))\n",
    "        return reconstruction_errors > threshold"
   ]
  },
  {
   "cell_type": "code",
   "execution_count": null,
   "metadata": {},
   "outputs": [],
   "source": [
    "# 이상 감지 예시 (테스트 데이터도 같은 방식으로 전처리 필요)\n",
    "test_data = torch.FloatTensor(create_sequences(data[-100:], sequence_length))\n",
    "anomalies = detect_anomalies(model, test_data, threshold=0.5)\n",
    "print(\"Detected anomalies:\", anomalies.sum().item())"
   ]
  }
 ],
 "metadata": {
  "kernelspec": {
   "display_name": "Python 3",
   "language": "python",
   "name": "python3"
  },
  "language_info": {
   "codemirror_mode": {
    "name": "ipython",
    "version": 3
   },
   "file_extension": ".py",
   "mimetype": "text/x-python",
   "name": "python",
   "nbconvert_exporter": "python",
   "pygments_lexer": "ipython3",
   "version": "3.12.1"
  }
 },
 "nbformat": 4,
 "nbformat_minor": 2
}
