{
 "cells": [
  {
   "cell_type": "code",
   "execution_count": null,
   "metadata": {},
   "outputs": [],
   "source": [
    "import numpy as np\n",
    "import pandas as pd\n",
    "from tensorflow.keras.models import Sequential\n",
    "from tensorflow.keras.layers import LSTM, Dense, Masking\n",
    "from tensorflow.keras.preprocessing.sequence import pad_sequences\n",
    "from sklearn.model_selection import train_test_split\n",
    "from sklearn.preprocessing import LabelEncoder\n",
    "from sklearn.metrics import accuracy_score\n",
    "\n",
    "# 예제 데이터 생성 (시계열 데이터 A와 B)\n",
    "# A는 P1 ~ P10, B는 P1 ~ P15 (길이가 다른 시계열 데이터)\n",
    "np.random.seed(42)\n",
    "data_A = [np.random.rand(10) for _ in range(100)]  # 100개의 샘플\n",
    "data_B = [np.random.rand(15) for _ in range(100)]  # 100개의 샘플\n",
    "\n",
    "labels_A = np.random.randint(0, 2, size=100)  # 0 또는 1의 레이블\n",
    "labels_B = np.random.randint(0, 2, size=100)\n",
    "\n",
    "# 데이터와 레이블 통합\n",
    "data = data_A + data_B\n",
    "labels = np.concatenate([labels_A, labels_B])\n",
    "\n",
    "# 데이터를 고정된 길이로 패딩 처리\n",
    "max_length = 15  # 데이터에서 가장 긴 길이\n",
    "padded_data = pad_sequences(data, padding='post', maxlen=max_length, dtype='float32')\n",
    "\n",
    "# 학습/테스트 데이터 분리\n",
    "X_train, X_test, y_train, y_test = train_test_split(padded_data, labels, test_size=0.2, random_state=42)\n",
    "\n",
    "# 레이블을 0과 1로 인코딩 (이미 0과 1인 경우 생략 가능)\n",
    "encoder = LabelEncoder()\n",
    "y_train = encoder.fit_transform(y_train)\n",
    "y_test = encoder.transform(y_test)\n",
    "\n",
    "# LSTM 모델 정의\n",
    "model = Sequential([\n",
    "    Masking(mask_value=0.0, input_shape=(max_length, 1)),  # 패딩된 부분 무시\n",
    "    LSTM(64, return_sequences=False),  # LSTM 레이어\n",
    "    Dense(1, activation='sigmoid')  # 출력 레이어 (이진 분류)\n",
    "])\n",
    "\n",
    "model.compile(optimizer='adam', loss='binary_crossentropy', metrics=['accuracy'])\n",
    "\n",
    "# 데이터를 (samples, timesteps, features) 형태로 변환\n",
    "X_train = X_train[..., np.newaxis]\n",
    "X_test = X_test[..., np.newaxis]\n",
    "\n",
    "# 모델 학습\n",
    "model.fit(X_train, y_train, epochs=10, batch_size=16, validation_split=0.1)\n",
    "\n",
    "# 모델 평가\n",
    "y_pred = (model.predict(X_test) > 0.5).astype(\"int32\")\n",
    "accuracy = accuracy_score(y_test, y_pred)\n",
    "print(f\"Test Accuracy: {accuracy:.2f}\")\n"
   ]
  }
 ],
 "metadata": {
  "kernelspec": {
   "display_name": "py3_11_9",
   "language": "python",
   "name": "python3"
  },
  "language_info": {
   "name": "python",
   "version": "3.11.9"
  }
 },
 "nbformat": 4,
 "nbformat_minor": 2
}
