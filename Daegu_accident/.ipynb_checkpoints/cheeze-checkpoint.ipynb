{
 "cells": [
  {
   "cell_type": "code",
   "execution_count": 1,
   "id": "8231787c",
   "metadata": {},
   "outputs": [],
   "source": [
    "import pandas as pd\n",
    "import matplotlib.pyplot as plt\n",
    "import numpy as np\n",
    "import seaborn as sns\n",
    "plt.rcParams['font.family'] = 'Malgun Gothic'\n",
    "plt.rcParams['axes.unicode_minus'] = False"
   ]
  },
  {
   "cell_type": "code",
   "execution_count": 2,
   "id": "6299ff9f",
   "metadata": {},
   "outputs": [],
   "source": [
    "train = pd.read_csv('train.csv')"
   ]
  },
  {
   "cell_type": "code",
   "execution_count": 3,
   "id": "c478bee1",
   "metadata": {},
   "outputs": [],
   "source": [
    "#train.head()"
   ]
  },
  {
   "cell_type": "code",
   "execution_count": 4,
   "id": "28c8239c",
   "metadata": {},
   "outputs": [
    {
     "name": "stdout",
     "output_type": "stream",
     "text": [
      "<class 'pandas.core.frame.DataFrame'>\n",
      "RangeIndex: 39609 entries, 0 to 39608\n",
      "Data columns (total 23 columns):\n",
      " #   Column       Non-Null Count  Dtype \n",
      "---  ------       --------------  ----- \n",
      " 0   ID           39609 non-null  object\n",
      " 1   사고일시         39609 non-null  object\n",
      " 2   요일           39609 non-null  object\n",
      " 3   기상상태         39609 non-null  object\n",
      " 4   시군구          39609 non-null  object\n",
      " 5   도로형태         39609 non-null  object\n",
      " 6   노면상태         39609 non-null  object\n",
      " 7   사고유형         39609 non-null  object\n",
      " 8   사고유형 - 세부분류  39609 non-null  object\n",
      " 9   법규위반         39609 non-null  object\n",
      " 10  가해운전자 차종     39609 non-null  object\n",
      " 11  가해운전자 성별     39609 non-null  object\n",
      " 12  가해운전자 연령     39609 non-null  object\n",
      " 13  가해운전자 상해정도   39609 non-null  object\n",
      " 14  피해운전자 차종     38618 non-null  object\n",
      " 15  피해운전자 성별     38618 non-null  object\n",
      " 16  피해운전자 연령     38618 non-null  object\n",
      " 17  피해운전자 상해정도   38618 non-null  object\n",
      " 18  사망자수         39609 non-null  int64 \n",
      " 19  중상자수         39609 non-null  int64 \n",
      " 20  경상자수         39609 non-null  int64 \n",
      " 21  부상자수         39609 non-null  int64 \n",
      " 22  ECLO         39609 non-null  int64 \n",
      "dtypes: int64(5), object(18)\n",
      "memory usage: 7.0+ MB\n"
     ]
    }
   ],
   "source": [
    "train.info()"
   ]
  },
  {
   "cell_type": "code",
   "execution_count": 5,
   "id": "8f121594",
   "metadata": {},
   "outputs": [],
   "source": [
    "#train.shape"
   ]
  },
  {
   "cell_type": "code",
   "execution_count": 6,
   "id": "64b9aecf",
   "metadata": {},
   "outputs": [],
   "source": [
    "#len(train['사고유형'])"
   ]
  },
  {
   "cell_type": "code",
   "execution_count": 7,
   "id": "d842108f",
   "metadata": {},
   "outputs": [],
   "source": [
    "#train.describe()"
   ]
  },
  {
   "cell_type": "code",
   "execution_count": 8,
   "id": "edf1e6a3",
   "metadata": {},
   "outputs": [],
   "source": [
    "#sample = train.drop(columns = ['ID','사고일시','시군구','사고유형','사고유형 - 세부분류'])"
   ]
  },
  {
   "cell_type": "code",
   "execution_count": 9,
   "id": "455873d2",
   "metadata": {
    "scrolled": true
   },
   "outputs": [],
   "source": [
    "#sample[sample.사망자수 == 1]"
   ]
  },
  {
   "cell_type": "code",
   "execution_count": 10,
   "id": "076df60a",
   "metadata": {},
   "outputs": [],
   "source": [
    "#sns.heatmap(sample.corr())"
   ]
  },
  {
   "cell_type": "code",
   "execution_count": 11,
   "id": "5d6c36f2",
   "metadata": {
    "scrolled": true
   },
   "outputs": [
    {
     "data": {
      "text/plain": [
       "안전운전불이행      21876\n",
       "안전거리미확보       5277\n",
       "신호위반          3786\n",
       "교차로운행방법위반     2750\n",
       "기타            1396\n",
       "보행자보호의무위반     1154\n",
       "직진우회전진행방해      980\n",
       "차로위반           949\n",
       "중앙선침범          881\n",
       "불법유턴           427\n",
       "과속             133\n",
       "Name: 법규위반, dtype: int64"
      ]
     },
     "execution_count": 11,
     "metadata": {},
     "output_type": "execute_result"
    }
   ],
   "source": [
    "train['법규위반'].value_counts()"
   ]
  },
  {
   "cell_type": "code",
   "execution_count": 12,
   "id": "0355ba77",
   "metadata": {
    "scrolled": true
   },
   "outputs": [],
   "source": [
    "# for i in range(23):\n",
    "#     col = train.iloc[:,i].value_counts()\n",
    "#     print(col)"
   ]
  },
  {
   "cell_type": "code",
   "execution_count": 13,
   "id": "25bc56b9",
   "metadata": {},
   "outputs": [],
   "source": [
    "#sns.barplot(data = train, x='ECLO', y = '기상상태', orient = 'h')"
   ]
  },
  {
   "cell_type": "code",
   "execution_count": 14,
   "id": "69ffb404",
   "metadata": {},
   "outputs": [],
   "source": [
    "#sns.barplot(data = train, x='ECLO', y = '도로형태', orient = 'h')"
   ]
  },
  {
   "cell_type": "code",
   "execution_count": 15,
   "id": "a9a1f89b",
   "metadata": {},
   "outputs": [],
   "source": [
    "#sns.barplot(data = train, x='ECLO', y = '노면상태', orient = 'h')"
   ]
  },
  {
   "cell_type": "code",
   "execution_count": 16,
   "id": "3475665f",
   "metadata": {},
   "outputs": [],
   "source": [
    "#sns.barplot(data = train, x='ECLO', y = '사고유형', orient = 'h')"
   ]
  },
  {
   "cell_type": "code",
   "execution_count": 17,
   "id": "1638db76",
   "metadata": {},
   "outputs": [],
   "source": [
    "#sns.barplot(data = train, x='ECLO', y = '사고유형 - 세부분류', orient = 'h')"
   ]
  },
  {
   "cell_type": "code",
   "execution_count": 18,
   "id": "0564a902",
   "metadata": {},
   "outputs": [],
   "source": [
    "#sns.barplot(data = train, x='ECLO', y = '법규위반', orient = 'h')"
   ]
  },
  {
   "cell_type": "code",
   "execution_count": 19,
   "id": "b73f196b",
   "metadata": {},
   "outputs": [],
   "source": [
    "#sns.barplot(data = train, x='ECLO', y = '가해운전자 차종', orient = 'h')"
   ]
  },
  {
   "cell_type": "code",
   "execution_count": 20,
   "id": "445cff94",
   "metadata": {},
   "outputs": [],
   "source": [
    "#sns.barplot(data = train, x='ECLO', y = '가해운전자 성별', orient = 'h')"
   ]
  },
  {
   "cell_type": "code",
   "execution_count": 21,
   "id": "9e170e58",
   "metadata": {
    "scrolled": false
   },
   "outputs": [],
   "source": [
    "# plt.figure(figsize=(10,10))\n",
    "# sns.scatterplot(x=\"ECLO\",y=\"가해운전자 연령\",data=train, hue=\"가해운전자 연령\")"
   ]
  },
  {
   "cell_type": "code",
   "execution_count": 22,
   "id": "a6cb33d9",
   "metadata": {},
   "outputs": [],
   "source": [
    "# for i in range(39609):\n",
    "#     condition = train['가해운전자 연령'] == 'NaN'\n",
    "#     train.loc[condition, '가해운전자 연령'] = 0"
   ]
  },
  {
   "cell_type": "code",
   "execution_count": 23,
   "id": "087c4b04",
   "metadata": {},
   "outputs": [],
   "source": [
    "# for k in range(10):\n",
    "#     for i in range(39609):\n",
    "#         condition = train['가해운전자 연령'] > k*10 and train['가해운전자 연령'] <= (k+1)*10\n",
    "#         train.loc[condition, '가해운전자 연령'] = k"
   ]
  },
  {
   "cell_type": "code",
   "execution_count": 24,
   "id": "3ff6d5da",
   "metadata": {},
   "outputs": [],
   "source": [
    "dtrain = train.dropna()"
   ]
  },
  {
   "cell_type": "code",
   "execution_count": 25,
   "id": "e0240eaf",
   "metadata": {},
   "outputs": [
    {
     "data": {
      "text/html": [
       "<div>\n",
       "<style scoped>\n",
       "    .dataframe tbody tr th:only-of-type {\n",
       "        vertical-align: middle;\n",
       "    }\n",
       "\n",
       "    .dataframe tbody tr th {\n",
       "        vertical-align: top;\n",
       "    }\n",
       "\n",
       "    .dataframe thead th {\n",
       "        text-align: right;\n",
       "    }\n",
       "</style>\n",
       "<table border=\"1\" class=\"dataframe\">\n",
       "  <thead>\n",
       "    <tr style=\"text-align: right;\">\n",
       "      <th></th>\n",
       "      <th>ID</th>\n",
       "      <th>사고일시</th>\n",
       "      <th>요일</th>\n",
       "      <th>기상상태</th>\n",
       "      <th>시군구</th>\n",
       "      <th>도로형태</th>\n",
       "      <th>노면상태</th>\n",
       "      <th>사고유형</th>\n",
       "      <th>사고유형 - 세부분류</th>\n",
       "      <th>법규위반</th>\n",
       "      <th>...</th>\n",
       "      <th>가해운전자 상해정도</th>\n",
       "      <th>피해운전자 차종</th>\n",
       "      <th>피해운전자 성별</th>\n",
       "      <th>피해운전자 연령</th>\n",
       "      <th>피해운전자 상해정도</th>\n",
       "      <th>사망자수</th>\n",
       "      <th>중상자수</th>\n",
       "      <th>경상자수</th>\n",
       "      <th>부상자수</th>\n",
       "      <th>ECLO</th>\n",
       "    </tr>\n",
       "  </thead>\n",
       "  <tbody>\n",
       "    <tr>\n",
       "      <th>0</th>\n",
       "      <td>ACCIDENT_00000</td>\n",
       "      <td>2019-01-01 00</td>\n",
       "      <td>화요일</td>\n",
       "      <td>맑음</td>\n",
       "      <td>대구광역시 중구 대신동</td>\n",
       "      <td>단일로 - 기타</td>\n",
       "      <td>건조</td>\n",
       "      <td>차대사람</td>\n",
       "      <td>길가장자리구역통행중</td>\n",
       "      <td>안전운전불이행</td>\n",
       "      <td>...</td>\n",
       "      <td>상해없음</td>\n",
       "      <td>보행자</td>\n",
       "      <td>여</td>\n",
       "      <td>70세</td>\n",
       "      <td>중상</td>\n",
       "      <td>0</td>\n",
       "      <td>1</td>\n",
       "      <td>0</td>\n",
       "      <td>0</td>\n",
       "      <td>5</td>\n",
       "    </tr>\n",
       "    <tr>\n",
       "      <th>1</th>\n",
       "      <td>ACCIDENT_00001</td>\n",
       "      <td>2019-01-01 00</td>\n",
       "      <td>화요일</td>\n",
       "      <td>흐림</td>\n",
       "      <td>대구광역시 달서구 감삼동</td>\n",
       "      <td>단일로 - 기타</td>\n",
       "      <td>건조</td>\n",
       "      <td>차대사람</td>\n",
       "      <td>보도통행중</td>\n",
       "      <td>기타</td>\n",
       "      <td>...</td>\n",
       "      <td>상해없음</td>\n",
       "      <td>보행자</td>\n",
       "      <td>남</td>\n",
       "      <td>61세</td>\n",
       "      <td>경상</td>\n",
       "      <td>0</td>\n",
       "      <td>0</td>\n",
       "      <td>1</td>\n",
       "      <td>0</td>\n",
       "      <td>3</td>\n",
       "    </tr>\n",
       "    <tr>\n",
       "      <th>2</th>\n",
       "      <td>ACCIDENT_00002</td>\n",
       "      <td>2019-01-01 01</td>\n",
       "      <td>화요일</td>\n",
       "      <td>맑음</td>\n",
       "      <td>대구광역시 수성구 두산동</td>\n",
       "      <td>단일로 - 기타</td>\n",
       "      <td>건조</td>\n",
       "      <td>차대사람</td>\n",
       "      <td>차도통행중</td>\n",
       "      <td>안전운전불이행</td>\n",
       "      <td>...</td>\n",
       "      <td>상해없음</td>\n",
       "      <td>보행자</td>\n",
       "      <td>남</td>\n",
       "      <td>38세</td>\n",
       "      <td>경상</td>\n",
       "      <td>0</td>\n",
       "      <td>0</td>\n",
       "      <td>1</td>\n",
       "      <td>0</td>\n",
       "      <td>3</td>\n",
       "    </tr>\n",
       "    <tr>\n",
       "      <th>3</th>\n",
       "      <td>ACCIDENT_00003</td>\n",
       "      <td>2019-01-01 02</td>\n",
       "      <td>화요일</td>\n",
       "      <td>맑음</td>\n",
       "      <td>대구광역시 북구 복현동</td>\n",
       "      <td>단일로 - 기타</td>\n",
       "      <td>건조</td>\n",
       "      <td>차대차</td>\n",
       "      <td>추돌</td>\n",
       "      <td>안전운전불이행</td>\n",
       "      <td>...</td>\n",
       "      <td>상해없음</td>\n",
       "      <td>승용</td>\n",
       "      <td>남</td>\n",
       "      <td>36세</td>\n",
       "      <td>중상</td>\n",
       "      <td>0</td>\n",
       "      <td>1</td>\n",
       "      <td>0</td>\n",
       "      <td>0</td>\n",
       "      <td>5</td>\n",
       "    </tr>\n",
       "    <tr>\n",
       "      <th>4</th>\n",
       "      <td>ACCIDENT_00004</td>\n",
       "      <td>2019-01-01 04</td>\n",
       "      <td>화요일</td>\n",
       "      <td>맑음</td>\n",
       "      <td>대구광역시 동구 신암동</td>\n",
       "      <td>단일로 - 기타</td>\n",
       "      <td>건조</td>\n",
       "      <td>차대차</td>\n",
       "      <td>추돌</td>\n",
       "      <td>안전운전불이행</td>\n",
       "      <td>...</td>\n",
       "      <td>상해없음</td>\n",
       "      <td>승용</td>\n",
       "      <td>남</td>\n",
       "      <td>52세</td>\n",
       "      <td>경상</td>\n",
       "      <td>0</td>\n",
       "      <td>0</td>\n",
       "      <td>1</td>\n",
       "      <td>0</td>\n",
       "      <td>3</td>\n",
       "    </tr>\n",
       "  </tbody>\n",
       "</table>\n",
       "<p>5 rows × 23 columns</p>\n",
       "</div>"
      ],
      "text/plain": [
       "               ID           사고일시   요일 기상상태            시군구      도로형태 노면상태  \\\n",
       "0  ACCIDENT_00000  2019-01-01 00  화요일   맑음   대구광역시 중구 대신동  단일로 - 기타   건조   \n",
       "1  ACCIDENT_00001  2019-01-01 00  화요일   흐림  대구광역시 달서구 감삼동  단일로 - 기타   건조   \n",
       "2  ACCIDENT_00002  2019-01-01 01  화요일   맑음  대구광역시 수성구 두산동  단일로 - 기타   건조   \n",
       "3  ACCIDENT_00003  2019-01-01 02  화요일   맑음   대구광역시 북구 복현동  단일로 - 기타   건조   \n",
       "4  ACCIDENT_00004  2019-01-01 04  화요일   맑음   대구광역시 동구 신암동  단일로 - 기타   건조   \n",
       "\n",
       "   사고유형 사고유형 - 세부분류     법규위반  ... 가해운전자 상해정도 피해운전자 차종 피해운전자 성별 피해운전자 연령  \\\n",
       "0  차대사람  길가장자리구역통행중  안전운전불이행  ...       상해없음      보행자        여      70세   \n",
       "1  차대사람       보도통행중       기타  ...       상해없음      보행자        남      61세   \n",
       "2  차대사람       차도통행중  안전운전불이행  ...       상해없음      보행자        남      38세   \n",
       "3   차대차          추돌  안전운전불이행  ...       상해없음       승용        남      36세   \n",
       "4   차대차          추돌  안전운전불이행  ...       상해없음       승용        남      52세   \n",
       "\n",
       "  피해운전자 상해정도 사망자수 중상자수 경상자수  부상자수  ECLO  \n",
       "0         중상    0    1    0     0     5  \n",
       "1         경상    0    0    1     0     3  \n",
       "2         경상    0    0    1     0     3  \n",
       "3         중상    0    1    0     0     5  \n",
       "4         경상    0    0    1     0     3  \n",
       "\n",
       "[5 rows x 23 columns]"
      ]
     },
     "execution_count": 25,
     "metadata": {},
     "output_type": "execute_result"
    }
   ],
   "source": [
    "dtrain.head()"
   ]
  },
  {
   "cell_type": "code",
   "execution_count": 26,
   "id": "9b5d84da",
   "metadata": {},
   "outputs": [
    {
     "data": {
      "text/html": [
       "<div>\n",
       "<style scoped>\n",
       "    .dataframe tbody tr th:only-of-type {\n",
       "        vertical-align: middle;\n",
       "    }\n",
       "\n",
       "    .dataframe tbody tr th {\n",
       "        vertical-align: top;\n",
       "    }\n",
       "\n",
       "    .dataframe thead th {\n",
       "        text-align: right;\n",
       "    }\n",
       "</style>\n",
       "<table border=\"1\" class=\"dataframe\">\n",
       "  <thead>\n",
       "    <tr style=\"text-align: right;\">\n",
       "      <th></th>\n",
       "      <th>ID</th>\n",
       "      <th>사고일시</th>\n",
       "      <th>요일</th>\n",
       "      <th>기상상태</th>\n",
       "      <th>시군구</th>\n",
       "      <th>도로형태</th>\n",
       "      <th>노면상태</th>\n",
       "      <th>사고유형</th>\n",
       "      <th>사고유형 - 세부분류</th>\n",
       "      <th>법규위반</th>\n",
       "      <th>...</th>\n",
       "      <th>가해운전자 상해정도</th>\n",
       "      <th>피해운전자 차종</th>\n",
       "      <th>피해운전자 성별</th>\n",
       "      <th>피해운전자 연령</th>\n",
       "      <th>피해운전자 상해정도</th>\n",
       "      <th>사망자수</th>\n",
       "      <th>중상자수</th>\n",
       "      <th>경상자수</th>\n",
       "      <th>부상자수</th>\n",
       "      <th>ECLO</th>\n",
       "    </tr>\n",
       "  </thead>\n",
       "  <tbody>\n",
       "    <tr>\n",
       "      <th>0</th>\n",
       "      <td>ACCIDENT_00000</td>\n",
       "      <td>2019-01-01 00</td>\n",
       "      <td>화요일</td>\n",
       "      <td>맑음</td>\n",
       "      <td>대구광역시 중구 대신동</td>\n",
       "      <td>단일로 - 기타</td>\n",
       "      <td>건조</td>\n",
       "      <td>차대사람</td>\n",
       "      <td>길가장자리구역통행중</td>\n",
       "      <td>안전운전불이행</td>\n",
       "      <td>...</td>\n",
       "      <td>상해없음</td>\n",
       "      <td>보행자</td>\n",
       "      <td>여</td>\n",
       "      <td>70세</td>\n",
       "      <td>중상</td>\n",
       "      <td>0</td>\n",
       "      <td>1</td>\n",
       "      <td>0</td>\n",
       "      <td>0</td>\n",
       "      <td>5</td>\n",
       "    </tr>\n",
       "    <tr>\n",
       "      <th>1</th>\n",
       "      <td>ACCIDENT_00001</td>\n",
       "      <td>2019-01-01 00</td>\n",
       "      <td>화요일</td>\n",
       "      <td>흐림</td>\n",
       "      <td>대구광역시 달서구 감삼동</td>\n",
       "      <td>단일로 - 기타</td>\n",
       "      <td>건조</td>\n",
       "      <td>차대사람</td>\n",
       "      <td>보도통행중</td>\n",
       "      <td>기타</td>\n",
       "      <td>...</td>\n",
       "      <td>상해없음</td>\n",
       "      <td>보행자</td>\n",
       "      <td>남</td>\n",
       "      <td>61세</td>\n",
       "      <td>경상</td>\n",
       "      <td>0</td>\n",
       "      <td>0</td>\n",
       "      <td>1</td>\n",
       "      <td>0</td>\n",
       "      <td>3</td>\n",
       "    </tr>\n",
       "    <tr>\n",
       "      <th>2</th>\n",
       "      <td>ACCIDENT_00002</td>\n",
       "      <td>2019-01-01 01</td>\n",
       "      <td>화요일</td>\n",
       "      <td>맑음</td>\n",
       "      <td>대구광역시 수성구 두산동</td>\n",
       "      <td>단일로 - 기타</td>\n",
       "      <td>건조</td>\n",
       "      <td>차대사람</td>\n",
       "      <td>차도통행중</td>\n",
       "      <td>안전운전불이행</td>\n",
       "      <td>...</td>\n",
       "      <td>상해없음</td>\n",
       "      <td>보행자</td>\n",
       "      <td>남</td>\n",
       "      <td>38세</td>\n",
       "      <td>경상</td>\n",
       "      <td>0</td>\n",
       "      <td>0</td>\n",
       "      <td>1</td>\n",
       "      <td>0</td>\n",
       "      <td>3</td>\n",
       "    </tr>\n",
       "    <tr>\n",
       "      <th>3</th>\n",
       "      <td>ACCIDENT_00003</td>\n",
       "      <td>2019-01-01 02</td>\n",
       "      <td>화요일</td>\n",
       "      <td>맑음</td>\n",
       "      <td>대구광역시 북구 복현동</td>\n",
       "      <td>단일로 - 기타</td>\n",
       "      <td>건조</td>\n",
       "      <td>차대차</td>\n",
       "      <td>추돌</td>\n",
       "      <td>안전운전불이행</td>\n",
       "      <td>...</td>\n",
       "      <td>상해없음</td>\n",
       "      <td>승용</td>\n",
       "      <td>남</td>\n",
       "      <td>36세</td>\n",
       "      <td>중상</td>\n",
       "      <td>0</td>\n",
       "      <td>1</td>\n",
       "      <td>0</td>\n",
       "      <td>0</td>\n",
       "      <td>5</td>\n",
       "    </tr>\n",
       "    <tr>\n",
       "      <th>4</th>\n",
       "      <td>ACCIDENT_00004</td>\n",
       "      <td>2019-01-01 04</td>\n",
       "      <td>화요일</td>\n",
       "      <td>맑음</td>\n",
       "      <td>대구광역시 동구 신암동</td>\n",
       "      <td>단일로 - 기타</td>\n",
       "      <td>건조</td>\n",
       "      <td>차대차</td>\n",
       "      <td>추돌</td>\n",
       "      <td>안전운전불이행</td>\n",
       "      <td>...</td>\n",
       "      <td>상해없음</td>\n",
       "      <td>승용</td>\n",
       "      <td>남</td>\n",
       "      <td>52세</td>\n",
       "      <td>경상</td>\n",
       "      <td>0</td>\n",
       "      <td>0</td>\n",
       "      <td>1</td>\n",
       "      <td>0</td>\n",
       "      <td>3</td>\n",
       "    </tr>\n",
       "    <tr>\n",
       "      <th>5</th>\n",
       "      <td>ACCIDENT_00005</td>\n",
       "      <td>2019-01-01 04</td>\n",
       "      <td>화요일</td>\n",
       "      <td>맑음</td>\n",
       "      <td>대구광역시 달서구 감삼동</td>\n",
       "      <td>단일로 - 기타</td>\n",
       "      <td>건조</td>\n",
       "      <td>차대차</td>\n",
       "      <td>측면충돌</td>\n",
       "      <td>안전운전불이행</td>\n",
       "      <td>...</td>\n",
       "      <td>상해없음</td>\n",
       "      <td>승용</td>\n",
       "      <td>남</td>\n",
       "      <td>35세</td>\n",
       "      <td>경상</td>\n",
       "      <td>0</td>\n",
       "      <td>0</td>\n",
       "      <td>2</td>\n",
       "      <td>0</td>\n",
       "      <td>6</td>\n",
       "    </tr>\n",
       "    <tr>\n",
       "      <th>6</th>\n",
       "      <td>ACCIDENT_00006</td>\n",
       "      <td>2019-01-01 05</td>\n",
       "      <td>화요일</td>\n",
       "      <td>맑음</td>\n",
       "      <td>대구광역시 수성구 지산동</td>\n",
       "      <td>교차로 - 교차로안</td>\n",
       "      <td>건조</td>\n",
       "      <td>차대차</td>\n",
       "      <td>측면충돌</td>\n",
       "      <td>교차로운행방법위반</td>\n",
       "      <td>...</td>\n",
       "      <td>경상</td>\n",
       "      <td>승용</td>\n",
       "      <td>남</td>\n",
       "      <td>76세</td>\n",
       "      <td>경상</td>\n",
       "      <td>0</td>\n",
       "      <td>0</td>\n",
       "      <td>6</td>\n",
       "      <td>0</td>\n",
       "      <td>18</td>\n",
       "    </tr>\n",
       "    <tr>\n",
       "      <th>7</th>\n",
       "      <td>ACCIDENT_00007</td>\n",
       "      <td>2019-01-01 06</td>\n",
       "      <td>화요일</td>\n",
       "      <td>흐림</td>\n",
       "      <td>대구광역시 달서구 상인동</td>\n",
       "      <td>단일로 - 기타</td>\n",
       "      <td>건조</td>\n",
       "      <td>차대차</td>\n",
       "      <td>추돌</td>\n",
       "      <td>안전운전불이행</td>\n",
       "      <td>...</td>\n",
       "      <td>상해없음</td>\n",
       "      <td>승용</td>\n",
       "      <td>남</td>\n",
       "      <td>53세</td>\n",
       "      <td>경상</td>\n",
       "      <td>0</td>\n",
       "      <td>0</td>\n",
       "      <td>1</td>\n",
       "      <td>0</td>\n",
       "      <td>3</td>\n",
       "    </tr>\n",
       "    <tr>\n",
       "      <th>8</th>\n",
       "      <td>ACCIDENT_00008</td>\n",
       "      <td>2019-01-01 06</td>\n",
       "      <td>화요일</td>\n",
       "      <td>맑음</td>\n",
       "      <td>대구광역시 북구 태전동</td>\n",
       "      <td>기타 - 기타</td>\n",
       "      <td>건조</td>\n",
       "      <td>차대차</td>\n",
       "      <td>기타</td>\n",
       "      <td>안전운전불이행</td>\n",
       "      <td>...</td>\n",
       "      <td>상해없음</td>\n",
       "      <td>자전거</td>\n",
       "      <td>남</td>\n",
       "      <td>62세</td>\n",
       "      <td>중상</td>\n",
       "      <td>0</td>\n",
       "      <td>1</td>\n",
       "      <td>0</td>\n",
       "      <td>0</td>\n",
       "      <td>5</td>\n",
       "    </tr>\n",
       "    <tr>\n",
       "      <th>9</th>\n",
       "      <td>ACCIDENT_00009</td>\n",
       "      <td>2019-01-01 10</td>\n",
       "      <td>화요일</td>\n",
       "      <td>맑음</td>\n",
       "      <td>대구광역시 동구 지묘동</td>\n",
       "      <td>단일로 - 터널</td>\n",
       "      <td>건조</td>\n",
       "      <td>차대차</td>\n",
       "      <td>기타</td>\n",
       "      <td>신호위반</td>\n",
       "      <td>...</td>\n",
       "      <td>상해없음</td>\n",
       "      <td>승용</td>\n",
       "      <td>여</td>\n",
       "      <td>42세</td>\n",
       "      <td>경상</td>\n",
       "      <td>0</td>\n",
       "      <td>0</td>\n",
       "      <td>3</td>\n",
       "      <td>0</td>\n",
       "      <td>9</td>\n",
       "    </tr>\n",
       "  </tbody>\n",
       "</table>\n",
       "<p>10 rows × 23 columns</p>\n",
       "</div>"
      ],
      "text/plain": [
       "               ID           사고일시   요일 기상상태            시군구        도로형태 노면상태  \\\n",
       "0  ACCIDENT_00000  2019-01-01 00  화요일   맑음   대구광역시 중구 대신동    단일로 - 기타   건조   \n",
       "1  ACCIDENT_00001  2019-01-01 00  화요일   흐림  대구광역시 달서구 감삼동    단일로 - 기타   건조   \n",
       "2  ACCIDENT_00002  2019-01-01 01  화요일   맑음  대구광역시 수성구 두산동    단일로 - 기타   건조   \n",
       "3  ACCIDENT_00003  2019-01-01 02  화요일   맑음   대구광역시 북구 복현동    단일로 - 기타   건조   \n",
       "4  ACCIDENT_00004  2019-01-01 04  화요일   맑음   대구광역시 동구 신암동    단일로 - 기타   건조   \n",
       "5  ACCIDENT_00005  2019-01-01 04  화요일   맑음  대구광역시 달서구 감삼동    단일로 - 기타   건조   \n",
       "6  ACCIDENT_00006  2019-01-01 05  화요일   맑음  대구광역시 수성구 지산동  교차로 - 교차로안   건조   \n",
       "7  ACCIDENT_00007  2019-01-01 06  화요일   흐림  대구광역시 달서구 상인동    단일로 - 기타   건조   \n",
       "8  ACCIDENT_00008  2019-01-01 06  화요일   맑음   대구광역시 북구 태전동     기타 - 기타   건조   \n",
       "9  ACCIDENT_00009  2019-01-01 10  화요일   맑음   대구광역시 동구 지묘동    단일로 - 터널   건조   \n",
       "\n",
       "   사고유형 사고유형 - 세부분류       법규위반  ... 가해운전자 상해정도 피해운전자 차종 피해운전자 성별 피해운전자 연령  \\\n",
       "0  차대사람  길가장자리구역통행중    안전운전불이행  ...       상해없음      보행자        여      70세   \n",
       "1  차대사람       보도통행중         기타  ...       상해없음      보행자        남      61세   \n",
       "2  차대사람       차도통행중    안전운전불이행  ...       상해없음      보행자        남      38세   \n",
       "3   차대차          추돌    안전운전불이행  ...       상해없음       승용        남      36세   \n",
       "4   차대차          추돌    안전운전불이행  ...       상해없음       승용        남      52세   \n",
       "5   차대차        측면충돌    안전운전불이행  ...       상해없음       승용        남      35세   \n",
       "6   차대차        측면충돌  교차로운행방법위반  ...         경상       승용        남      76세   \n",
       "7   차대차          추돌    안전운전불이행  ...       상해없음       승용        남      53세   \n",
       "8   차대차          기타    안전운전불이행  ...       상해없음      자전거        남      62세   \n",
       "9   차대차          기타       신호위반  ...       상해없음       승용        여      42세   \n",
       "\n",
       "  피해운전자 상해정도 사망자수 중상자수 경상자수  부상자수  ECLO  \n",
       "0         중상    0    1    0     0     5  \n",
       "1         경상    0    0    1     0     3  \n",
       "2         경상    0    0    1     0     3  \n",
       "3         중상    0    1    0     0     5  \n",
       "4         경상    0    0    1     0     3  \n",
       "5         경상    0    0    2     0     6  \n",
       "6         경상    0    0    6     0    18  \n",
       "7         경상    0    0    1     0     3  \n",
       "8         중상    0    1    0     0     5  \n",
       "9         경상    0    0    3     0     9  \n",
       "\n",
       "[10 rows x 23 columns]"
      ]
     },
     "execution_count": 26,
     "metadata": {},
     "output_type": "execute_result"
    }
   ],
   "source": [
    "dtrain.head(10)"
   ]
  },
  {
   "cell_type": "code",
   "execution_count": 27,
   "id": "2d8830c2",
   "metadata": {},
   "outputs": [
    {
     "name": "stdout",
     "output_type": "stream",
     "text": [
      "<class 'pandas.core.frame.DataFrame'>\n",
      "Int64Index: 38618 entries, 0 to 39608\n",
      "Data columns (total 23 columns):\n",
      " #   Column       Non-Null Count  Dtype \n",
      "---  ------       --------------  ----- \n",
      " 0   ID           38618 non-null  object\n",
      " 1   사고일시         38618 non-null  object\n",
      " 2   요일           38618 non-null  object\n",
      " 3   기상상태         38618 non-null  object\n",
      " 4   시군구          38618 non-null  object\n",
      " 5   도로형태         38618 non-null  object\n",
      " 6   노면상태         38618 non-null  object\n",
      " 7   사고유형         38618 non-null  object\n",
      " 8   사고유형 - 세부분류  38618 non-null  object\n",
      " 9   법규위반         38618 non-null  object\n",
      " 10  가해운전자 차종     38618 non-null  object\n",
      " 11  가해운전자 성별     38618 non-null  object\n",
      " 12  가해운전자 연령     38618 non-null  object\n",
      " 13  가해운전자 상해정도   38618 non-null  object\n",
      " 14  피해운전자 차종     38618 non-null  object\n",
      " 15  피해운전자 성별     38618 non-null  object\n",
      " 16  피해운전자 연령     38618 non-null  object\n",
      " 17  피해운전자 상해정도   38618 non-null  object\n",
      " 18  사망자수         38618 non-null  int64 \n",
      " 19  중상자수         38618 non-null  int64 \n",
      " 20  경상자수         38618 non-null  int64 \n",
      " 21  부상자수         38618 non-null  int64 \n",
      " 22  ECLO         38618 non-null  int64 \n",
      "dtypes: int64(5), object(18)\n",
      "memory usage: 7.1+ MB\n"
     ]
    }
   ],
   "source": [
    "dtrain.info()"
   ]
  },
  {
   "cell_type": "code",
   "execution_count": 28,
   "id": "e1bdecb4",
   "metadata": {},
   "outputs": [
    {
     "data": {
      "text/plain": [
       "array(['맑음', '흐림', '기타', '비', '안개', '눈'], dtype=object)"
      ]
     },
     "execution_count": 28,
     "metadata": {},
     "output_type": "execute_result"
    }
   ],
   "source": [
    "dtrain.기상상태.unique()"
   ]
  },
  {
   "cell_type": "code",
   "execution_count": 29,
   "id": "b6c96453",
   "metadata": {},
   "outputs": [
    {
     "data": {
      "text/plain": [
       "array(['단일로 - 기타', '교차로 - 교차로안', '기타 - 기타', '단일로 - 터널', '단일로 - 지하차도(도로)내',\n",
       "       '교차로 - 교차로횡단보도내', '주차장 - 주차장', '교차로 - 교차로부근', '단일로 - 고가도로위',\n",
       "       '단일로 - 교량', '미분류 - 미분류'], dtype=object)"
      ]
     },
     "execution_count": 29,
     "metadata": {},
     "output_type": "execute_result"
    }
   ],
   "source": [
    "dtrain.도로형태.unique()"
   ]
  },
  {
   "cell_type": "code",
   "execution_count": 30,
   "id": "7cece4ec",
   "metadata": {},
   "outputs": [
    {
     "data": {
      "text/plain": [
       "array(['건조', '젖음/습기', '기타', '서리/결빙', '적설', '침수'], dtype=object)"
      ]
     },
     "execution_count": 30,
     "metadata": {},
     "output_type": "execute_result"
    }
   ],
   "source": [
    "dtrain.노면상태.unique()"
   ]
  },
  {
   "cell_type": "code",
   "execution_count": 31,
   "id": "c7622959",
   "metadata": {},
   "outputs": [
    {
     "data": {
      "text/plain": [
       "array(['차대사람', '차대차'], dtype=object)"
      ]
     },
     "execution_count": 31,
     "metadata": {},
     "output_type": "execute_result"
    }
   ],
   "source": [
    "dtrain.사고유형.unique()"
   ]
  },
  {
   "cell_type": "code",
   "execution_count": 32,
   "id": "72196f88",
   "metadata": {},
   "outputs": [
    {
     "data": {
      "text/plain": [
       "array(['길가장자리구역통행중', '보도통행중', '차도통행중', '추돌', '측면충돌', '기타', '횡단중', '정면충돌',\n",
       "       '후진중충돌'], dtype=object)"
      ]
     },
     "execution_count": 32,
     "metadata": {},
     "output_type": "execute_result"
    }
   ],
   "source": [
    "dtrain['사고유형 - 세부분류'].unique()"
   ]
  },
  {
   "cell_type": "code",
   "execution_count": 33,
   "id": "e8364e65",
   "metadata": {},
   "outputs": [],
   "source": [
    "weather_map = {\n",
    "    '기타': 0,\n",
    "    '맑음' : 1,\n",
    "    '흐림' : 2,\n",
    "    '비' : 3,\n",
    "    '안개' : 4,\n",
    "    '눈' : 5\n",
    "}"
   ]
  },
  {
   "cell_type": "code",
   "execution_count": 34,
   "id": "d6049f2d",
   "metadata": {},
   "outputs": [],
   "source": [
    "week_map = {\n",
    "    '월요일': 0,\n",
    "    '화요일' : 0,\n",
    "    '수요일' : 0,\n",
    "    '목요일' : 0,\n",
    "    '금요일' : 0,\n",
    "    '토요일' : 1,\n",
    "    '일요일' : 1\n",
    "}"
   ]
  },
  {
   "cell_type": "code",
   "execution_count": 35,
   "id": "cc02a97d",
   "metadata": {},
   "outputs": [],
   "source": [
    "road_map = {\n",
    "    '단일로 - 기타': 0,\n",
    "    '교차로 - 교차로안' : 1,\n",
    "    '기타 - 기타' : 2,\n",
    "    '단일로 - 터널' : 3,\n",
    "    '단일로 - 지하차도(도로)내' : 4,\n",
    "    '교차로 - 교차로횡단보도내' : 5, \n",
    "    '주차장 - 주차장' : 6, \n",
    "    '교차로 - 교차로부근' : 7,\n",
    "    '단일로 - 고가도로위' : 8,\n",
    "    '단일로 - 교량' : 9, \n",
    "    '미분류 - 미분류' : 10\n",
    "}"
   ]
  },
  {
   "cell_type": "code",
   "execution_count": 36,
   "id": "ad2d0594",
   "metadata": {},
   "outputs": [],
   "source": [
    "nom_map = {\n",
    "    '건조' : 0, \n",
    "    '젖음/습기' : 1, \n",
    "    '기타' : 2, \n",
    "    '서리/결빙' : 3, \n",
    "    '적설' : 4, \n",
    "    '침수' : 5\n",
    "}"
   ]
  },
  {
   "cell_type": "code",
   "execution_count": 37,
   "id": "bddbf317",
   "metadata": {},
   "outputs": [],
   "source": [
    "actype_map = {\n",
    "    '차대사람' : 0, \n",
    "    '차대차' : 1\n",
    "}"
   ]
  },
  {
   "cell_type": "code",
   "execution_count": 38,
   "id": "53b985e4",
   "metadata": {},
   "outputs": [
    {
     "name": "stderr",
     "output_type": "stream",
     "text": [
      "C:\\Users\\com\\anaconda3\\lib\\site-packages\\pandas\\core\\indexing.py:1773: SettingWithCopyWarning: \n",
      "A value is trying to be set on a copy of a slice from a DataFrame.\n",
      "Try using .loc[row_indexer,col_indexer] = value instead\n",
      "\n",
      "See the caveats in the documentation: https://pandas.pydata.org/pandas-docs/stable/user_guide/indexing.html#returning-a-view-versus-a-copy\n",
      "  self._setitem_single_column(ilocs[0], value, pi)\n"
     ]
    }
   ],
   "source": [
    "dtrain.loc[:,'기상상태'] = dtrain['기상상태'].map(weather_map)"
   ]
  },
  {
   "cell_type": "code",
   "execution_count": 39,
   "id": "f8c61756",
   "metadata": {},
   "outputs": [],
   "source": [
    "dtrain.loc[:,'요일'] = dtrain['요일'].map(week_map)"
   ]
  },
  {
   "cell_type": "code",
   "execution_count": 40,
   "id": "3128ccb4",
   "metadata": {},
   "outputs": [],
   "source": [
    "dtrain.loc[:,'도로형태'] = dtrain['도로형태'].map(road_map)"
   ]
  },
  {
   "cell_type": "code",
   "execution_count": 41,
   "id": "1b384aec",
   "metadata": {},
   "outputs": [],
   "source": [
    "dtrain.loc[:,'노면상태'] = dtrain['노면상태'].map(nom_map)"
   ]
  },
  {
   "cell_type": "code",
   "execution_count": 42,
   "id": "8197eda2",
   "metadata": {},
   "outputs": [],
   "source": [
    "dtrain.loc[:,'사고유형'] = dtrain['노면상태'].map(actype_map)"
   ]
  },
  {
   "cell_type": "code",
   "execution_count": 43,
   "id": "2c3b8a52",
   "metadata": {},
   "outputs": [
    {
     "data": {
      "text/html": [
       "<div>\n",
       "<style scoped>\n",
       "    .dataframe tbody tr th:only-of-type {\n",
       "        vertical-align: middle;\n",
       "    }\n",
       "\n",
       "    .dataframe tbody tr th {\n",
       "        vertical-align: top;\n",
       "    }\n",
       "\n",
       "    .dataframe thead th {\n",
       "        text-align: right;\n",
       "    }\n",
       "</style>\n",
       "<table border=\"1\" class=\"dataframe\">\n",
       "  <thead>\n",
       "    <tr style=\"text-align: right;\">\n",
       "      <th></th>\n",
       "      <th>ID</th>\n",
       "      <th>사고일시</th>\n",
       "      <th>요일</th>\n",
       "      <th>기상상태</th>\n",
       "      <th>시군구</th>\n",
       "      <th>도로형태</th>\n",
       "      <th>노면상태</th>\n",
       "      <th>사고유형</th>\n",
       "      <th>사고유형 - 세부분류</th>\n",
       "      <th>법규위반</th>\n",
       "      <th>...</th>\n",
       "      <th>가해운전자 상해정도</th>\n",
       "      <th>피해운전자 차종</th>\n",
       "      <th>피해운전자 성별</th>\n",
       "      <th>피해운전자 연령</th>\n",
       "      <th>피해운전자 상해정도</th>\n",
       "      <th>사망자수</th>\n",
       "      <th>중상자수</th>\n",
       "      <th>경상자수</th>\n",
       "      <th>부상자수</th>\n",
       "      <th>ECLO</th>\n",
       "    </tr>\n",
       "  </thead>\n",
       "  <tbody>\n",
       "    <tr>\n",
       "      <th>0</th>\n",
       "      <td>ACCIDENT_00000</td>\n",
       "      <td>2019-01-01 00</td>\n",
       "      <td>0</td>\n",
       "      <td>1</td>\n",
       "      <td>대구광역시 중구 대신동</td>\n",
       "      <td>0</td>\n",
       "      <td>0</td>\n",
       "      <td>NaN</td>\n",
       "      <td>길가장자리구역통행중</td>\n",
       "      <td>안전운전불이행</td>\n",
       "      <td>...</td>\n",
       "      <td>상해없음</td>\n",
       "      <td>보행자</td>\n",
       "      <td>여</td>\n",
       "      <td>70세</td>\n",
       "      <td>중상</td>\n",
       "      <td>0</td>\n",
       "      <td>1</td>\n",
       "      <td>0</td>\n",
       "      <td>0</td>\n",
       "      <td>5</td>\n",
       "    </tr>\n",
       "    <tr>\n",
       "      <th>1</th>\n",
       "      <td>ACCIDENT_00001</td>\n",
       "      <td>2019-01-01 00</td>\n",
       "      <td>0</td>\n",
       "      <td>2</td>\n",
       "      <td>대구광역시 달서구 감삼동</td>\n",
       "      <td>0</td>\n",
       "      <td>0</td>\n",
       "      <td>NaN</td>\n",
       "      <td>보도통행중</td>\n",
       "      <td>기타</td>\n",
       "      <td>...</td>\n",
       "      <td>상해없음</td>\n",
       "      <td>보행자</td>\n",
       "      <td>남</td>\n",
       "      <td>61세</td>\n",
       "      <td>경상</td>\n",
       "      <td>0</td>\n",
       "      <td>0</td>\n",
       "      <td>1</td>\n",
       "      <td>0</td>\n",
       "      <td>3</td>\n",
       "    </tr>\n",
       "    <tr>\n",
       "      <th>2</th>\n",
       "      <td>ACCIDENT_00002</td>\n",
       "      <td>2019-01-01 01</td>\n",
       "      <td>0</td>\n",
       "      <td>1</td>\n",
       "      <td>대구광역시 수성구 두산동</td>\n",
       "      <td>0</td>\n",
       "      <td>0</td>\n",
       "      <td>NaN</td>\n",
       "      <td>차도통행중</td>\n",
       "      <td>안전운전불이행</td>\n",
       "      <td>...</td>\n",
       "      <td>상해없음</td>\n",
       "      <td>보행자</td>\n",
       "      <td>남</td>\n",
       "      <td>38세</td>\n",
       "      <td>경상</td>\n",
       "      <td>0</td>\n",
       "      <td>0</td>\n",
       "      <td>1</td>\n",
       "      <td>0</td>\n",
       "      <td>3</td>\n",
       "    </tr>\n",
       "    <tr>\n",
       "      <th>3</th>\n",
       "      <td>ACCIDENT_00003</td>\n",
       "      <td>2019-01-01 02</td>\n",
       "      <td>0</td>\n",
       "      <td>1</td>\n",
       "      <td>대구광역시 북구 복현동</td>\n",
       "      <td>0</td>\n",
       "      <td>0</td>\n",
       "      <td>NaN</td>\n",
       "      <td>추돌</td>\n",
       "      <td>안전운전불이행</td>\n",
       "      <td>...</td>\n",
       "      <td>상해없음</td>\n",
       "      <td>승용</td>\n",
       "      <td>남</td>\n",
       "      <td>36세</td>\n",
       "      <td>중상</td>\n",
       "      <td>0</td>\n",
       "      <td>1</td>\n",
       "      <td>0</td>\n",
       "      <td>0</td>\n",
       "      <td>5</td>\n",
       "    </tr>\n",
       "    <tr>\n",
       "      <th>4</th>\n",
       "      <td>ACCIDENT_00004</td>\n",
       "      <td>2019-01-01 04</td>\n",
       "      <td>0</td>\n",
       "      <td>1</td>\n",
       "      <td>대구광역시 동구 신암동</td>\n",
       "      <td>0</td>\n",
       "      <td>0</td>\n",
       "      <td>NaN</td>\n",
       "      <td>추돌</td>\n",
       "      <td>안전운전불이행</td>\n",
       "      <td>...</td>\n",
       "      <td>상해없음</td>\n",
       "      <td>승용</td>\n",
       "      <td>남</td>\n",
       "      <td>52세</td>\n",
       "      <td>경상</td>\n",
       "      <td>0</td>\n",
       "      <td>0</td>\n",
       "      <td>1</td>\n",
       "      <td>0</td>\n",
       "      <td>3</td>\n",
       "    </tr>\n",
       "  </tbody>\n",
       "</table>\n",
       "<p>5 rows × 23 columns</p>\n",
       "</div>"
      ],
      "text/plain": [
       "               ID           사고일시  요일  기상상태            시군구  도로형태  노면상태  사고유형  \\\n",
       "0  ACCIDENT_00000  2019-01-01 00   0     1   대구광역시 중구 대신동     0     0   NaN   \n",
       "1  ACCIDENT_00001  2019-01-01 00   0     2  대구광역시 달서구 감삼동     0     0   NaN   \n",
       "2  ACCIDENT_00002  2019-01-01 01   0     1  대구광역시 수성구 두산동     0     0   NaN   \n",
       "3  ACCIDENT_00003  2019-01-01 02   0     1   대구광역시 북구 복현동     0     0   NaN   \n",
       "4  ACCIDENT_00004  2019-01-01 04   0     1   대구광역시 동구 신암동     0     0   NaN   \n",
       "\n",
       "  사고유형 - 세부분류     법규위반  ... 가해운전자 상해정도 피해운전자 차종 피해운전자 성별 피해운전자 연령 피해운전자 상해정도  \\\n",
       "0  길가장자리구역통행중  안전운전불이행  ...       상해없음      보행자        여      70세         중상   \n",
       "1       보도통행중       기타  ...       상해없음      보행자        남      61세         경상   \n",
       "2       차도통행중  안전운전불이행  ...       상해없음      보행자        남      38세         경상   \n",
       "3          추돌  안전운전불이행  ...       상해없음       승용        남      36세         중상   \n",
       "4          추돌  안전운전불이행  ...       상해없음       승용        남      52세         경상   \n",
       "\n",
       "  사망자수 중상자수 경상자수  부상자수  ECLO  \n",
       "0    0    1    0     0     5  \n",
       "1    0    0    1     0     3  \n",
       "2    0    0    1     0     3  \n",
       "3    0    1    0     0     5  \n",
       "4    0    0    1     0     3  \n",
       "\n",
       "[5 rows x 23 columns]"
      ]
     },
     "execution_count": 43,
     "metadata": {},
     "output_type": "execute_result"
    }
   ],
   "source": [
    "dtrain.head()"
   ]
  },
  {
   "cell_type": "code",
   "execution_count": 51,
   "id": "627f2845",
   "metadata": {},
   "outputs": [
    {
     "name": "stderr",
     "output_type": "stream",
     "text": [
      "C:\\Users\\com\\AppData\\Local\\Temp/ipykernel_21532/892237265.py:1: SettingWithCopyWarning: \n",
      "A value is trying to be set on a copy of a slice from a DataFrame.\n",
      "Try using .loc[row_indexer,col_indexer] = value instead\n",
      "\n",
      "See the caveats in the documentation: https://pandas.pydata.org/pandas-docs/stable/user_guide/indexing.html#returning-a-view-versus-a-copy\n",
      "  dtrain['구'] = ' '\n"
     ]
    }
   ],
   "source": [
    "dtrain['구'] = ' '\n",
    "for i in range(len(dtrain)):\n",
    "    dtrain.iloc[i, 23] = dtrain.iloc[i, 4].split()[1]"
   ]
  },
  {
   "cell_type": "code",
   "execution_count": 45,
   "id": "001b2299",
   "metadata": {},
   "outputs": [
    {
     "data": {
      "text/plain": [
       "<AxesSubplot:>"
      ]
     },
     "execution_count": 45,
     "metadata": {},
     "output_type": "execute_result"
    },
    {
     "data": {
      "image/png": "[encoded data removed]",
      "text/plain": [
       "<Figure size 432x288 with 2 Axes>"
      ]
     },
     "metadata": {
      "needs_background": "light"
     },
     "output_type": "display_data"
    }
   ],
   "source": [
    "sns.heatmap(dtrain.corr())"
   ]
  },
  {
   "cell_type": "code",
   "execution_count": 46,
   "id": "479b157b",
   "metadata": {},
   "outputs": [],
   "source": [
    "# dtrain['분할주소'] = dtrain['시군구'].str.split()"
   ]
  },
  {
   "cell_type": "code",
   "execution_count": 47,
   "id": "4ab93bde",
   "metadata": {},
   "outputs": [],
   "source": [
    "# dtrain['시군'] = dtrain['분할주소'].apply(lambda x: (x[0], x[1]) if len(x) > 0 else None)"
   ]
  },
  {
   "cell_type": "code",
   "execution_count": 52,
   "id": "6f215181",
   "metadata": {},
   "outputs": [
    {
     "data": {
      "text/html": [
       "<div>\n",
       "<style scoped>\n",
       "    .dataframe tbody tr th:only-of-type {\n",
       "        vertical-align: middle;\n",
       "    }\n",
       "\n",
       "    .dataframe tbody tr th {\n",
       "        vertical-align: top;\n",
       "    }\n",
       "\n",
       "    .dataframe thead th {\n",
       "        text-align: right;\n",
       "    }\n",
       "</style>\n",
       "<table border=\"1\" class=\"dataframe\">\n",
       "  <thead>\n",
       "    <tr style=\"text-align: right;\">\n",
       "      <th></th>\n",
       "      <th>ID</th>\n",
       "      <th>사고일시</th>\n",
       "      <th>요일</th>\n",
       "      <th>기상상태</th>\n",
       "      <th>시군구</th>\n",
       "      <th>도로형태</th>\n",
       "      <th>노면상태</th>\n",
       "      <th>사고유형</th>\n",
       "      <th>사고유형 - 세부분류</th>\n",
       "      <th>법규위반</th>\n",
       "      <th>...</th>\n",
       "      <th>피해운전자 차종</th>\n",
       "      <th>피해운전자 성별</th>\n",
       "      <th>피해운전자 연령</th>\n",
       "      <th>피해운전자 상해정도</th>\n",
       "      <th>사망자수</th>\n",
       "      <th>중상자수</th>\n",
       "      <th>경상자수</th>\n",
       "      <th>부상자수</th>\n",
       "      <th>ECLO</th>\n",
       "      <th>구</th>\n",
       "    </tr>\n",
       "  </thead>\n",
       "  <tbody>\n",
       "    <tr>\n",
       "      <th>0</th>\n",
       "      <td>ACCIDENT_00000</td>\n",
       "      <td>2019-01-01 00</td>\n",
       "      <td>0</td>\n",
       "      <td>1</td>\n",
       "      <td>대구광역시 중구 대신동</td>\n",
       "      <td>0</td>\n",
       "      <td>0</td>\n",
       "      <td>NaN</td>\n",
       "      <td>길가장자리구역통행중</td>\n",
       "      <td>안전운전불이행</td>\n",
       "      <td>...</td>\n",
       "      <td>보행자</td>\n",
       "      <td>여</td>\n",
       "      <td>70세</td>\n",
       "      <td>중상</td>\n",
       "      <td>0</td>\n",
       "      <td>1</td>\n",
       "      <td>0</td>\n",
       "      <td>0</td>\n",
       "      <td>5</td>\n",
       "      <td>중구</td>\n",
       "    </tr>\n",
       "    <tr>\n",
       "      <th>1</th>\n",
       "      <td>ACCIDENT_00001</td>\n",
       "      <td>2019-01-01 00</td>\n",
       "      <td>0</td>\n",
       "      <td>2</td>\n",
       "      <td>대구광역시 달서구 감삼동</td>\n",
       "      <td>0</td>\n",
       "      <td>0</td>\n",
       "      <td>NaN</td>\n",
       "      <td>보도통행중</td>\n",
       "      <td>기타</td>\n",
       "      <td>...</td>\n",
       "      <td>보행자</td>\n",
       "      <td>남</td>\n",
       "      <td>61세</td>\n",
       "      <td>경상</td>\n",
       "      <td>0</td>\n",
       "      <td>0</td>\n",
       "      <td>1</td>\n",
       "      <td>0</td>\n",
       "      <td>3</td>\n",
       "      <td>달서구</td>\n",
       "    </tr>\n",
       "    <tr>\n",
       "      <th>2</th>\n",
       "      <td>ACCIDENT_00002</td>\n",
       "      <td>2019-01-01 01</td>\n",
       "      <td>0</td>\n",
       "      <td>1</td>\n",
       "      <td>대구광역시 수성구 두산동</td>\n",
       "      <td>0</td>\n",
       "      <td>0</td>\n",
       "      <td>NaN</td>\n",
       "      <td>차도통행중</td>\n",
       "      <td>안전운전불이행</td>\n",
       "      <td>...</td>\n",
       "      <td>보행자</td>\n",
       "      <td>남</td>\n",
       "      <td>38세</td>\n",
       "      <td>경상</td>\n",
       "      <td>0</td>\n",
       "      <td>0</td>\n",
       "      <td>1</td>\n",
       "      <td>0</td>\n",
       "      <td>3</td>\n",
       "      <td>수성구</td>\n",
       "    </tr>\n",
       "    <tr>\n",
       "      <th>3</th>\n",
       "      <td>ACCIDENT_00003</td>\n",
       "      <td>2019-01-01 02</td>\n",
       "      <td>0</td>\n",
       "      <td>1</td>\n",
       "      <td>대구광역시 북구 복현동</td>\n",
       "      <td>0</td>\n",
       "      <td>0</td>\n",
       "      <td>NaN</td>\n",
       "      <td>추돌</td>\n",
       "      <td>안전운전불이행</td>\n",
       "      <td>...</td>\n",
       "      <td>승용</td>\n",
       "      <td>남</td>\n",
       "      <td>36세</td>\n",
       "      <td>중상</td>\n",
       "      <td>0</td>\n",
       "      <td>1</td>\n",
       "      <td>0</td>\n",
       "      <td>0</td>\n",
       "      <td>5</td>\n",
       "      <td>북구</td>\n",
       "    </tr>\n",
       "    <tr>\n",
       "      <th>4</th>\n",
       "      <td>ACCIDENT_00004</td>\n",
       "      <td>2019-01-01 04</td>\n",
       "      <td>0</td>\n",
       "      <td>1</td>\n",
       "      <td>대구광역시 동구 신암동</td>\n",
       "      <td>0</td>\n",
       "      <td>0</td>\n",
       "      <td>NaN</td>\n",
       "      <td>추돌</td>\n",
       "      <td>안전운전불이행</td>\n",
       "      <td>...</td>\n",
       "      <td>승용</td>\n",
       "      <td>남</td>\n",
       "      <td>52세</td>\n",
       "      <td>경상</td>\n",
       "      <td>0</td>\n",
       "      <td>0</td>\n",
       "      <td>1</td>\n",
       "      <td>0</td>\n",
       "      <td>3</td>\n",
       "      <td>동구</td>\n",
       "    </tr>\n",
       "  </tbody>\n",
       "</table>\n",
       "<p>5 rows × 24 columns</p>\n",
       "</div>"
      ],
      "text/plain": [
       "               ID           사고일시  요일  기상상태            시군구  도로형태  노면상태  사고유형  \\\n",
       "0  ACCIDENT_00000  2019-01-01 00   0     1   대구광역시 중구 대신동     0     0   NaN   \n",
       "1  ACCIDENT_00001  2019-01-01 00   0     2  대구광역시 달서구 감삼동     0     0   NaN   \n",
       "2  ACCIDENT_00002  2019-01-01 01   0     1  대구광역시 수성구 두산동     0     0   NaN   \n",
       "3  ACCIDENT_00003  2019-01-01 02   0     1   대구광역시 북구 복현동     0     0   NaN   \n",
       "4  ACCIDENT_00004  2019-01-01 04   0     1   대구광역시 동구 신암동     0     0   NaN   \n",
       "\n",
       "  사고유형 - 세부분류     법규위반  ... 피해운전자 차종 피해운전자 성별 피해운전자 연령 피해운전자 상해정도 사망자수 중상자수  \\\n",
       "0  길가장자리구역통행중  안전운전불이행  ...      보행자        여      70세         중상    0    1   \n",
       "1       보도통행중       기타  ...      보행자        남      61세         경상    0    0   \n",
       "2       차도통행중  안전운전불이행  ...      보행자        남      38세         경상    0    0   \n",
       "3          추돌  안전운전불이행  ...       승용        남      36세         중상    0    1   \n",
       "4          추돌  안전운전불이행  ...       승용        남      52세         경상    0    0   \n",
       "\n",
       "  경상자수 부상자수  ECLO    구  \n",
       "0    0    0     5   중구  \n",
       "1    1    0     3  달서구  \n",
       "2    1    0     3  수성구  \n",
       "3    0    0     5   북구  \n",
       "4    1    0     3   동구  \n",
       "\n",
       "[5 rows x 24 columns]"
      ]
     },
     "execution_count": 52,
     "metadata": {},
     "output_type": "execute_result"
    }
   ],
   "source": [
    "dtrain.head()"
   ]
  },
  {
   "cell_type": "code",
   "execution_count": null,
   "id": "3eff7608",
   "metadata": {},
   "outputs": [],
   "source": []
  }
 ],
 "metadata": {
  "kernelspec": {
   "display_name": "Python 3 (ipykernel)",
   "language": "python",
   "name": "python3"
  },
  "language_info": {
   "codemirror_mode": {
    "name": "ipython",
    "version": 3
   },
   "file_extension": ".py",
   "mimetype": "text/x-python",
   "name": "python",
   "nbconvert_exporter": "python",
   "pygments_lexer": "ipython3",
   "version": "3.9.7"
  }
 },
 "nbformat": 4,
 "nbformat_minor": 5
}
