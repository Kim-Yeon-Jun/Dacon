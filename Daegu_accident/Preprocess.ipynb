{
 "cells": [
  {
   "cell_type": "code",
   "execution_count": 2,
   "id": "c9e3b1a2",
   "metadata": {},
   "outputs": [],
   "source": [
    "import pandas as pd"
   ]
  },
  {
   "cell_type": "code",
   "execution_count": 3,
   "id": "30d87163",
   "metadata": {},
   "outputs": [],
   "source": [
    "df_train = pd.read_csv(\"train.csv\")\n",
    "df_test = pd.read_csv(\"test.csv\")"
   ]
  },
  {
   "cell_type": "code",
   "execution_count": 5,
   "id": "49a85f73",
   "metadata": {},
   "outputs": [
    {
     "name": "stdout",
     "output_type": "stream",
     "text": [
      "<class 'pandas.core.frame.DataFrame'>\n",
      "RangeIndex: 10963 entries, 0 to 10962\n",
      "Data columns (total 8 columns):\n",
      " #   Column  Non-Null Count  Dtype \n",
      "---  ------  --------------  ----- \n",
      " 0   ID      10963 non-null  object\n",
      " 1   사고일시    10963 non-null  object\n",
      " 2   요일      10963 non-null  object\n",
      " 3   기상상태    10963 non-null  object\n",
      " 4   시군구     10963 non-null  object\n",
      " 5   도로형태    10963 non-null  object\n",
      " 6   노면상태    10963 non-null  object\n",
      " 7   사고유형    10963 non-null  object\n",
      "dtypes: object(8)\n",
      "memory usage: 685.3+ KB\n"
     ]
    }
   ],
   "source": [
    "df_test.info()"
   ]
  },
  {
   "cell_type": "code",
   "execution_count": 9,
   "id": "ecd78a4e",
   "metadata": {
    "scrolled": false
   },
   "outputs": [],
   "source": [
    "sample = pd.concat([df_train, pd.get_dummies(df_train.iloc[:, 0:18]).astype(int)], axis=1)"
   ]
  },
  {
   "cell_type": "code",
   "execution_count": 10,
   "id": "a69fb3ed",
   "metadata": {
    "scrolled": true
   },
   "outputs": [
    {
     "data": {
      "text/html": [
       "<div>\n",
       "<style scoped>\n",
       "    .dataframe tbody tr th:only-of-type {\n",
       "        vertical-align: middle;\n",
       "    }\n",
       "\n",
       "    .dataframe tbody tr th {\n",
       "        vertical-align: top;\n",
       "    }\n",
       "\n",
       "    .dataframe thead th {\n",
       "        text-align: right;\n",
       "    }\n",
       "</style>\n",
       "<table border=\"1\" class=\"dataframe\">\n",
       "  <thead>\n",
       "    <tr style=\"text-align: right;\">\n",
       "      <th></th>\n",
       "      <th>ID</th>\n",
       "      <th>사고일시</th>\n",
       "      <th>요일</th>\n",
       "      <th>기상상태</th>\n",
       "      <th>시군구</th>\n",
       "      <th>도로형태</th>\n",
       "      <th>노면상태</th>\n",
       "      <th>사고유형</th>\n",
       "      <th>사고유형 - 세부분류</th>\n",
       "      <th>법규위반</th>\n",
       "      <th>...</th>\n",
       "      <th>피해운전자 연령_94세</th>\n",
       "      <th>피해운전자 연령_98세 이상</th>\n",
       "      <th>피해운전자 연령_9세</th>\n",
       "      <th>피해운전자 연령_미분류</th>\n",
       "      <th>피해운전자 상해정도_경상</th>\n",
       "      <th>피해운전자 상해정도_기타불명</th>\n",
       "      <th>피해운전자 상해정도_부상신고</th>\n",
       "      <th>피해운전자 상해정도_사망</th>\n",
       "      <th>피해운전자 상해정도_상해없음</th>\n",
       "      <th>피해운전자 상해정도_중상</th>\n",
       "    </tr>\n",
       "  </thead>\n",
       "  <tbody>\n",
       "    <tr>\n",
       "      <th>0</th>\n",
       "      <td>ACCIDENT_00000</td>\n",
       "      <td>2019-01-01 00</td>\n",
       "      <td>화요일</td>\n",
       "      <td>맑음</td>\n",
       "      <td>대구광역시 중구 대신동</td>\n",
       "      <td>단일로 - 기타</td>\n",
       "      <td>건조</td>\n",
       "      <td>차대사람</td>\n",
       "      <td>길가장자리구역통행중</td>\n",
       "      <td>안전운전불이행</td>\n",
       "      <td>...</td>\n",
       "      <td>0</td>\n",
       "      <td>0</td>\n",
       "      <td>0</td>\n",
       "      <td>0</td>\n",
       "      <td>0</td>\n",
       "      <td>0</td>\n",
       "      <td>0</td>\n",
       "      <td>0</td>\n",
       "      <td>0</td>\n",
       "      <td>1</td>\n",
       "    </tr>\n",
       "    <tr>\n",
       "      <th>1</th>\n",
       "      <td>ACCIDENT_00001</td>\n",
       "      <td>2019-01-01 00</td>\n",
       "      <td>화요일</td>\n",
       "      <td>흐림</td>\n",
       "      <td>대구광역시 달서구 감삼동</td>\n",
       "      <td>단일로 - 기타</td>\n",
       "      <td>건조</td>\n",
       "      <td>차대사람</td>\n",
       "      <td>보도통행중</td>\n",
       "      <td>기타</td>\n",
       "      <td>...</td>\n",
       "      <td>0</td>\n",
       "      <td>0</td>\n",
       "      <td>0</td>\n",
       "      <td>0</td>\n",
       "      <td>1</td>\n",
       "      <td>0</td>\n",
       "      <td>0</td>\n",
       "      <td>0</td>\n",
       "      <td>0</td>\n",
       "      <td>0</td>\n",
       "    </tr>\n",
       "    <tr>\n",
       "      <th>2</th>\n",
       "      <td>ACCIDENT_00002</td>\n",
       "      <td>2019-01-01 01</td>\n",
       "      <td>화요일</td>\n",
       "      <td>맑음</td>\n",
       "      <td>대구광역시 수성구 두산동</td>\n",
       "      <td>단일로 - 기타</td>\n",
       "      <td>건조</td>\n",
       "      <td>차대사람</td>\n",
       "      <td>차도통행중</td>\n",
       "      <td>안전운전불이행</td>\n",
       "      <td>...</td>\n",
       "      <td>0</td>\n",
       "      <td>0</td>\n",
       "      <td>0</td>\n",
       "      <td>0</td>\n",
       "      <td>1</td>\n",
       "      <td>0</td>\n",
       "      <td>0</td>\n",
       "      <td>0</td>\n",
       "      <td>0</td>\n",
       "      <td>0</td>\n",
       "    </tr>\n",
       "    <tr>\n",
       "      <th>3</th>\n",
       "      <td>ACCIDENT_00003</td>\n",
       "      <td>2019-01-01 02</td>\n",
       "      <td>화요일</td>\n",
       "      <td>맑음</td>\n",
       "      <td>대구광역시 북구 복현동</td>\n",
       "      <td>단일로 - 기타</td>\n",
       "      <td>건조</td>\n",
       "      <td>차대차</td>\n",
       "      <td>추돌</td>\n",
       "      <td>안전운전불이행</td>\n",
       "      <td>...</td>\n",
       "      <td>0</td>\n",
       "      <td>0</td>\n",
       "      <td>0</td>\n",
       "      <td>0</td>\n",
       "      <td>0</td>\n",
       "      <td>0</td>\n",
       "      <td>0</td>\n",
       "      <td>0</td>\n",
       "      <td>0</td>\n",
       "      <td>1</td>\n",
       "    </tr>\n",
       "    <tr>\n",
       "      <th>4</th>\n",
       "      <td>ACCIDENT_00004</td>\n",
       "      <td>2019-01-01 04</td>\n",
       "      <td>화요일</td>\n",
       "      <td>맑음</td>\n",
       "      <td>대구광역시 동구 신암동</td>\n",
       "      <td>단일로 - 기타</td>\n",
       "      <td>건조</td>\n",
       "      <td>차대차</td>\n",
       "      <td>추돌</td>\n",
       "      <td>안전운전불이행</td>\n",
       "      <td>...</td>\n",
       "      <td>0</td>\n",
       "      <td>0</td>\n",
       "      <td>0</td>\n",
       "      <td>0</td>\n",
       "      <td>1</td>\n",
       "      <td>0</td>\n",
       "      <td>0</td>\n",
       "      <td>0</td>\n",
       "      <td>0</td>\n",
       "      <td>0</td>\n",
       "    </tr>\n",
       "  </tbody>\n",
       "</table>\n",
       "<p>5 rows × 58175 columns</p>\n",
       "</div>"
      ],
      "text/plain": [
       "               ID           사고일시   요일 기상상태            시군구      도로형태 노면상태  \\\n",
       "0  ACCIDENT_00000  2019-01-01 00  화요일   맑음   대구광역시 중구 대신동  단일로 - 기타   건조   \n",
       "1  ACCIDENT_00001  2019-01-01 00  화요일   흐림  대구광역시 달서구 감삼동  단일로 - 기타   건조   \n",
       "2  ACCIDENT_00002  2019-01-01 01  화요일   맑음  대구광역시 수성구 두산동  단일로 - 기타   건조   \n",
       "3  ACCIDENT_00003  2019-01-01 02  화요일   맑음   대구광역시 북구 복현동  단일로 - 기타   건조   \n",
       "4  ACCIDENT_00004  2019-01-01 04  화요일   맑음   대구광역시 동구 신암동  단일로 - 기타   건조   \n",
       "\n",
       "   사고유형 사고유형 - 세부분류     법규위반  ... 피해운전자 연령_94세 피해운전자 연령_98세 이상 피해운전자 연령_9세  \\\n",
       "0  차대사람  길가장자리구역통행중  안전운전불이행  ...            0               0           0   \n",
       "1  차대사람       보도통행중       기타  ...            0               0           0   \n",
       "2  차대사람       차도통행중  안전운전불이행  ...            0               0           0   \n",
       "3   차대차          추돌  안전운전불이행  ...            0               0           0   \n",
       "4   차대차          추돌  안전운전불이행  ...            0               0           0   \n",
       "\n",
       "  피해운전자 연령_미분류 피해운전자 상해정도_경상 피해운전자 상해정도_기타불명 피해운전자 상해정도_부상신고 피해운전자 상해정도_사망  \\\n",
       "0            0             0               0               0             0   \n",
       "1            0             1               0               0             0   \n",
       "2            0             1               0               0             0   \n",
       "3            0             0               0               0             0   \n",
       "4            0             1               0               0             0   \n",
       "\n",
       "   피해운전자 상해정도_상해없음  피해운전자 상해정도_중상  \n",
       "0                0              1  \n",
       "1                0              0  \n",
       "2                0              0  \n",
       "3                0              1  \n",
       "4                0              0  \n",
       "\n",
       "[5 rows x 58175 columns]"
      ]
     },
     "execution_count": 10,
     "metadata": {},
     "output_type": "execute_result"
    }
   ],
   "source": [
    "sample.head()"
   ]
  },
  {
   "cell_type": "code",
   "execution_count": 11,
   "id": "6aa0eec7",
   "metadata": {},
   "outputs": [
    {
     "name": "stdout",
     "output_type": "stream",
     "text": [
      "<class 'pandas.core.frame.DataFrame'>\n",
      "RangeIndex: 39609 entries, 0 to 39608\n",
      "Columns: 58175 entries, ID to 피해운전자 상해정도_중상\n",
      "dtypes: int32(58152), int64(5), object(18)\n",
      "memory usage: 8.6+ GB\n"
     ]
    }
   ],
   "source": [
    "sample.info()"
   ]
  },
  {
   "cell_type": "code",
   "execution_count": 12,
   "id": "0b493baf",
   "metadata": {},
   "outputs": [
    {
     "data": {
      "text/plain": [
       "(39609, 58175)"
      ]
     },
     "execution_count": 12,
     "metadata": {},
     "output_type": "execute_result"
    }
   ],
   "source": [
    "sample.shape"
   ]
  },
  {
   "cell_type": "code",
   "execution_count": null,
   "id": "28a458a9",
   "metadata": {},
   "outputs": [],
   "source": [
    "target_col = ['사망자수','중상자수','경상자수','부상자수']"
   ]
  },
  {
   "cell_type": "code",
   "execution_count": null,
   "id": "0b16d306",
   "metadata": {},
   "outputs": [],
   "source": [
    "use_col = df_test.columns.tolist()\n",
    "use_col.extend(target_col)"
   ]
  },
  {
   "cell_type": "code",
   "execution_count": null,
   "id": "81045ed9",
   "metadata": {},
   "outputs": [],
   "source": [
    "df_train = df_train[use_col]"
   ]
  },
  {
   "cell_type": "code",
   "execution_count": null,
   "id": "6b9c17aa",
   "metadata": {},
   "outputs": [],
   "source": [
    "df_train.head()"
   ]
  },
  {
   "cell_type": "code",
   "execution_count": null,
   "id": "576624c0",
   "metadata": {},
   "outputs": [],
   "source": [
    "df_test.head()"
   ]
  },
  {
   "cell_type": "code",
   "execution_count": null,
   "id": "8b53e7ed",
   "metadata": {},
   "outputs": [],
   "source": [
    "df_train.drop(['ID'], axis = 1,inplace = True)\n",
    "df_test.drop(['ID'], axis = 1,inplace = True)"
   ]
  },
  {
   "cell_type": "code",
   "execution_count": null,
   "id": "6f7fb57b",
   "metadata": {},
   "outputs": [],
   "source": [
    "df_train.drop(['사고일시'], axis = 1,inplace = True)\n",
    "df_test.drop(['사고일시'], axis = 1,inplace = True)"
   ]
  },
  {
   "cell_type": "code",
   "execution_count": null,
   "id": "c7fb1339",
   "metadata": {},
   "outputs": [],
   "source": [
    "day_map = {\n",
    "    '월요일' : '평일',\n",
    "    '화요일' : '평일',\n",
    "    '수요일' : '평일',\n",
    "    '목요일' : '평일',\n",
    "    '금요일' : '평일',\n",
    "    '토요일' : '주말',\n",
    "    '일요일' : '주말'\n",
    "}"
   ]
  },
  {
   "cell_type": "code",
   "execution_count": null,
   "id": "e3af940f",
   "metadata": {},
   "outputs": [],
   "source": [
    "df_train['요일'] = df_train['요일'].replace(day_map)\n",
    "\n",
    "df_test['요일'] = df_test['요일'].replace(day_map)"
   ]
  },
  {
   "cell_type": "code",
   "execution_count": null,
   "id": "68b35662",
   "metadata": {},
   "outputs": [],
   "source": [
    "df_train.head()"
   ]
  },
  {
   "cell_type": "code",
   "execution_count": null,
   "id": "71b75246",
   "metadata": {},
   "outputs": [],
   "source": [
    "df_train = pd.concat([df_train, pd.get_dummies(df_train['요일'])], axis=1)\n",
    "\n",
    "df_test = pd.concat([df_test, pd.get_dummies(df_test['요일'])], axis=1)"
   ]
  },
  {
   "cell_type": "code",
   "execution_count": null,
   "id": "00a910d9",
   "metadata": {},
   "outputs": [],
   "source": [
    "df_train.drop(['요일'], axis = 1,inplace = True)\n",
    "df_test.drop(['요일'], axis = 1,inplace = True)"
   ]
  },
  {
   "cell_type": "code",
   "execution_count": null,
   "id": "99377982",
   "metadata": {},
   "outputs": [],
   "source": [
    "df_train.head()"
   ]
  },
  {
   "cell_type": "code",
   "execution_count": null,
   "id": "7ceb09d5",
   "metadata": {},
   "outputs": [],
   "source": [
    "df_test.head()"
   ]
  },
  {
   "cell_type": "code",
   "execution_count": null,
   "id": "b826b524",
   "metadata": {},
   "outputs": [],
   "source": [
    "df_train['기상상태'].value_counts()"
   ]
  },
  {
   "cell_type": "code",
   "execution_count": null,
   "id": "d7ceef50",
   "metadata": {},
   "outputs": [],
   "source": [
    "df_test['기상상태'].value_counts()"
   ]
  },
  {
   "cell_type": "code",
   "execution_count": null,
   "id": "3e8a9184",
   "metadata": {},
   "outputs": [],
   "source": [
    "df_train.drop(df_train[df_train['기상상태'] == '안개'].index, axis = 0, inplace = True)\n",
    "\n",
    "df_train.reset_index(drop=True, inplace = True)"
   ]
  },
  {
   "cell_type": "code",
   "execution_count": null,
   "id": "64f3e9a6",
   "metadata": {},
   "outputs": [],
   "source": [
    "df_train['기상상태'].value_counts()"
   ]
  },
  {
   "cell_type": "code",
   "execution_count": null,
   "id": "95c30dd1",
   "metadata": {},
   "outputs": [],
   "source": [
    "df_train = pd.concat([df_train, pd.get_dummies(df_train['기상상태'])], axis=1)\n",
    "\n",
    "df_test = pd.concat([df_test, pd.get_dummies(df_test['기상상태'])], axis=1)\n",
    "\n",
    "df_train.drop(['기상상태'], axis=1, inplace = True)\n",
    "df_test.drop(['기상상태'], axis=1, inplace = True)"
   ]
  },
  {
   "cell_type": "code",
   "execution_count": null,
   "id": "b5209357",
   "metadata": {},
   "outputs": [],
   "source": [
    "df_train.head()"
   ]
  },
  {
   "cell_type": "code",
   "execution_count": null,
   "id": "d85c594b",
   "metadata": {},
   "outputs": [],
   "source": [
    "df_test.head()"
   ]
  },
  {
   "cell_type": "code",
   "execution_count": null,
   "id": "01b5c132",
   "metadata": {},
   "outputs": [],
   "source": [
    "df_train['구'] = ''\n",
    "\n",
    "for i in range(len(df_train)):\n",
    "    df_train.iloc[i, 15] = df_train.iloc[i, 0].split()[1]\n",
    "\n",
    "df_train.drop(['시군구'], axis=1, inplace = True)"
   ]
  },
  {
   "cell_type": "code",
   "execution_count": null,
   "id": "41560cd5",
   "metadata": {},
   "outputs": [],
   "source": [
    "df_test['구'] = ''\n",
    "\n",
    "for i in range(len(df_test)):\n",
    "    df_test.iloc[i, 11] = df_test.iloc[i, 0].split()[1]\n",
    "\n",
    "df_test.drop(['시군구'], axis=1, inplace = True)"
   ]
  },
  {
   "cell_type": "code",
   "execution_count": null,
   "id": "b3461014",
   "metadata": {},
   "outputs": [],
   "source": [
    "df_train = pd.concat([df_train, pd.get_dummies(df_train['구'])], axis=1)\n",
    "\n",
    "df_test = pd.concat([df_test, pd.get_dummies(df_test['구'])], axis=1)"
   ]
  },
  {
   "cell_type": "code",
   "execution_count": null,
   "id": "95aafe22",
   "metadata": {},
   "outputs": [],
   "source": [
    "df_train.head()"
   ]
  },
  {
   "cell_type": "code",
   "execution_count": null,
   "id": "954abf1a",
   "metadata": {},
   "outputs": [],
   "source": [
    "df_test.head()"
   ]
  },
  {
   "cell_type": "code",
   "execution_count": null,
   "id": "3a3a12dc",
   "metadata": {},
   "outputs": [],
   "source": [
    "df_train['도로형태'].value_counts()"
   ]
  },
  {
   "cell_type": "code",
   "execution_count": null,
   "id": "df958503",
   "metadata": {},
   "outputs": [],
   "source": [
    "df_test['도로형태'].value_counts()"
   ]
  },
  {
   "cell_type": "code",
   "execution_count": null,
   "id": "65f09793",
   "metadata": {},
   "outputs": [],
   "source": [
    "df_train = pd.concat([df_train, pd.get_dummies(df_train['도로형태'])], axis=1)\n",
    "df_test = pd.concat([df_test, pd.get_dummies(df_test['도로형태'])], axis=1)\n",
    "\n",
    "df_train.drop(['도로형태'], axis=1, inplace = True)\n",
    "df_test.drop(['도로형태'], axis=1, inplace = True)"
   ]
  },
  {
   "cell_type": "code",
   "execution_count": null,
   "id": "1ecae9f9",
   "metadata": {},
   "outputs": [],
   "source": [
    "df_train['노면상태'].value_counts()"
   ]
  },
  {
   "cell_type": "code",
   "execution_count": null,
   "id": "9405b388",
   "metadata": {},
   "outputs": [],
   "source": [
    "df_test['노면상태'].value_counts()"
   ]
  },
  {
   "cell_type": "code",
   "execution_count": null,
   "id": "83cdc7fa",
   "metadata": {},
   "outputs": [],
   "source": [
    "df_train = pd.concat([df_train, pd.get_dummies(df_train['노면상태'])], axis=1)\n",
    "df_test = pd.concat([df_test, pd.get_dummies(df_test['노면상태'])], axis=1)\n",
    "\n",
    "df_train.drop(['노면상태'], axis=1, inplace = True)\n",
    "df_test.drop(['노면상태'], axis=1, inplace = True)"
   ]
  },
  {
   "cell_type": "code",
   "execution_count": null,
   "id": "95152cb2",
   "metadata": {},
   "outputs": [],
   "source": [
    "df_train['사고유형'].value_counts()"
   ]
  },
  {
   "cell_type": "code",
   "execution_count": null,
   "id": "edec6bd1",
   "metadata": {},
   "outputs": [],
   "source": [
    "df_test['사고유형'].value_counts()"
   ]
  },
  {
   "cell_type": "code",
   "execution_count": null,
   "id": "092a7715",
   "metadata": {},
   "outputs": [],
   "source": [
    "df_train = pd.concat([df_train, pd.get_dummies(df_train['사고유형'])], axis=1)\n",
    "df_test = pd.concat([df_test, pd.get_dummies(df_test['사고유형'])], axis=1)\n",
    "\n",
    "df_train.drop(['사고유형'], axis=1, inplace = True)\n",
    "df_test.drop(['사고유형'], axis=1, inplace = True)"
   ]
  },
  {
   "cell_type": "code",
   "execution_count": null,
   "id": "49a30e4f",
   "metadata": {},
   "outputs": [],
   "source": [
    "df_train.head()"
   ]
  },
  {
   "cell_type": "code",
   "execution_count": null,
   "id": "7b96319a",
   "metadata": {},
   "outputs": [],
   "source": [
    "df_train.dropna()\n",
    "df_test.dropna()"
   ]
  },
  {
   "cell_type": "code",
   "execution_count": null,
   "id": "4cc8f9cd",
   "metadata": {},
   "outputs": [],
   "source": [
    "# df_train.to_csv(\"df_train.csv\", encoding='utf-8')\n",
    "# df_test.to_csv(\"df_test.csv\", encoding='utf-8')"
   ]
  }
 ],
 "metadata": {
  "kernelspec": {
   "display_name": "Python 3 (ipykernel)",
   "language": "python",
   "name": "python3"
  },
  "language_info": {
   "codemirror_mode": {
    "name": "ipython",
    "version": 3
   },
   "file_extension": ".py",
   "mimetype": "text/x-python",
   "name": "python",
   "nbconvert_exporter": "python",
   "pygments_lexer": "ipython3",
   "version": "3.9.18"
  }
 },
 "nbformat": 4,
 "nbformat_minor": 5
}
