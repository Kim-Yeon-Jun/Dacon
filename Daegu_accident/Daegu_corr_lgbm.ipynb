{
  "nbformat": 4,
  "nbformat_minor": 0,
  "metadata": {
    "colab": {
      "provenance": [],
      "mount_file_id": "1zS1FK5lQeVO3Z29Outg3hzVMd_V6gMUY",
      "authorship_tag": "ABX9TyNJ88BXdYkpuT/kG9KNCWg0",
      "include_colab_link": true
    },
    "kernelspec": {
      "name": "python3",
      "display_name": "Python 3"
    },
    "language_info": {
      "name": "python"
    }
  },
  "cells": [
    {
      "cell_type": "markdown",
      "metadata": {
        "id": "view-in-github",
        "colab_type": "text"
      },
      "source": [
        "<a href=\"https://colab.research.google.com/github/Kim-Yeon-Jun/Dacon/blob/main/Daegu_corr_lgbm.ipynb\" target=\"_parent\"><img src=\"https://colab.research.google.com/assets/colab-badge.svg\" alt=\"Open In Colab\"/></a>"
      ]
    },
    {
      "cell_type": "code",
      "execution_count": 1,
      "metadata": {
        "id": "kOKODonRXjD6"
      },
      "outputs": [],
      "source": [
        "import tensorflow as tf\n",
        "import numpy as np\n",
        "import pandas as pd\n",
        "from sklearn.model_selection import train_test_split\n",
        "from sklearn.preprocessing import StandardScaler\n",
        "from tensorflow.keras.optimizers import SGD\n",
        "from tensorflow.keras.optimizers import Adam\n",
        "from tensorflow.keras.callbacks import EarlyStopping\n",
        "import matplotlib.pyplot as plt"
      ]
    },
    {
      "cell_type": "code",
      "source": [
        "train = pd.read_csv(\"/content/drive/MyDrive/Dacon/Daegu_accident/train.csv\")\n",
        "X = pd.read_csv(\"/content/drive/MyDrive/Dacon/Daegu_accident/corr_train.csv\")\n",
        "y = train.ECLO.copy()\n",
        "test = pd.read_csv(\"/content/drive/MyDrive/Dacon/Daegu_accident/corr_test.csv\")"
      ],
      "metadata": {
        "id": "FEQzR-hkXyAd"
      },
      "execution_count": null,
      "outputs": []
    },
    {
      "cell_type": "code",
      "source": [
        "X_train, X_test, y_train, y_test = train_test_split(X, y, test_size = 0.2)"
      ],
      "metadata": {
        "id": "QA0StqnpYC8U"
      },
      "execution_count": null,
      "outputs": []
    },
    {
      "cell_type": "code",
      "source": [
        "model = tf.keras.Sequential([\n",
        "    tf.keras.layers.Dense(16, activation=\"linear\", input_dim=14, name=\"layer1\"),\n",
        "    tf.keras.layers.BatchNormalization(),\n",
        "    tf.keras.layers.Dense(64, activation=\"linear\", name=\"layer2\"),\n",
        "    tf.keras.layers.BatchNormalization(),\n",
        "    tf.keras.layers.Dense(32, activation=\"linear\", name=\"layer3\"),\n",
        "    tf.keras.layers.BatchNormalization(),\n",
        "    tf.keras.layers.Dense(1, name=\"layer5\"),\n",
        "])"
      ],
      "metadata": {
        "id": "3n6Zy4CvYGIT"
      },
      "execution_count": null,
      "outputs": []
    },
    {
      "cell_type": "code",
      "source": [
        "lr = 0.03\n",
        "optimizer = SGD(learning_rate = lr)\n",
        "model.compile(optimizer='sgd', loss='mean_squared_error')"
      ],
      "metadata": {
        "id": "eRzGiXlcYWcD"
      },
      "execution_count": null,
      "outputs": []
    },
    {
      "cell_type": "code",
      "source": [
        "estop = EarlyStopping(monitor='val_loss', patience=20, restore_best_weights=True)\n",
        "\n",
        "# 콜백 클래스 정의\n",
        "class LossHistory(tf.keras.callbacks.Callback):\n",
        "    def on_train_begin(self, logs={}):\n",
        "        self.losses = []\n",
        "        self.val_losses = []\n",
        "\n",
        "    def on_epoch_end(self, epoch, logs={}):\n",
        "        self.losses.append(logs.get('loss'))\n",
        "        self.val_losses.append(logs.get('val_loss'))\n",
        "\n",
        "history_callback = LossHistory()"
      ],
      "metadata": {
        "id": "IQjeW2T1YWaJ"
      },
      "execution_count": null,
      "outputs": []
    },
    {
      "cell_type": "code",
      "source": [
        "#history = model.fit(X_train, y_train, epochs=100, validation_data=(X_test, y_test),callbacks=[history_callback, estop])"
      ],
      "metadata": {
        "id": "PLXVcWjwtLE6"
      },
      "execution_count": null,
      "outputs": []
    },
    {
      "cell_type": "code",
      "source": [
        "history = model.fit(X_train, y_train, epochs=10, validation_data=(X_test, y_test),callbacks=[history_callback])"
      ],
      "metadata": {
        "colab": {
          "base_uri": "https://localhost:8080/"
        },
        "id": "wkTrSA_9YY0F",
        "outputId": "7b1c7dbc-15ed-43a0-c6d0-83d95c5d104d"
      },
      "execution_count": null,
      "outputs": [
        {
          "output_type": "stream",
          "name": "stdout",
          "text": [
            "Epoch 1/10\n",
            "991/991 [==============================] - 5s 4ms/step - loss: 10.5010 - val_loss: 10.1207\n",
            "Epoch 2/10\n",
            "991/991 [==============================] - 5s 5ms/step - loss: 10.1872 - val_loss: 10.0929\n",
            "Epoch 3/10\n",
            "991/991 [==============================] - 3s 3ms/step - loss: 10.1646 - val_loss: 10.0893\n",
            "Epoch 4/10\n",
            "991/991 [==============================] - 3s 3ms/step - loss: 10.1420 - val_loss: 9.9016\n",
            "Epoch 5/10\n",
            "991/991 [==============================] - 3s 3ms/step - loss: 10.1569 - val_loss: 10.0894\n",
            "Epoch 6/10\n",
            "991/991 [==============================] - 4s 4ms/step - loss: 10.1371 - val_loss: 9.8870\n",
            "Epoch 7/10\n",
            "991/991 [==============================] - 5s 5ms/step - loss: 10.1037 - val_loss: 9.9746\n",
            "Epoch 8/10\n",
            "991/991 [==============================] - 3s 3ms/step - loss: 10.1094 - val_loss: 9.8436\n",
            "Epoch 9/10\n",
            "991/991 [==============================] - 3s 3ms/step - loss: 10.1031 - val_loss: 9.9278\n",
            "Epoch 10/10\n",
            "991/991 [==============================] - 3s 3ms/step - loss: 10.0917 - val_loss: 9.9347\n"
          ]
        }
      ]
    },
    {
      "cell_type": "code",
      "source": [
        "plt.plot(history_callback.losses, label='Training Loss')\n",
        "plt.plot(history_callback.val_losses, label='Validation Loss')\n",
        "plt.legend()\n",
        "plt.show()"
      ],
      "metadata": {
        "colab": {
          "base_uri": "https://localhost:8080/",
          "height": 434
        },
        "id": "_jJCU0KoYYw3",
        "outputId": "d7c888c8-0594-4815-e5f1-844c908a76aa"
      },
      "execution_count": null,
      "outputs": [
        {
          "output_type": "display_data",
          "data": {
            "text/plain": [
              "<Figure size 640x480 with 1 Axes>"
            ],
            "image/png": "[encoded data removed]"
          },
          "metadata": {}
        }
      ]
    },
    {
      "cell_type": "code",
      "source": [
        "predictions = model.predict(test)\n",
        "print(predictions)"
      ],
      "metadata": {
        "colab": {
          "base_uri": "https://localhost:8080/"
        },
        "id": "PNTAFaDfYYbh",
        "outputId": "39a19930-9e22-48af-fa8f-a44c823aa791"
      },
      "execution_count": null,
      "outputs": [
        {
          "output_type": "stream",
          "name": "stdout",
          "text": [
            "343/343 [==============================] - 1s 3ms/step\n",
            "[[4.4779053]\n",
            " [4.235179 ]\n",
            " [5.594164 ]\n",
            " ...\n",
            " [5.1198425]\n",
            " [5.3625693]\n",
            " [5.5947876]]\n"
          ]
        }
      ]
    },
    {
      "cell_type": "code",
      "source": [
        "result = np.round(predictions)\n",
        "sub = pd.read_csv(\"/content/drive/MyDrive/Dacon/Daegu_accident/sample_submission.csv\")\n",
        "sub['ECLO'] = result\n",
        "sub.head()"
      ],
      "metadata": {
        "colab": {
          "base_uri": "https://localhost:8080/",
          "height": 206
        },
        "id": "4xSQUwJUZXD8",
        "outputId": "3dbb0c68-c5dd-4715-cb93-0e85be18b3c8"
      },
      "execution_count": null,
      "outputs": [
        {
          "output_type": "execute_result",
          "data": {
            "text/plain": [
              "               ID  ECLO\n",
              "0  ACCIDENT_39609   4.0\n",
              "1  ACCIDENT_39610   4.0\n",
              "2  ACCIDENT_39611   6.0\n",
              "3  ACCIDENT_39612   5.0\n",
              "4  ACCIDENT_39613   5.0"
            ],
            "text/html": [
              "\n",
              "  <div id=\"df-03169778-c5b5-4964-b559-3450ba1a7a73\" class=\"colab-df-container\">\n",
              "    <div>\n",
              "<style scoped>\n",
              "    .dataframe tbody tr th:only-of-type {\n",
              "        vertical-align: middle;\n",
              "    }\n",
              "\n",
              "    .dataframe tbody tr th {\n",
              "        vertical-align: top;\n",
              "    }\n",
              "\n",
              "    .dataframe thead th {\n",
              "        text-align: right;\n",
              "    }\n",
              "</style>\n",
              "<table border=\"1\" class=\"dataframe\">\n",
              "  <thead>\n",
              "    <tr style=\"text-align: right;\">\n",
              "      <th></th>\n",
              "      <th>ID</th>\n",
              "      <th>ECLO</th>\n",
              "    </tr>\n",
              "  </thead>\n",
              "  <tbody>\n",
              "    <tr>\n",
              "      <th>0</th>\n",
              "      <td>ACCIDENT_39609</td>\n",
              "      <td>4.0</td>\n",
              "    </tr>\n",
              "    <tr>\n",
              "      <th>1</th>\n",
              "      <td>ACCIDENT_39610</td>\n",
              "      <td>4.0</td>\n",
              "    </tr>\n",
              "    <tr>\n",
              "      <th>2</th>\n",
              "      <td>ACCIDENT_39611</td>\n",
              "      <td>6.0</td>\n",
              "    </tr>\n",
              "    <tr>\n",
              "      <th>3</th>\n",
              "      <td>ACCIDENT_39612</td>\n",
              "      <td>5.0</td>\n",
              "    </tr>\n",
              "    <tr>\n",
              "      <th>4</th>\n",
              "      <td>ACCIDENT_39613</td>\n",
              "      <td>5.0</td>\n",
              "    </tr>\n",
              "  </tbody>\n",
              "</table>\n",
              "</div>\n",
              "    <div class=\"colab-df-buttons\">\n",
              "\n",
              "  <div class=\"colab-df-container\">\n",
              "    <button class=\"colab-df-convert\" onclick=\"convertToInteractive('df-03169778-c5b5-4964-b559-3450ba1a7a73')\"\n",
              "            title=\"Convert this dataframe to an interactive table.\"\n",
              "            style=\"display:none;\">\n",
              "\n",
              "  <svg xmlns=\"http://www.w3.org/2000/svg\" height=\"24px\" viewBox=\"0 -960 960 960\">\n",
              "    <path d=\"M120-120v-720h720v720H120Zm60-500h600v-160H180v160Zm220 220h160v-160H400v160Zm0 220h160v-160H400v160ZM180-400h160v-160H180v160Zm440 0h160v-160H620v160ZM180-180h160v-160H180v160Zm440 0h160v-160H620v160Z\"/>\n",
              "  </svg>\n",
              "    </button>\n",
              "\n",
              "  <style>\n",
              "    .colab-df-container {\n",
              "      display:flex;\n",
              "      gap: 12px;\n",
              "    }\n",
              "\n",
              "    .colab-df-convert {\n",
              "      background-color: #E8F0FE;\n",
              "      border: none;\n",
              "      border-radius: 50%;\n",
              "      cursor: pointer;\n",
              "      display: none;\n",
              "      fill: #1967D2;\n",
              "      height: 32px;\n",
              "      padding: 0 0 0 0;\n",
              "      width: 32px;\n",
              "    }\n",
              "\n",
              "    .colab-df-convert:hover {\n",
              "      background-color: #E2EBFA;\n",
              "      box-shadow: 0px 1px 2px rgba(60, 64, 67, 0.3), 0px 1px 3px 1px rgba(60, 64, 67, 0.15);\n",
              "      fill: #174EA6;\n",
              "    }\n",
              "\n",
              "    .colab-df-buttons div {\n",
              "      margin-bottom: 4px;\n",
              "    }\n",
              "\n",
              "    [theme=dark] .colab-df-convert {\n",
              "      background-color: #3B4455;\n",
              "      fill: #D2E3FC;\n",
              "    }\n",
              "\n",
              "    [theme=dark] .colab-df-convert:hover {\n",
              "      background-color: #434B5C;\n",
              "      box-shadow: 0px 1px 3px 1px rgba(0, 0, 0, 0.15);\n",
              "      filter: drop-shadow(0px 1px 2px rgba(0, 0, 0, 0.3));\n",
              "      fill: #FFFFFF;\n",
              "    }\n",
              "  </style>\n",
              "\n",
              "    <script>\n",
              "      const buttonEl =\n",
              "        document.querySelector('#df-03169778-c5b5-4964-b559-3450ba1a7a73 button.colab-df-convert');\n",
              "      buttonEl.style.display =\n",
              "        google.colab.kernel.accessAllowed ? 'block' : 'none';\n",
              "\n",
              "      async function convertToInteractive(key) {\n",
              "        const element = document.querySelector('#df-03169778-c5b5-4964-b559-3450ba1a7a73');\n",
              "        const dataTable =\n",
              "          await google.colab.kernel.invokeFunction('convertToInteractive',\n",
              "                                                    [key], {});\n",
              "        if (!dataTable) return;\n",
              "\n",
              "        const docLinkHtml = 'Like what you see? Visit the ' +\n",
              "          '<a target=\"_blank\" href=https://colab.research.google.com/notebooks/data_table.ipynb>data table notebook</a>'\n",
              "          + ' to learn more about interactive tables.';\n",
              "        element.innerHTML = '';\n",
              "        dataTable['output_type'] = 'display_data';\n",
              "        await google.colab.output.renderOutput(dataTable, element);\n",
              "        const docLink = document.createElement('div');\n",
              "        docLink.innerHTML = docLinkHtml;\n",
              "        element.appendChild(docLink);\n",
              "      }\n",
              "    </script>\n",
              "  </div>\n",
              "\n",
              "\n",
              "<div id=\"df-bd81b90e-028e-4580-8969-4f94d47ebba6\">\n",
              "  <button class=\"colab-df-quickchart\" onclick=\"quickchart('df-bd81b90e-028e-4580-8969-4f94d47ebba6')\"\n",
              "            title=\"Suggest charts\"\n",
              "            style=\"display:none;\">\n",
              "\n",
              "<svg xmlns=\"http://www.w3.org/2000/svg\" height=\"24px\"viewBox=\"0 0 24 24\"\n",
              "     width=\"24px\">\n",
              "    <g>\n",
              "        <path d=\"M19 3H5c-1.1 0-2 .9-2 2v14c0 1.1.9 2 2 2h14c1.1 0 2-.9 2-2V5c0-1.1-.9-2-2-2zM9 17H7v-7h2v7zm4 0h-2V7h2v10zm4 0h-2v-4h2v4z\"/>\n",
              "    </g>\n",
              "</svg>\n",
              "  </button>\n",
              "\n",
              "<style>\n",
              "  .colab-df-quickchart {\n",
              "      --bg-color: #E8F0FE;\n",
              "      --fill-color: #1967D2;\n",
              "      --hover-bg-color: #E2EBFA;\n",
              "      --hover-fill-color: #174EA6;\n",
              "      --disabled-fill-color: #AAA;\n",
              "      --disabled-bg-color: #DDD;\n",
              "  }\n",
              "\n",
              "  [theme=dark] .colab-df-quickchart {\n",
              "      --bg-color: #3B4455;\n",
              "      --fill-color: #D2E3FC;\n",
              "      --hover-bg-color: #434B5C;\n",
              "      --hover-fill-color: #FFFFFF;\n",
              "      --disabled-bg-color: #3B4455;\n",
              "      --disabled-fill-color: #666;\n",
              "  }\n",
              "\n",
              "  .colab-df-quickchart {\n",
              "    background-color: var(--bg-color);\n",
              "    border: none;\n",
              "    border-radius: 50%;\n",
              "    cursor: pointer;\n",
              "    display: none;\n",
              "    fill: var(--fill-color);\n",
              "    height: 32px;\n",
              "    padding: 0;\n",
              "    width: 32px;\n",
              "  }\n",
              "\n",
              "  .colab-df-quickchart:hover {\n",
              "    background-color: var(--hover-bg-color);\n",
              "    box-shadow: 0 1px 2px rgba(60, 64, 67, 0.3), 0 1px 3px 1px rgba(60, 64, 67, 0.15);\n",
              "    fill: var(--button-hover-fill-color);\n",
              "  }\n",
              "\n",
              "  .colab-df-quickchart-complete:disabled,\n",
              "  .colab-df-quickchart-complete:disabled:hover {\n",
              "    background-color: var(--disabled-bg-color);\n",
              "    fill: var(--disabled-fill-color);\n",
              "    box-shadow: none;\n",
              "  }\n",
              "\n",
              "  .colab-df-spinner {\n",
              "    border: 2px solid var(--fill-color);\n",
              "    border-color: transparent;\n",
              "    border-bottom-color: var(--fill-color);\n",
              "    animation:\n",
              "      spin 1s steps(1) infinite;\n",
              "  }\n",
              "\n",
              "  @keyframes spin {\n",
              "    0% {\n",
              "      border-color: transparent;\n",
              "      border-bottom-color: var(--fill-color);\n",
              "      border-left-color: var(--fill-color);\n",
              "    }\n",
              "    20% {\n",
              "      border-color: transparent;\n",
              "      border-left-color: var(--fill-color);\n",
              "      border-top-color: var(--fill-color);\n",
              "    }\n",
              "    30% {\n",
              "      border-color: transparent;\n",
              "      border-left-color: var(--fill-color);\n",
              "      border-top-color: var(--fill-color);\n",
              "      border-right-color: var(--fill-color);\n",
              "    }\n",
              "    40% {\n",
              "      border-color: transparent;\n",
              "      border-right-color: var(--fill-color);\n",
              "      border-top-color: var(--fill-color);\n",
              "    }\n",
              "    60% {\n",
              "      border-color: transparent;\n",
              "      border-right-color: var(--fill-color);\n",
              "    }\n",
              "    80% {\n",
              "      border-color: transparent;\n",
              "      border-right-color: var(--fill-color);\n",
              "      border-bottom-color: var(--fill-color);\n",
              "    }\n",
              "    90% {\n",
              "      border-color: transparent;\n",
              "      border-bottom-color: var(--fill-color);\n",
              "    }\n",
              "  }\n",
              "</style>\n",
              "\n",
              "  <script>\n",
              "    async function quickchart(key) {\n",
              "      const quickchartButtonEl =\n",
              "        document.querySelector('#' + key + ' button');\n",
              "      quickchartButtonEl.disabled = true;  // To prevent multiple clicks.\n",
              "      quickchartButtonEl.classList.add('colab-df-spinner');\n",
              "      try {\n",
              "        const charts = await google.colab.kernel.invokeFunction(\n",
              "            'suggestCharts', [key], {});\n",
              "      } catch (error) {\n",
              "        console.error('Error during call to suggestCharts:', error);\n",
              "      }\n",
              "      quickchartButtonEl.classList.remove('colab-df-spinner');\n",
              "      quickchartButtonEl.classList.add('colab-df-quickchart-complete');\n",
              "    }\n",
              "    (() => {\n",
              "      let quickchartButtonEl =\n",
              "        document.querySelector('#df-bd81b90e-028e-4580-8969-4f94d47ebba6 button');\n",
              "      quickchartButtonEl.style.display =\n",
              "        google.colab.kernel.accessAllowed ? 'block' : 'none';\n",
              "    })();\n",
              "  </script>\n",
              "</div>\n",
              "    </div>\n",
              "  </div>\n"
            ]
          },
          "metadata": {},
          "execution_count": 100
        }
      ]
    },
    {
      "cell_type": "code",
      "source": [
        "sub.ECLO.value_counts()"
      ],
      "metadata": {
        "colab": {
          "base_uri": "https://localhost:8080/"
        },
        "id": "64guypmkZikz",
        "outputId": "3d2178aa-3c25-489f-86e0-af2094d7c5c3"
      },
      "execution_count": null,
      "outputs": [
        {
          "output_type": "execute_result",
          "data": {
            "text/plain": [
              "5.0    8243\n",
              "4.0    2324\n",
              "6.0     337\n",
              "3.0      59\n",
              "Name: ECLO, dtype: int64"
            ]
          },
          "metadata": {},
          "execution_count": 101
        }
      ]
    },
    {
      "cell_type": "code",
      "source": [
        "sub.to_csv('/content/drive/MyDrive/Dacon/Daegu_accident/submission_corr_1.csv', index=False)"
      ],
      "metadata": {
        "id": "3KumK1lzpHi6"
      },
      "execution_count": null,
      "outputs": []
    },
    {
      "cell_type": "markdown",
      "source": [
        "## 상관관계를 통한 표준화 데이터 기반"
      ],
      "metadata": {
        "id": "F5O3nM79sFq5"
      }
    },
    {
      "cell_type": "code",
      "source": [
        "train = pd.read_csv(\"/content/drive/MyDrive/Dacon/Daegu_accident/train.csv\")\n",
        "X = pd.read_csv(\"/content/drive/MyDrive/Dacon/Daegu_accident/strain.csv\")\n",
        "y = train.ECLO.copy()\n",
        "test = pd.read_csv(\"/content/drive/MyDrive/Dacon/Daegu_accident/stest.csv\")"
      ],
      "metadata": {
        "id": "YSHJtxNRqGQa"
      },
      "execution_count": 145,
      "outputs": []
    },
    {
      "cell_type": "code",
      "source": [
        "X_train, X_test, y_train, y_test = train_test_split(X, y, test_size = 0.2)"
      ],
      "metadata": {
        "id": "rvMHBamNsU2v"
      },
      "execution_count": 146,
      "outputs": []
    },
    {
      "cell_type": "code",
      "source": [
        "model = tf.keras.Sequential([\n",
        "    tf.keras.layers.Dense(8, activation='relu', input_dim=7, name=\"layer1\"),\n",
        "    tf.keras.layers.Dense(16, activation='relu', name=\"layer2\"),\n",
        "    tf.keras.layers.Dense(1, activation='relu', name=\"layer3\")\n",
        "])"
      ],
      "metadata": {
        "id": "Xr6QCdT7sU04"
      },
      "execution_count": 147,
      "outputs": []
    },
    {
      "cell_type": "code",
      "source": [
        "lr = 0.001\n",
        "optimizer = SGD(learning_rate = lr)\n",
        "model.compile(optimizer='sgd', loss='mean_squared_error')"
      ],
      "metadata": {
        "id": "84lOTuwKsUzB"
      },
      "execution_count": 148,
      "outputs": []
    },
    {
      "cell_type": "code",
      "source": [
        "estop = EarlyStopping(monitor='val_loss', patience=20, restore_best_weights=True)\n",
        "\n",
        "# 콜백 클래스 정의\n",
        "class LossHistory(tf.keras.callbacks.Callback):\n",
        "    def on_train_begin(self, logs={}):\n",
        "        self.losses = []\n",
        "        self.val_losses = []\n",
        "\n",
        "    def on_epoch_end(self, epoch, logs={}):\n",
        "        self.losses.append(logs.get('loss'))\n",
        "        self.val_losses.append(logs.get('val_loss'))\n",
        "\n",
        "history_callback = LossHistory()"
      ],
      "metadata": {
        "id": "_8fhHV6Tscq7"
      },
      "execution_count": 149,
      "outputs": []
    },
    {
      "cell_type": "code",
      "source": [
        "history = model.fit(X_train, y_train, epochs=100, validation_data=(X_test, y_test),callbacks=[history_callback, estop])"
      ],
      "metadata": {
        "colab": {
          "base_uri": "https://localhost:8080/"
        },
        "id": "uX-166MzscoV",
        "outputId": "773711e0-9ff2-4644-f2ba-75673e6a8e71"
      },
      "execution_count": 150,
      "outputs": [
        {
          "output_type": "stream",
          "name": "stdout",
          "text": [
            "Epoch 1/100\n",
            "991/991 [==============================] - 3s 2ms/step - loss: 10.3519 - val_loss: 10.0251\n",
            "Epoch 2/100\n",
            "991/991 [==============================] - 3s 3ms/step - loss: 10.1560 - val_loss: 10.2129\n",
            "Epoch 3/100\n",
            "991/991 [==============================] - 3s 3ms/step - loss: 10.1429 - val_loss: 10.2057\n",
            "Epoch 4/100\n",
            "991/991 [==============================] - 3s 3ms/step - loss: 10.1413 - val_loss: 10.0003\n",
            "Epoch 5/100\n",
            "991/991 [==============================] - 2s 2ms/step - loss: 10.1385 - val_loss: 10.1920\n",
            "Epoch 6/100\n",
            "991/991 [==============================] - 2s 2ms/step - loss: 10.1189 - val_loss: 9.9989\n",
            "Epoch 7/100\n",
            "991/991 [==============================] - 2s 2ms/step - loss: 10.1174 - val_loss: 10.1056\n",
            "Epoch 8/100\n",
            "991/991 [==============================] - 2s 2ms/step - loss: 10.1166 - val_loss: 9.9827\n",
            "Epoch 9/100\n",
            "991/991 [==============================] - 3s 3ms/step - loss: 10.1111 - val_loss: 10.0658\n",
            "Epoch 10/100\n",
            "991/991 [==============================] - 3s 3ms/step - loss: 10.1079 - val_loss: 9.9748\n",
            "Epoch 11/100\n",
            "991/991 [==============================] - 2s 3ms/step - loss: 10.1017 - val_loss: 10.2274\n",
            "Epoch 12/100\n",
            "991/991 [==============================] - 2s 2ms/step - loss: 10.1067 - val_loss: 10.0510\n",
            "Epoch 13/100\n",
            "991/991 [==============================] - 2s 2ms/step - loss: 10.0963 - val_loss: 10.0325\n",
            "Epoch 14/100\n",
            "991/991 [==============================] - 2s 2ms/step - loss: 10.0925 - val_loss: 9.9712\n",
            "Epoch 15/100\n",
            "991/991 [==============================] - 2s 2ms/step - loss: 10.1018 - val_loss: 9.9597\n",
            "Epoch 16/100\n",
            "991/991 [==============================] - 3s 3ms/step - loss: 10.0977 - val_loss: 10.0471\n",
            "Epoch 17/100\n",
            "991/991 [==============================] - 3s 3ms/step - loss: 10.0862 - val_loss: 9.9551\n",
            "Epoch 18/100\n",
            "991/991 [==============================] - 2s 2ms/step - loss: 10.0768 - val_loss: 9.9938\n",
            "Epoch 19/100\n",
            "991/991 [==============================] - 2s 2ms/step - loss: 10.0831 - val_loss: 9.9531\n",
            "Epoch 20/100\n",
            "991/991 [==============================] - 2s 2ms/step - loss: 10.0779 - val_loss: 10.2341\n",
            "Epoch 21/100\n",
            "991/991 [==============================] - 2s 2ms/step - loss: 10.0884 - val_loss: 10.0922\n",
            "Epoch 22/100\n",
            "991/991 [==============================] - 2s 2ms/step - loss: 10.0815 - val_loss: 9.9594\n",
            "Epoch 23/100\n",
            "991/991 [==============================] - 3s 3ms/step - loss: 10.0776 - val_loss: 9.9477\n",
            "Epoch 24/100\n",
            "991/991 [==============================] - 3s 3ms/step - loss: 10.0736 - val_loss: 10.0260\n",
            "Epoch 25/100\n",
            "991/991 [==============================] - 2s 2ms/step - loss: 10.0761 - val_loss: 10.0224\n",
            "Epoch 26/100\n",
            "991/991 [==============================] - 2s 2ms/step - loss: 10.0669 - val_loss: 10.0121\n",
            "Epoch 27/100\n",
            "991/991 [==============================] - 2s 2ms/step - loss: 10.0755 - val_loss: 9.9487\n",
            "Epoch 28/100\n",
            "991/991 [==============================] - 2s 2ms/step - loss: 10.0669 - val_loss: 9.9590\n",
            "Epoch 29/100\n",
            "991/991 [==============================] - 3s 3ms/step - loss: 10.0698 - val_loss: 9.9851\n",
            "Epoch 30/100\n",
            "991/991 [==============================] - 3s 3ms/step - loss: 10.0696 - val_loss: 9.9530\n",
            "Epoch 31/100\n",
            "991/991 [==============================] - 3s 3ms/step - loss: 10.0683 - val_loss: 9.9466\n",
            "Epoch 32/100\n",
            "991/991 [==============================] - 2s 2ms/step - loss: 10.0647 - val_loss: 9.9452\n",
            "Epoch 33/100\n",
            "991/991 [==============================] - 2s 2ms/step - loss: 10.0607 - val_loss: 10.0034\n",
            "Epoch 34/100\n",
            "991/991 [==============================] - 2s 2ms/step - loss: 10.0677 - val_loss: 9.9633\n",
            "Epoch 35/100\n",
            "991/991 [==============================] - 2s 2ms/step - loss: 10.0574 - val_loss: 9.9420\n",
            "Epoch 36/100\n",
            "991/991 [==============================] - 3s 3ms/step - loss: 10.0596 - val_loss: 10.0129\n",
            "Epoch 37/100\n",
            "991/991 [==============================] - 3s 3ms/step - loss: 10.0532 - val_loss: 9.9561\n",
            "Epoch 38/100\n",
            "991/991 [==============================] - 2s 2ms/step - loss: 10.0549 - val_loss: 9.9675\n",
            "Epoch 39/100\n",
            "991/991 [==============================] - 2s 2ms/step - loss: 10.0615 - val_loss: 9.9501\n",
            "Epoch 40/100\n",
            "991/991 [==============================] - 2s 2ms/step - loss: 10.0510 - val_loss: 10.1277\n",
            "Epoch 41/100\n",
            "991/991 [==============================] - 2s 2ms/step - loss: 10.0474 - val_loss: 9.9485\n",
            "Epoch 42/100\n",
            "991/991 [==============================] - 2s 2ms/step - loss: 10.0547 - val_loss: 9.9401\n",
            "Epoch 43/100\n",
            "991/991 [==============================] - 3s 3ms/step - loss: 10.0482 - val_loss: 10.2347\n",
            "Epoch 44/100\n",
            "991/991 [==============================] - 3s 3ms/step - loss: 10.0581 - val_loss: 9.9523\n",
            "Epoch 45/100\n",
            "991/991 [==============================] - 3s 3ms/step - loss: 10.0508 - val_loss: 9.9406\n",
            "Epoch 46/100\n",
            "991/991 [==============================] - 2s 2ms/step - loss: 10.0546 - val_loss: 9.9400\n",
            "Epoch 47/100\n",
            "991/991 [==============================] - 2s 2ms/step - loss: 10.0420 - val_loss: 9.9519\n",
            "Epoch 48/100\n",
            "991/991 [==============================] - 2s 2ms/step - loss: 10.0459 - val_loss: 10.0371\n",
            "Epoch 49/100\n",
            "991/991 [==============================] - 2s 2ms/step - loss: 10.0478 - val_loss: 9.9366\n",
            "Epoch 50/100\n",
            "991/991 [==============================] - 3s 3ms/step - loss: 10.0509 - val_loss: 9.9392\n",
            "Epoch 51/100\n",
            "991/991 [==============================] - 3s 3ms/step - loss: 10.0531 - val_loss: 9.9377\n",
            "Epoch 52/100\n",
            "991/991 [==============================] - 2s 2ms/step - loss: 10.0486 - val_loss: 9.9707\n",
            "Epoch 53/100\n",
            "991/991 [==============================] - 2s 2ms/step - loss: 10.0443 - val_loss: 9.9362\n",
            "Epoch 54/100\n",
            "991/991 [==============================] - 2s 2ms/step - loss: 10.0434 - val_loss: 10.1007\n",
            "Epoch 55/100\n",
            "991/991 [==============================] - 2s 2ms/step - loss: 10.0479 - val_loss: 9.9907\n",
            "Epoch 56/100\n",
            "991/991 [==============================] - 3s 3ms/step - loss: 10.0423 - val_loss: 10.0081\n",
            "Epoch 57/100\n",
            "991/991 [==============================] - 3s 3ms/step - loss: 10.0497 - val_loss: 9.9730\n",
            "Epoch 58/100\n",
            "991/991 [==============================] - 3s 3ms/step - loss: 10.0453 - val_loss: 9.9389\n",
            "Epoch 59/100\n",
            "991/991 [==============================] - 2s 2ms/step - loss: 10.0478 - val_loss: 10.0094\n",
            "Epoch 60/100\n",
            "991/991 [==============================] - 2s 2ms/step - loss: 10.0415 - val_loss: 10.0313\n",
            "Epoch 61/100\n",
            "991/991 [==============================] - 2s 2ms/step - loss: 10.0472 - val_loss: 9.9417\n",
            "Epoch 62/100\n",
            "991/991 [==============================] - 2s 2ms/step - loss: 10.0439 - val_loss: 10.0088\n",
            "Epoch 63/100\n",
            "991/991 [==============================] - 3s 3ms/step - loss: 10.0415 - val_loss: 9.9579\n",
            "Epoch 64/100\n",
            "991/991 [==============================] - 3s 3ms/step - loss: 10.0486 - val_loss: 9.9364\n",
            "Epoch 65/100\n",
            "991/991 [==============================] - 3s 3ms/step - loss: 10.0359 - val_loss: 9.9383\n",
            "Epoch 66/100\n",
            "991/991 [==============================] - 2s 2ms/step - loss: 10.0372 - val_loss: 9.9401\n",
            "Epoch 67/100\n",
            "991/991 [==============================] - 2s 2ms/step - loss: 10.0444 - val_loss: 9.9556\n",
            "Epoch 68/100\n",
            "991/991 [==============================] - 2s 2ms/step - loss: 10.0435 - val_loss: 9.9397\n",
            "Epoch 69/100\n",
            "991/991 [==============================] - 2s 2ms/step - loss: 10.0447 - val_loss: 10.0816\n",
            "Epoch 70/100\n",
            "991/991 [==============================] - 3s 3ms/step - loss: 10.0428 - val_loss: 10.0817\n",
            "Epoch 71/100\n",
            "991/991 [==============================] - 3s 3ms/step - loss: 10.0416 - val_loss: 9.9354\n",
            "Epoch 72/100\n",
            "991/991 [==============================] - 2s 2ms/step - loss: 10.0490 - val_loss: 10.0446\n",
            "Epoch 73/100\n",
            "991/991 [==============================] - 2s 2ms/step - loss: 10.0474 - val_loss: 10.0327\n",
            "Epoch 74/100\n",
            "991/991 [==============================] - 2s 2ms/step - loss: 10.0409 - val_loss: 9.9502\n",
            "Epoch 75/100\n",
            "991/991 [==============================] - 2s 2ms/step - loss: 10.0464 - val_loss: 9.9356\n",
            "Epoch 76/100\n",
            "991/991 [==============================] - 2s 2ms/step - loss: 10.0395 - val_loss: 9.9459\n",
            "Epoch 77/100\n",
            "991/991 [==============================] - 3s 3ms/step - loss: 10.0475 - val_loss: 9.9343\n",
            "Epoch 78/100\n",
            "991/991 [==============================] - 3s 3ms/step - loss: 10.0407 - val_loss: 10.0368\n",
            "Epoch 79/100\n",
            "991/991 [==============================] - 2s 2ms/step - loss: 10.0428 - val_loss: 9.9492\n",
            "Epoch 80/100\n",
            "991/991 [==============================] - 2s 2ms/step - loss: 10.0411 - val_loss: 10.0280\n",
            "Epoch 81/100\n",
            "991/991 [==============================] - 2s 2ms/step - loss: 10.0386 - val_loss: 9.9395\n",
            "Epoch 82/100\n",
            "991/991 [==============================] - 2s 2ms/step - loss: 10.0397 - val_loss: 10.0216\n",
            "Epoch 83/100\n",
            "991/991 [==============================] - 3s 3ms/step - loss: 10.0389 - val_loss: 9.9418\n",
            "Epoch 84/100\n",
            "991/991 [==============================] - 3s 3ms/step - loss: 10.0418 - val_loss: 9.9346\n",
            "Epoch 85/100\n",
            "991/991 [==============================] - 3s 3ms/step - loss: 10.0386 - val_loss: 9.9745\n",
            "Epoch 86/100\n",
            "991/991 [==============================] - 2s 2ms/step - loss: 10.0454 - val_loss: 9.9550\n",
            "Epoch 87/100\n",
            "991/991 [==============================] - 2s 2ms/step - loss: 10.0394 - val_loss: 9.9431\n",
            "Epoch 88/100\n",
            "991/991 [==============================] - 3s 3ms/step - loss: 10.0423 - val_loss: 10.0092\n",
            "Epoch 89/100\n",
            "991/991 [==============================] - 3s 3ms/step - loss: 10.0393 - val_loss: 9.9604\n",
            "Epoch 90/100\n",
            "991/991 [==============================] - 3s 4ms/step - loss: 10.0381 - val_loss: 9.9408\n",
            "Epoch 91/100\n",
            "991/991 [==============================] - 3s 3ms/step - loss: 10.0393 - val_loss: 9.9448\n",
            "Epoch 92/100\n",
            "991/991 [==============================] - 2s 2ms/step - loss: 10.0341 - val_loss: 9.9311\n",
            "Epoch 93/100\n",
            "991/991 [==============================] - 2s 2ms/step - loss: 10.0328 - val_loss: 10.1008\n",
            "Epoch 94/100\n",
            "991/991 [==============================] - 2s 2ms/step - loss: 10.0350 - val_loss: 9.9717\n",
            "Epoch 95/100\n",
            "991/991 [==============================] - 3s 3ms/step - loss: 10.0351 - val_loss: 9.9346\n",
            "Epoch 96/100\n",
            "991/991 [==============================] - 5s 5ms/step - loss: 10.0372 - val_loss: 9.9509\n",
            "Epoch 97/100\n",
            "991/991 [==============================] - 4s 4ms/step - loss: 10.0378 - val_loss: 9.9522\n",
            "Epoch 98/100\n",
            "991/991 [==============================] - 2s 2ms/step - loss: 10.0382 - val_loss: 10.0101\n",
            "Epoch 99/100\n",
            "991/991 [==============================] - 2s 2ms/step - loss: 10.0377 - val_loss: 10.1230\n",
            "Epoch 100/100\n",
            "991/991 [==============================] - 2s 2ms/step - loss: 10.0390 - val_loss: 9.9913\n"
          ]
        }
      ]
    },
    {
      "cell_type": "code",
      "source": [
        "plt.plot(history_callback.losses, label='Training Loss')\n",
        "plt.plot(history_callback.val_losses, label='Validation Loss')\n",
        "plt.legend()\n",
        "plt.show()"
      ],
      "metadata": {
        "colab": {
          "base_uri": "https://localhost:8080/",
          "height": 430
        },
        "id": "5cIFkjM8set-",
        "outputId": "c40220cd-2763-4bff-d6df-5396e8146b27"
      },
      "execution_count": 152,
      "outputs": [
        {
          "output_type": "display_data",
          "data": {
            "text/plain": [
              "<Figure size 640x480 with 1 Axes>"
            ],
            "image/png": "[encoded data removed]"
          },
          "metadata": {}
        }
      ]
    },
    {
      "cell_type": "code",
      "source": [
        "predictions = model.predict(test)\n",
        "print(predictions)"
      ],
      "metadata": {
        "colab": {
          "base_uri": "https://localhost:8080/"
        },
        "id": "34uyFlEbsg2r",
        "outputId": "d13100ed-0fa7-4de1-d914-c502b2d9db12"
      },
      "execution_count": 153,
      "outputs": [
        {
          "output_type": "stream",
          "name": "stdout",
          "text": [
            "343/343 [==============================] - 1s 1ms/step\n",
            "[[3.890495 ]\n",
            " [3.7742398]\n",
            " [5.1332197]\n",
            " ...\n",
            " [4.796551 ]\n",
            " [4.95107  ]\n",
            " [5.198889 ]]\n"
          ]
        }
      ]
    },
    {
      "cell_type": "code",
      "source": [
        "result = np.round(predictions)\n",
        "sub = pd.read_csv(\"/content/drive/MyDrive/Dacon/Daegu_accident/sample_submission.csv\")\n",
        "sub['ECLO'] = result\n",
        "sub.head()"
      ],
      "metadata": {
        "colab": {
          "base_uri": "https://localhost:8080/",
          "height": 206
        },
        "id": "nC5HuJQnsg0y",
        "outputId": "36abb33b-c563-4392-db21-5f586f890c41"
      },
      "execution_count": 154,
      "outputs": [
        {
          "output_type": "execute_result",
          "data": {
            "text/plain": [
              "               ID  ECLO\n",
              "0  ACCIDENT_39609   4.0\n",
              "1  ACCIDENT_39610   4.0\n",
              "2  ACCIDENT_39611   5.0\n",
              "3  ACCIDENT_39612   5.0\n",
              "4  ACCIDENT_39613   5.0"
            ],
            "text/html": [
              "\n",
              "  <div id=\"df-55857c1c-a71d-4404-88e9-2f7ffffdf0f1\" class=\"colab-df-container\">\n",
              "    <div>\n",
              "<style scoped>\n",
              "    .dataframe tbody tr th:only-of-type {\n",
              "        vertical-align: middle;\n",
              "    }\n",
              "\n",
              "    .dataframe tbody tr th {\n",
              "        vertical-align: top;\n",
              "    }\n",
              "\n",
              "    .dataframe thead th {\n",
              "        text-align: right;\n",
              "    }\n",
              "</style>\n",
              "<table border=\"1\" class=\"dataframe\">\n",
              "  <thead>\n",
              "    <tr style=\"text-align: right;\">\n",
              "      <th></th>\n",
              "      <th>ID</th>\n",
              "      <th>ECLO</th>\n",
              "    </tr>\n",
              "  </thead>\n",
              "  <tbody>\n",
              "    <tr>\n",
              "      <th>0</th>\n",
              "      <td>ACCIDENT_39609</td>\n",
              "      <td>4.0</td>\n",
              "    </tr>\n",
              "    <tr>\n",
              "      <th>1</th>\n",
              "      <td>ACCIDENT_39610</td>\n",
              "      <td>4.0</td>\n",
              "    </tr>\n",
              "    <tr>\n",
              "      <th>2</th>\n",
              "      <td>ACCIDENT_39611</td>\n",
              "      <td>5.0</td>\n",
              "    </tr>\n",
              "    <tr>\n",
              "      <th>3</th>\n",
              "      <td>ACCIDENT_39612</td>\n",
              "      <td>5.0</td>\n",
              "    </tr>\n",
              "    <tr>\n",
              "      <th>4</th>\n",
              "      <td>ACCIDENT_39613</td>\n",
              "      <td>5.0</td>\n",
              "    </tr>\n",
              "  </tbody>\n",
              "</table>\n",
              "</div>\n",
              "    <div class=\"colab-df-buttons\">\n",
              "\n",
              "  <div class=\"colab-df-container\">\n",
              "    <button class=\"colab-df-convert\" onclick=\"convertToInteractive('df-55857c1c-a71d-4404-88e9-2f7ffffdf0f1')\"\n",
              "            title=\"Convert this dataframe to an interactive table.\"\n",
              "            style=\"display:none;\">\n",
              "\n",
              "  <svg xmlns=\"http://www.w3.org/2000/svg\" height=\"24px\" viewBox=\"0 -960 960 960\">\n",
              "    <path d=\"M120-120v-720h720v720H120Zm60-500h600v-160H180v160Zm220 220h160v-160H400v160Zm0 220h160v-160H400v160ZM180-400h160v-160H180v160Zm440 0h160v-160H620v160ZM180-180h160v-160H180v160Zm440 0h160v-160H620v160Z\"/>\n",
              "  </svg>\n",
              "    </button>\n",
              "\n",
              "  <style>\n",
              "    .colab-df-container {\n",
              "      display:flex;\n",
              "      gap: 12px;\n",
              "    }\n",
              "\n",
              "    .colab-df-convert {\n",
              "      background-color: #E8F0FE;\n",
              "      border: none;\n",
              "      border-radius: 50%;\n",
              "      cursor: pointer;\n",
              "      display: none;\n",
              "      fill: #1967D2;\n",
              "      height: 32px;\n",
              "      padding: 0 0 0 0;\n",
              "      width: 32px;\n",
              "    }\n",
              "\n",
              "    .colab-df-convert:hover {\n",
              "      background-color: #E2EBFA;\n",
              "      box-shadow: 0px 1px 2px rgba(60, 64, 67, 0.3), 0px 1px 3px 1px rgba(60, 64, 67, 0.15);\n",
              "      fill: #174EA6;\n",
              "    }\n",
              "\n",
              "    .colab-df-buttons div {\n",
              "      margin-bottom: 4px;\n",
              "    }\n",
              "\n",
              "    [theme=dark] .colab-df-convert {\n",
              "      background-color: #3B4455;\n",
              "      fill: #D2E3FC;\n",
              "    }\n",
              "\n",
              "    [theme=dark] .colab-df-convert:hover {\n",
              "      background-color: #434B5C;\n",
              "      box-shadow: 0px 1px 3px 1px rgba(0, 0, 0, 0.15);\n",
              "      filter: drop-shadow(0px 1px 2px rgba(0, 0, 0, 0.3));\n",
              "      fill: #FFFFFF;\n",
              "    }\n",
              "  </style>\n",
              "\n",
              "    <script>\n",
              "      const buttonEl =\n",
              "        document.querySelector('#df-55857c1c-a71d-4404-88e9-2f7ffffdf0f1 button.colab-df-convert');\n",
              "      buttonEl.style.display =\n",
              "        google.colab.kernel.accessAllowed ? 'block' : 'none';\n",
              "\n",
              "      async function convertToInteractive(key) {\n",
              "        const element = document.querySelector('#df-55857c1c-a71d-4404-88e9-2f7ffffdf0f1');\n",
              "        const dataTable =\n",
              "          await google.colab.kernel.invokeFunction('convertToInteractive',\n",
              "                                                    [key], {});\n",
              "        if (!dataTable) return;\n",
              "\n",
              "        const docLinkHtml = 'Like what you see? Visit the ' +\n",
              "          '<a target=\"_blank\" href=https://colab.research.google.com/notebooks/data_table.ipynb>data table notebook</a>'\n",
              "          + ' to learn more about interactive tables.';\n",
              "        element.innerHTML = '';\n",
              "        dataTable['output_type'] = 'display_data';\n",
              "        await google.colab.output.renderOutput(dataTable, element);\n",
              "        const docLink = document.createElement('div');\n",
              "        docLink.innerHTML = docLinkHtml;\n",
              "        element.appendChild(docLink);\n",
              "      }\n",
              "    </script>\n",
              "  </div>\n",
              "\n",
              "\n",
              "<div id=\"df-35a2f5d2-67ac-4bea-90e4-f45f154511b7\">\n",
              "  <button class=\"colab-df-quickchart\" onclick=\"quickchart('df-35a2f5d2-67ac-4bea-90e4-f45f154511b7')\"\n",
              "            title=\"Suggest charts\"\n",
              "            style=\"display:none;\">\n",
              "\n",
              "<svg xmlns=\"http://www.w3.org/2000/svg\" height=\"24px\"viewBox=\"0 0 24 24\"\n",
              "     width=\"24px\">\n",
              "    <g>\n",
              "        <path d=\"M19 3H5c-1.1 0-2 .9-2 2v14c0 1.1.9 2 2 2h14c1.1 0 2-.9 2-2V5c0-1.1-.9-2-2-2zM9 17H7v-7h2v7zm4 0h-2V7h2v10zm4 0h-2v-4h2v4z\"/>\n",
              "    </g>\n",
              "</svg>\n",
              "  </button>\n",
              "\n",
              "<style>\n",
              "  .colab-df-quickchart {\n",
              "      --bg-color: #E8F0FE;\n",
              "      --fill-color: #1967D2;\n",
              "      --hover-bg-color: #E2EBFA;\n",
              "      --hover-fill-color: #174EA6;\n",
              "      --disabled-fill-color: #AAA;\n",
              "      --disabled-bg-color: #DDD;\n",
              "  }\n",
              "\n",
              "  [theme=dark] .colab-df-quickchart {\n",
              "      --bg-color: #3B4455;\n",
              "      --fill-color: #D2E3FC;\n",
              "      --hover-bg-color: #434B5C;\n",
              "      --hover-fill-color: #FFFFFF;\n",
              "      --disabled-bg-color: #3B4455;\n",
              "      --disabled-fill-color: #666;\n",
              "  }\n",
              "\n",
              "  .colab-df-quickchart {\n",
              "    background-color: var(--bg-color);\n",
              "    border: none;\n",
              "    border-radius: 50%;\n",
              "    cursor: pointer;\n",
              "    display: none;\n",
              "    fill: var(--fill-color);\n",
              "    height: 32px;\n",
              "    padding: 0;\n",
              "    width: 32px;\n",
              "  }\n",
              "\n",
              "  .colab-df-quickchart:hover {\n",
              "    background-color: var(--hover-bg-color);\n",
              "    box-shadow: 0 1px 2px rgba(60, 64, 67, 0.3), 0 1px 3px 1px rgba(60, 64, 67, 0.15);\n",
              "    fill: var(--button-hover-fill-color);\n",
              "  }\n",
              "\n",
              "  .colab-df-quickchart-complete:disabled,\n",
              "  .colab-df-quickchart-complete:disabled:hover {\n",
              "    background-color: var(--disabled-bg-color);\n",
              "    fill: var(--disabled-fill-color);\n",
              "    box-shadow: none;\n",
              "  }\n",
              "\n",
              "  .colab-df-spinner {\n",
              "    border: 2px solid var(--fill-color);\n",
              "    border-color: transparent;\n",
              "    border-bottom-color: var(--fill-color);\n",
              "    animation:\n",
              "      spin 1s steps(1) infinite;\n",
              "  }\n",
              "\n",
              "  @keyframes spin {\n",
              "    0% {\n",
              "      border-color: transparent;\n",
              "      border-bottom-color: var(--fill-color);\n",
              "      border-left-color: var(--fill-color);\n",
              "    }\n",
              "    20% {\n",
              "      border-color: transparent;\n",
              "      border-left-color: var(--fill-color);\n",
              "      border-top-color: var(--fill-color);\n",
              "    }\n",
              "    30% {\n",
              "      border-color: transparent;\n",
              "      border-left-color: var(--fill-color);\n",
              "      border-top-color: var(--fill-color);\n",
              "      border-right-color: var(--fill-color);\n",
              "    }\n",
              "    40% {\n",
              "      border-color: transparent;\n",
              "      border-right-color: var(--fill-color);\n",
              "      border-top-color: var(--fill-color);\n",
              "    }\n",
              "    60% {\n",
              "      border-color: transparent;\n",
              "      border-right-color: var(--fill-color);\n",
              "    }\n",
              "    80% {\n",
              "      border-color: transparent;\n",
              "      border-right-color: var(--fill-color);\n",
              "      border-bottom-color: var(--fill-color);\n",
              "    }\n",
              "    90% {\n",
              "      border-color: transparent;\n",
              "      border-bottom-color: var(--fill-color);\n",
              "    }\n",
              "  }\n",
              "</style>\n",
              "\n",
              "  <script>\n",
              "    async function quickchart(key) {\n",
              "      const quickchartButtonEl =\n",
              "        document.querySelector('#' + key + ' button');\n",
              "      quickchartButtonEl.disabled = true;  // To prevent multiple clicks.\n",
              "      quickchartButtonEl.classList.add('colab-df-spinner');\n",
              "      try {\n",
              "        const charts = await google.colab.kernel.invokeFunction(\n",
              "            'suggestCharts', [key], {});\n",
              "      } catch (error) {\n",
              "        console.error('Error during call to suggestCharts:', error);\n",
              "      }\n",
              "      quickchartButtonEl.classList.remove('colab-df-spinner');\n",
              "      quickchartButtonEl.classList.add('colab-df-quickchart-complete');\n",
              "    }\n",
              "    (() => {\n",
              "      let quickchartButtonEl =\n",
              "        document.querySelector('#df-35a2f5d2-67ac-4bea-90e4-f45f154511b7 button');\n",
              "      quickchartButtonEl.style.display =\n",
              "        google.colab.kernel.accessAllowed ? 'block' : 'none';\n",
              "    })();\n",
              "  </script>\n",
              "</div>\n",
              "    </div>\n",
              "  </div>\n"
            ]
          },
          "metadata": {},
          "execution_count": 154
        }
      ]
    },
    {
      "cell_type": "code",
      "source": [
        "sub.ECLO.value_counts()"
      ],
      "metadata": {
        "colab": {
          "base_uri": "https://localhost:8080/"
        },
        "id": "TAEjgswfskRr",
        "outputId": "b2f70184-4766-4d49-c311-7b21fa9fb58d"
      },
      "execution_count": 155,
      "outputs": [
        {
          "output_type": "execute_result",
          "data": {
            "text/plain": [
              "5.0    5958\n",
              "4.0    4953\n",
              "6.0      52\n",
              "Name: ECLO, dtype: int64"
            ]
          },
          "metadata": {},
          "execution_count": 155
        }
      ]
    },
    {
      "cell_type": "code",
      "source": [
        "sub.to_csv('/content/drive/MyDrive/Dacon/Daegu_accident/submission_standard_1.csv', index=False)"
      ],
      "metadata": {
        "id": "ZftrS1QzskNT"
      },
      "execution_count": 156,
      "outputs": []
    },
    {
      "cell_type": "markdown",
      "source": [
        "## Lightbgm 맛보기"
      ],
      "metadata": {
        "id": "WPa9O1qnXmNv"
      }
    },
    {
      "cell_type": "code",
      "source": [
        "import lightgbm as lgb\n",
        "from sklearn.model_selection import train_test_split\n",
        "from sklearn.metrics import mean_squared_error"
      ],
      "metadata": {
        "id": "3T7_aGW5XXE2"
      },
      "execution_count": 157,
      "outputs": []
    },
    {
      "cell_type": "code",
      "source": [
        "params = {\n",
        "    'objective': 'regression',\n",
        "    'metric': 'mse',\n",
        "    'boosting_type': 'gbdt',\n",
        "    'num_leaves': 31,\n",
        "    'learning_rate': 0.05,\n",
        "    'feature_fraction': 0.9\n",
        "}"
      ],
      "metadata": {
        "id": "vlBmkMrtXro-"
      },
      "execution_count": 167,
      "outputs": []
    },
    {
      "cell_type": "code",
      "source": [
        "train_data = lgb.Dataset(X_train, label=y_train)\n",
        "test_data = lgb.Dataset(X_test, label=y_test, reference=train_data)\n",
        "\n",
        "model = lgb.train(params, train_data, valid_sets=[train_data, test_data], num_boost_round=100)\n",
        "\n",
        "# 모델 예측\n",
        "y_pred = model.predict(test, num_iteration=model.best_iteration)\n",
        "\n",
        "# # 평가\n",
        "# mse = mean_squared_error(y_test, y_pred)\n",
        "# print(f'Mean Squared Error: {mse}')"
      ],
      "metadata": {
        "colab": {
          "base_uri": "https://localhost:8080/"
        },
        "id": "ScO_2xAmXsU-",
        "outputId": "6acf0af5-4368-4577-ba4b-a546b56affbf"
      },
      "execution_count": 169,
      "outputs": [
        {
          "output_type": "stream",
          "name": "stdout",
          "text": [
            "[LightGBM] [Info] Auto-choosing col-wise multi-threading, the overhead of testing was 0.003435 seconds.\n",
            "You can set `force_col_wise=true` to remove the overhead.\n",
            "[LightGBM] [Info] Total Bins 31\n",
            "[LightGBM] [Info] Number of data points in the train set: 31687, number of used features: 7\n",
            "[LightGBM] [Info] Start training from score 4.730899\n"
          ]
        }
      ]
    },
    {
      "cell_type": "code",
      "source": [
        "print(len(y_pred))"
      ],
      "metadata": {
        "colab": {
          "base_uri": "https://localhost:8080/"
        },
        "id": "C0QlcS24X1Md",
        "outputId": "439888f2-7df7-4d76-d7ac-08362af233c8"
      },
      "execution_count": 170,
      "outputs": [
        {
          "output_type": "stream",
          "name": "stdout",
          "text": [
            "10963\n"
          ]
        }
      ]
    },
    {
      "cell_type": "code",
      "source": [
        "lgbm_result = np.round(y_pred)\n",
        "lgbm_sub = pd.read_csv(\"/content/drive/MyDrive/Dacon/Daegu_accident/sample_submission.csv\")\n",
        "lgbm_sub['ECLO'] = lgbm_result\n",
        "lgbm_sub.head()"
      ],
      "metadata": {
        "colab": {
          "base_uri": "https://localhost:8080/",
          "height": 206
        },
        "id": "Kb9kD3EVYNZO",
        "outputId": "11f47abb-e8b8-478c-ee94-c145eaa8ac3a"
      },
      "execution_count": 171,
      "outputs": [
        {
          "output_type": "execute_result",
          "data": {
            "text/plain": [
              "               ID  ECLO\n",
              "0  ACCIDENT_39609   4.0\n",
              "1  ACCIDENT_39610   4.0\n",
              "2  ACCIDENT_39611   5.0\n",
              "3  ACCIDENT_39612   5.0\n",
              "4  ACCIDENT_39613   5.0"
            ],
            "text/html": [
              "\n",
              "  <div id=\"df-a44c2879-49b0-494e-9e0b-d312c03cd3f0\" class=\"colab-df-container\">\n",
              "    <div>\n",
              "<style scoped>\n",
              "    .dataframe tbody tr th:only-of-type {\n",
              "        vertical-align: middle;\n",
              "    }\n",
              "\n",
              "    .dataframe tbody tr th {\n",
              "        vertical-align: top;\n",
              "    }\n",
              "\n",
              "    .dataframe thead th {\n",
              "        text-align: right;\n",
              "    }\n",
              "</style>\n",
              "<table border=\"1\" class=\"dataframe\">\n",
              "  <thead>\n",
              "    <tr style=\"text-align: right;\">\n",
              "      <th></th>\n",
              "      <th>ID</th>\n",
              "      <th>ECLO</th>\n",
              "    </tr>\n",
              "  </thead>\n",
              "  <tbody>\n",
              "    <tr>\n",
              "      <th>0</th>\n",
              "      <td>ACCIDENT_39609</td>\n",
              "      <td>4.0</td>\n",
              "    </tr>\n",
              "    <tr>\n",
              "      <th>1</th>\n",
              "      <td>ACCIDENT_39610</td>\n",
              "      <td>4.0</td>\n",
              "    </tr>\n",
              "    <tr>\n",
              "      <th>2</th>\n",
              "      <td>ACCIDENT_39611</td>\n",
              "      <td>5.0</td>\n",
              "    </tr>\n",
              "    <tr>\n",
              "      <th>3</th>\n",
              "      <td>ACCIDENT_39612</td>\n",
              "      <td>5.0</td>\n",
              "    </tr>\n",
              "    <tr>\n",
              "      <th>4</th>\n",
              "      <td>ACCIDENT_39613</td>\n",
              "      <td>5.0</td>\n",
              "    </tr>\n",
              "  </tbody>\n",
              "</table>\n",
              "</div>\n",
              "    <div class=\"colab-df-buttons\">\n",
              "\n",
              "  <div class=\"colab-df-container\">\n",
              "    <button class=\"colab-df-convert\" onclick=\"convertToInteractive('df-a44c2879-49b0-494e-9e0b-d312c03cd3f0')\"\n",
              "            title=\"Convert this dataframe to an interactive table.\"\n",
              "            style=\"display:none;\">\n",
              "\n",
              "  <svg xmlns=\"http://www.w3.org/2000/svg\" height=\"24px\" viewBox=\"0 -960 960 960\">\n",
              "    <path d=\"M120-120v-720h720v720H120Zm60-500h600v-160H180v160Zm220 220h160v-160H400v160Zm0 220h160v-160H400v160ZM180-400h160v-160H180v160Zm440 0h160v-160H620v160ZM180-180h160v-160H180v160Zm440 0h160v-160H620v160Z\"/>\n",
              "  </svg>\n",
              "    </button>\n",
              "\n",
              "  <style>\n",
              "    .colab-df-container {\n",
              "      display:flex;\n",
              "      gap: 12px;\n",
              "    }\n",
              "\n",
              "    .colab-df-convert {\n",
              "      background-color: #E8F0FE;\n",
              "      border: none;\n",
              "      border-radius: 50%;\n",
              "      cursor: pointer;\n",
              "      display: none;\n",
              "      fill: #1967D2;\n",
              "      height: 32px;\n",
              "      padding: 0 0 0 0;\n",
              "      width: 32px;\n",
              "    }\n",
              "\n",
              "    .colab-df-convert:hover {\n",
              "      background-color: #E2EBFA;\n",
              "      box-shadow: 0px 1px 2px rgba(60, 64, 67, 0.3), 0px 1px 3px 1px rgba(60, 64, 67, 0.15);\n",
              "      fill: #174EA6;\n",
              "    }\n",
              "\n",
              "    .colab-df-buttons div {\n",
              "      margin-bottom: 4px;\n",
              "    }\n",
              "\n",
              "    [theme=dark] .colab-df-convert {\n",
              "      background-color: #3B4455;\n",
              "      fill: #D2E3FC;\n",
              "    }\n",
              "\n",
              "    [theme=dark] .colab-df-convert:hover {\n",
              "      background-color: #434B5C;\n",
              "      box-shadow: 0px 1px 3px 1px rgba(0, 0, 0, 0.15);\n",
              "      filter: drop-shadow(0px 1px 2px rgba(0, 0, 0, 0.3));\n",
              "      fill: #FFFFFF;\n",
              "    }\n",
              "  </style>\n",
              "\n",
              "    <script>\n",
              "      const buttonEl =\n",
              "        document.querySelector('#df-a44c2879-49b0-494e-9e0b-d312c03cd3f0 button.colab-df-convert');\n",
              "      buttonEl.style.display =\n",
              "        google.colab.kernel.accessAllowed ? 'block' : 'none';\n",
              "\n",
              "      async function convertToInteractive(key) {\n",
              "        const element = document.querySelector('#df-a44c2879-49b0-494e-9e0b-d312c03cd3f0');\n",
              "        const dataTable =\n",
              "          await google.colab.kernel.invokeFunction('convertToInteractive',\n",
              "                                                    [key], {});\n",
              "        if (!dataTable) return;\n",
              "\n",
              "        const docLinkHtml = 'Like what you see? Visit the ' +\n",
              "          '<a target=\"_blank\" href=https://colab.research.google.com/notebooks/data_table.ipynb>data table notebook</a>'\n",
              "          + ' to learn more about interactive tables.';\n",
              "        element.innerHTML = '';\n",
              "        dataTable['output_type'] = 'display_data';\n",
              "        await google.colab.output.renderOutput(dataTable, element);\n",
              "        const docLink = document.createElement('div');\n",
              "        docLink.innerHTML = docLinkHtml;\n",
              "        element.appendChild(docLink);\n",
              "      }\n",
              "    </script>\n",
              "  </div>\n",
              "\n",
              "\n",
              "<div id=\"df-eeb814c0-e113-422e-8250-f3e3ba595225\">\n",
              "  <button class=\"colab-df-quickchart\" onclick=\"quickchart('df-eeb814c0-e113-422e-8250-f3e3ba595225')\"\n",
              "            title=\"Suggest charts\"\n",
              "            style=\"display:none;\">\n",
              "\n",
              "<svg xmlns=\"http://www.w3.org/2000/svg\" height=\"24px\"viewBox=\"0 0 24 24\"\n",
              "     width=\"24px\">\n",
              "    <g>\n",
              "        <path d=\"M19 3H5c-1.1 0-2 .9-2 2v14c0 1.1.9 2 2 2h14c1.1 0 2-.9 2-2V5c0-1.1-.9-2-2-2zM9 17H7v-7h2v7zm4 0h-2V7h2v10zm4 0h-2v-4h2v4z\"/>\n",
              "    </g>\n",
              "</svg>\n",
              "  </button>\n",
              "\n",
              "<style>\n",
              "  .colab-df-quickchart {\n",
              "      --bg-color: #E8F0FE;\n",
              "      --fill-color: #1967D2;\n",
              "      --hover-bg-color: #E2EBFA;\n",
              "      --hover-fill-color: #174EA6;\n",
              "      --disabled-fill-color: #AAA;\n",
              "      --disabled-bg-color: #DDD;\n",
              "  }\n",
              "\n",
              "  [theme=dark] .colab-df-quickchart {\n",
              "      --bg-color: #3B4455;\n",
              "      --fill-color: #D2E3FC;\n",
              "      --hover-bg-color: #434B5C;\n",
              "      --hover-fill-color: #FFFFFF;\n",
              "      --disabled-bg-color: #3B4455;\n",
              "      --disabled-fill-color: #666;\n",
              "  }\n",
              "\n",
              "  .colab-df-quickchart {\n",
              "    background-color: var(--bg-color);\n",
              "    border: none;\n",
              "    border-radius: 50%;\n",
              "    cursor: pointer;\n",
              "    display: none;\n",
              "    fill: var(--fill-color);\n",
              "    height: 32px;\n",
              "    padding: 0;\n",
              "    width: 32px;\n",
              "  }\n",
              "\n",
              "  .colab-df-quickchart:hover {\n",
              "    background-color: var(--hover-bg-color);\n",
              "    box-shadow: 0 1px 2px rgba(60, 64, 67, 0.3), 0 1px 3px 1px rgba(60, 64, 67, 0.15);\n",
              "    fill: var(--button-hover-fill-color);\n",
              "  }\n",
              "\n",
              "  .colab-df-quickchart-complete:disabled,\n",
              "  .colab-df-quickchart-complete:disabled:hover {\n",
              "    background-color: var(--disabled-bg-color);\n",
              "    fill: var(--disabled-fill-color);\n",
              "    box-shadow: none;\n",
              "  }\n",
              "\n",
              "  .colab-df-spinner {\n",
              "    border: 2px solid var(--fill-color);\n",
              "    border-color: transparent;\n",
              "    border-bottom-color: var(--fill-color);\n",
              "    animation:\n",
              "      spin 1s steps(1) infinite;\n",
              "  }\n",
              "\n",
              "  @keyframes spin {\n",
              "    0% {\n",
              "      border-color: transparent;\n",
              "      border-bottom-color: var(--fill-color);\n",
              "      border-left-color: var(--fill-color);\n",
              "    }\n",
              "    20% {\n",
              "      border-color: transparent;\n",
              "      border-left-color: var(--fill-color);\n",
              "      border-top-color: var(--fill-color);\n",
              "    }\n",
              "    30% {\n",
              "      border-color: transparent;\n",
              "      border-left-color: var(--fill-color);\n",
              "      border-top-color: var(--fill-color);\n",
              "      border-right-color: var(--fill-color);\n",
              "    }\n",
              "    40% {\n",
              "      border-color: transparent;\n",
              "      border-right-color: var(--fill-color);\n",
              "      border-top-color: var(--fill-color);\n",
              "    }\n",
              "    60% {\n",
              "      border-color: transparent;\n",
              "      border-right-color: var(--fill-color);\n",
              "    }\n",
              "    80% {\n",
              "      border-color: transparent;\n",
              "      border-right-color: var(--fill-color);\n",
              "      border-bottom-color: var(--fill-color);\n",
              "    }\n",
              "    90% {\n",
              "      border-color: transparent;\n",
              "      border-bottom-color: var(--fill-color);\n",
              "    }\n",
              "  }\n",
              "</style>\n",
              "\n",
              "  <script>\n",
              "    async function quickchart(key) {\n",
              "      const quickchartButtonEl =\n",
              "        document.querySelector('#' + key + ' button');\n",
              "      quickchartButtonEl.disabled = true;  // To prevent multiple clicks.\n",
              "      quickchartButtonEl.classList.add('colab-df-spinner');\n",
              "      try {\n",
              "        const charts = await google.colab.kernel.invokeFunction(\n",
              "            'suggestCharts', [key], {});\n",
              "      } catch (error) {\n",
              "        console.error('Error during call to suggestCharts:', error);\n",
              "      }\n",
              "      quickchartButtonEl.classList.remove('colab-df-spinner');\n",
              "      quickchartButtonEl.classList.add('colab-df-quickchart-complete');\n",
              "    }\n",
              "    (() => {\n",
              "      let quickchartButtonEl =\n",
              "        document.querySelector('#df-eeb814c0-e113-422e-8250-f3e3ba595225 button');\n",
              "      quickchartButtonEl.style.display =\n",
              "        google.colab.kernel.accessAllowed ? 'block' : 'none';\n",
              "    })();\n",
              "  </script>\n",
              "</div>\n",
              "    </div>\n",
              "  </div>\n"
            ]
          },
          "metadata": {},
          "execution_count": 171
        }
      ]
    },
    {
      "cell_type": "code",
      "source": [
        "lgbm_sub.ECLO.value_counts()"
      ],
      "metadata": {
        "colab": {
          "base_uri": "https://localhost:8080/"
        },
        "id": "KOcxPZzvYmNM",
        "outputId": "09cbf791-6113-45f2-f247-87147477ebc2"
      },
      "execution_count": 172,
      "outputs": [
        {
          "output_type": "execute_result",
          "data": {
            "text/plain": [
              "5.0    7119\n",
              "4.0    2672\n",
              "6.0    1006\n",
              "3.0     116\n",
              "7.0      49\n",
              "8.0       1\n",
              "Name: ECLO, dtype: int64"
            ]
          },
          "metadata": {},
          "execution_count": 172
        }
      ]
    },
    {
      "cell_type": "code",
      "source": [
        "lgbm_sub.to_csv('/content/drive/MyDrive/Dacon/Daegu_accident/submission_lgbm_1.csv', index=False)"
      ],
      "metadata": {
        "id": "JSAdkIW6abJE"
      },
      "execution_count": 173,
      "outputs": []
    },
    {
      "cell_type": "code",
      "source": [],
      "metadata": {
        "id": "1QJAzghXagFc"
      },
      "execution_count": null,
      "outputs": []
    }
  ]
}