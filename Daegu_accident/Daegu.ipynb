{
  "nbformat": 4,
  "nbformat_minor": 0,
  "metadata": {
    "colab": {
      "provenance": [],
      "mount_file_id": "175VGH88q3ZNwCPSfWb_tBl9IfL2UvXtK",
      "authorship_tag": "ABX9TyOUUT6nZ4vFIC8/46q7CRW4",
      "include_colab_link": true
    },
    "kernelspec": {
      "name": "python3",
      "display_name": "Python 3"
    },
    "language_info": {
      "name": "python"
    }
  },
  "cells": [
    {
      "cell_type": "markdown",
      "metadata": {
        "id": "view-in-github",
        "colab_type": "text"
      },
      "source": [
        "<a href=\"https://colab.research.google.com/github/Kim-Yeon-Jun/Dacon/blob/main/Daegu.ipynb\" target=\"_parent\"><img src=\"https://colab.research.google.com/assets/colab-badge.svg\" alt=\"Open In Colab\"/></a>"
      ]
    },
    {
      "cell_type": "code",
      "execution_count": null,
      "metadata": {
        "id": "D6A9QQHsx65M"
      },
      "outputs": [],
      "source": [
        "import torch\n",
        "import numpy as np\n",
        "import pandas as pd\n",
        "from torch import nn\n",
        "from torch import optim\n",
        "from torch.utils.data import DataLoader, Dataset\n",
        "from sklearn.model_selection import train_test_split\n",
        "from sklearn.preprocessing import StandardScaler\n",
        "from torch.utils.data import TensorDataset, DataLoader"
      ]
    },
    {
      "cell_type": "code",
      "source": [
        "device = \"cuda\" if torch.cuda.is_available() else \"cpu\""
      ],
      "metadata": {
        "id": "7kc6tEvQy3kQ"
      },
      "execution_count": null,
      "outputs": []
    },
    {
      "cell_type": "code",
      "source": [
        "df = pd.read_csv(\"/content/drive/MyDrive/Dacon/Daegu_accident/df_train.csv\")"
      ],
      "metadata": {
        "id": "ed5sD97ly9FP"
      },
      "execution_count": null,
      "outputs": []
    },
    {
      "cell_type": "code",
      "source": [
        "df2 = pd.read_csv(\"/content/drive/MyDrive/Dacon/Daegu_accident/df_test.csv\")"
      ],
      "metadata": {
        "id": "BCdloRmX1PAn"
      },
      "execution_count": null,
      "outputs": []
    },
    {
      "cell_type": "code",
      "source": [
        "df.shape"
      ],
      "metadata": {
        "colab": {
          "base_uri": "https://localhost:8080/"
        },
        "id": "2DJA1H4jnG8s",
        "outputId": "a01787d8-bd9f-405f-b36c-b0da1a9811eb"
      },
      "execution_count": null,
      "outputs": [
        {
          "output_type": "execute_result",
          "data": {
            "text/plain": [
              "(39601, 41)"
            ]
          },
          "metadata": {},
          "execution_count": 5
        }
      ]
    },
    {
      "cell_type": "code",
      "source": [
        "df2.shape"
      ],
      "metadata": {
        "colab": {
          "base_uri": "https://localhost:8080/"
        },
        "id": "MuUM1KVbnJPs",
        "outputId": "c506ab15-fef8-457f-8b47-10769c65e0a8"
      },
      "execution_count": null,
      "outputs": [
        {
          "output_type": "execute_result",
          "data": {
            "text/plain": [
              "(10963, 37)"
            ]
          },
          "metadata": {},
          "execution_count": 6
        }
      ]
    },
    {
      "cell_type": "code",
      "source": [
        "df.drop(['구'], axis=1, inplace = True)"
      ],
      "metadata": {
        "id": "8z21w_KVlJQ8"
      },
      "execution_count": null,
      "outputs": []
    },
    {
      "cell_type": "code",
      "source": [
        "df2.drop(['구'], axis = 1, inplace = True)"
      ],
      "metadata": {
        "id": "Yf7IRLITl7SB"
      },
      "execution_count": null,
      "outputs": []
    },
    {
      "cell_type": "code",
      "source": [
        "df2.info()"
      ],
      "metadata": {
        "colab": {
          "base_uri": "https://localhost:8080/"
        },
        "id": "irAJHbHhqMT9",
        "outputId": "82423dbe-34ca-4054-c9bd-a1743f7fe32c"
      },
      "execution_count": null,
      "outputs": [
        {
          "output_type": "stream",
          "name": "stdout",
          "text": [
            "<class 'pandas.core.frame.DataFrame'>\n",
            "RangeIndex: 10963 entries, 0 to 10962\n",
            "Data columns (total 36 columns):\n",
            " #   Column           Non-Null Count  Dtype\n",
            "---  ------           --------------  -----\n",
            " 0   Unnamed: 0       10963 non-null  int64\n",
            " 1   주말               10963 non-null  int64\n",
            " 2   평일               10963 non-null  int64\n",
            " 3   기타               10963 non-null  int64\n",
            " 4   눈                10963 non-null  int64\n",
            " 5   맑음               10963 non-null  int64\n",
            " 6   비                10963 non-null  int64\n",
            " 7   흐림               10963 non-null  int64\n",
            " 8   남구               10963 non-null  int64\n",
            " 9   달서구              10963 non-null  int64\n",
            " 10  달성군              10963 non-null  int64\n",
            " 11  동구               10963 non-null  int64\n",
            " 12  북구               10963 non-null  int64\n",
            " 13  서구               10963 non-null  int64\n",
            " 14  수성구              10963 non-null  int64\n",
            " 15  중구               10963 non-null  int64\n",
            " 16  교차로 - 교차로부근      10963 non-null  int64\n",
            " 17  교차로 - 교차로안       10963 non-null  int64\n",
            " 18  교차로 - 교차로횡단보도내   10963 non-null  int64\n",
            " 19  기타 - 기타          10963 non-null  int64\n",
            " 20  단일로 - 고가도로위      10963 non-null  int64\n",
            " 21  단일로 - 교량         10963 non-null  int64\n",
            " 22  단일로 - 기타         10963 non-null  int64\n",
            " 23  단일로 - 지하차도(도로)내  10963 non-null  int64\n",
            " 24  단일로 - 터널         10963 non-null  int64\n",
            " 25  미분류 - 미분류        10963 non-null  int64\n",
            " 26  주차장 - 주차장        10963 non-null  int64\n",
            " 27  건조               10963 non-null  int64\n",
            " 28  기타.1             10963 non-null  int64\n",
            " 29  서리/결빙            10963 non-null  int64\n",
            " 30  적설               10963 non-null  int64\n",
            " 31  젖음/습기            10963 non-null  int64\n",
            " 32  침수               10963 non-null  int64\n",
            " 33  차대사람             10963 non-null  int64\n",
            " 34  차대차              10963 non-null  int64\n",
            " 35  차량단독             10963 non-null  int64\n",
            "dtypes: int64(36)\n",
            "memory usage: 3.0 MB\n"
          ]
        }
      ]
    },
    {
      "cell_type": "code",
      "source": [
        "df.drop(['Unnamed: 0'], inplace=True, axis = 1)\n",
        "df2.drop(['Unnamed: 0'], inplace=True, axis = 1)"
      ],
      "metadata": {
        "id": "J0nPEy7BLznE"
      },
      "execution_count": null,
      "outputs": []
    },
    {
      "cell_type": "code",
      "source": [
        "# X_test = df2.copy()\n",
        "X = df.drop(['사망자수','중상자수','경상자수','부상자수'], axis=1).copy()\n",
        "y = df[['사망자수','중상자수','경상자수','부상자수']].copy()"
      ],
      "metadata": {
        "id": "FbBpxRCICReA"
      },
      "execution_count": null,
      "outputs": []
    },
    {
      "cell_type": "code",
      "source": [
        "y.shape"
      ],
      "metadata": {
        "colab": {
          "base_uri": "https://localhost:8080/"
        },
        "id": "qIESPRWFi72R",
        "outputId": "031b7837-eb84-41c3-9868-ffc3a1f9dbbf"
      },
      "execution_count": null,
      "outputs": [
        {
          "output_type": "execute_result",
          "data": {
            "text/plain": [
              "(39601, 4)"
            ]
          },
          "metadata": {},
          "execution_count": 12
        }
      ]
    },
    {
      "cell_type": "code",
      "source": [
        "X_train, X_test, y_train, y_test = train_test_split(X, y, test_size = 0.2, random_state =42)"
      ],
      "metadata": {
        "id": "hxDUKhWRiQT7"
      },
      "execution_count": null,
      "outputs": []
    },
    {
      "cell_type": "code",
      "source": [
        "X_train = X_train.to_numpy()\n",
        "X_test = X_test.to_numpy()\n",
        "y_train = y_train.to_numpy()\n",
        "y_test = y_test.to_numpy()"
      ],
      "metadata": {
        "id": "UcvVBpBKkANV"
      },
      "execution_count": null,
      "outputs": []
    },
    {
      "cell_type": "code",
      "source": [
        "X_train = torch.tensor(X_train, dtype=torch.float32)\n",
        "X_test = torch.tensor(X_test, dtype=torch.float32)\n",
        "y_train = torch.tensor(y_train, dtype=torch.float32)\n",
        "y_test = torch.tensor(y_test, dtype=torch.float32)"
      ],
      "metadata": {
        "id": "OlDapmZ0idGX"
      },
      "execution_count": null,
      "outputs": []
    },
    {
      "cell_type": "code",
      "source": [
        "train_dataset = TensorDataset(X_train, y_train)\n",
        "test_dataset = TensorDataset(X_test, y_test)"
      ],
      "metadata": {
        "id": "vJ9ixXNsidwA"
      },
      "execution_count": null,
      "outputs": []
    },
    {
      "cell_type": "code",
      "source": [
        "train_dataloader = DataLoader(train_dataset, batch_size = 64, shuffle = True)\n",
        "test_dataloader = DataLoader(test_dataset, batch_size= 16, shuffle = True)"
      ],
      "metadata": {
        "id": "iaHQw3k9Fk2W"
      },
      "execution_count": null,
      "outputs": []
    },
    {
      "cell_type": "code",
      "source": [
        "class CustomModel(nn.Module):\n",
        "  def __init__(self, input_size, output_size):\n",
        "    super(CustomModel, self).__init__()\n",
        "    self.fc1 = nn.Linear(input_size, 64)\n",
        "    self.fc2 = nn.Linear(64, 32)\n",
        "    self.fc3 = nn.Linear(32, output_size)\n",
        "\n",
        "  def forward(self, x):\n",
        "    x = torch.relu(self.fc1(x))\n",
        "    x = torch.relu(self.fc2(x))\n",
        "    x = self.fc3(x)\n",
        "    return x"
      ],
      "metadata": {
        "id": "6im9MBcLLUFT"
      },
      "execution_count": null,
      "outputs": []
    },
    {
      "cell_type": "code",
      "source": [
        "device = \"cuda\" if torch.cuda.is_available() else \"cpu\"\n",
        "input_size = 35\n",
        "output_size = 4\n",
        "model = CustomModel(input_size, output_size).to(device)\n",
        "criterion = nn.MSELoss().to(device)\n",
        "optimizer = optim.Adam(model.parameters(), lr = 0.01)"
      ],
      "metadata": {
        "id": "l9942YB8LRQj"
      },
      "execution_count": null,
      "outputs": []
    },
    {
      "cell_type": "code",
      "source": [
        "num_epochs = 100\n",
        "\n",
        "for epoch in range(num_epochs):\n",
        "    model.train()\n",
        "    total_loss = 0.0\n",
        "\n",
        "    for x, y in train_dataloader:\n",
        "        x = x.to(device)\n",
        "        y = y.to(device)\n",
        "\n",
        "        optimizer.zero_grad()\n",
        "        outputs = model(x)\n",
        "\n",
        "        loss = criterion(outputs, y)\n",
        "        loss.backward()\n",
        "        optimizer.step()\n",
        "\n",
        "        total_loss += loss.item()\n",
        "\n",
        "    # 일정 간격마다 예측값 출력\n",
        "    if (epoch + 1) % 10 == 0:\n",
        "        model.eval()\n",
        "        with torch.no_grad():\n",
        "            inputs = torch.randn(5, input_size).to(device)  # 예측값을 확인할 임의의 입력 데이터\n",
        "            predictions = torch.sigmoid(model(inputs))\n",
        "            print(f\"Epoch [{epoch + 1}/{num_epochs}], Loss: {total_loss / len(train_dataloader):.4f}\")\n",
        "            print(\"Predictions:\")\n",
        "            print(predictions)\n",
        "\n"
      ],
      "metadata": {
        "colab": {
          "base_uri": "https://localhost:8080/"
        },
        "id": "CAxe9dVkLRrq",
        "outputId": "bcce243b-092b-4383-d0e7-e994977baf17"
      },
      "execution_count": null,
      "outputs": [
        {
          "output_type": "stream",
          "name": "stdout",
          "text": [
            "Epoch [10/100], Loss: 0.3302\n",
            "Predictions:\n",
            "tensor([[0.5042, 0.5750, 0.6668, 0.5564],\n",
            "        [0.5149, 0.6461, 0.9223, 0.5063],\n",
            "        [0.5110, 0.6332, 0.6618, 0.5097],\n",
            "        [0.5272, 0.6137, 0.6588, 0.5244],\n",
            "        [0.5422, 0.9053, 0.1533, 0.3407]], device='cuda:0')\n",
            "Epoch [20/100], Loss: 0.3296\n",
            "Predictions:\n",
            "tensor([[0.4490, 0.5847, 0.9899, 0.4844],\n",
            "        [0.5787, 0.4535, 0.3652, 0.9754],\n",
            "        [0.5010, 0.5552, 0.7538, 0.5218],\n",
            "        [0.6103, 0.3998, 0.1697, 0.9967],\n",
            "        [0.5232, 0.5234, 0.6557, 0.7523]], device='cuda:0')\n",
            "Epoch [30/100], Loss: 0.3290\n",
            "Predictions:\n",
            "tensor([[0.5050, 0.5522, 0.7966, 0.5458],\n",
            "        [0.5291, 0.5384, 0.9558, 0.6587],\n",
            "        [0.5194, 0.9048, 0.1373, 0.9258],\n",
            "        [0.5473, 0.5279, 0.9874, 0.7341],\n",
            "        [0.5012, 0.5543, 0.7504, 0.5276]], device='cuda:0')\n",
            "Epoch [40/100], Loss: 0.3293\n",
            "Predictions:\n",
            "tensor([[0.4804, 0.4236, 0.6230, 0.9170],\n",
            "        [0.4897, 0.3785, 0.5692, 0.8319],\n",
            "        [0.5384, 0.7209, 0.0675, 0.4969],\n",
            "        [0.4827, 0.4300, 0.4604, 0.9365],\n",
            "        [0.4997, 0.5524, 0.7566, 0.5294]], device='cuda:0')\n",
            "Epoch [50/100], Loss: 0.3289\n",
            "Predictions:\n",
            "tensor([[0.4991, 0.5795, 0.8275, 0.5201],\n",
            "        [0.4998, 0.5567, 0.7855, 0.5307],\n",
            "        [0.5008, 0.5549, 0.7562, 0.5304],\n",
            "        [0.5008, 0.5549, 0.7562, 0.5304],\n",
            "        [0.5008, 0.5549, 0.7562, 0.5304]], device='cuda:0')\n",
            "Epoch [60/100], Loss: 0.3290\n",
            "Predictions:\n",
            "tensor([[6.0323e-01, 3.2021e-01, 1.4075e-01, 9.9509e-01],\n",
            "        [5.8027e-01, 9.2448e-01, 7.3757e-04, 4.4972e-01],\n",
            "        [5.0219e-01, 4.6193e-01, 4.8368e-01, 6.8194e-01],\n",
            "        [5.2823e-01, 3.8371e-01, 8.7991e-01, 8.8177e-01],\n",
            "        [5.0187e-01, 5.5212e-01, 7.5979e-01, 5.2607e-01]], device='cuda:0')\n",
            "Epoch [70/100], Loss: 0.3286\n",
            "Predictions:\n",
            "tensor([[0.5804, 0.8298, 0.2905, 0.4895],\n",
            "        [0.4886, 0.4924, 0.9457, 0.5731],\n",
            "        [0.5467, 0.5208, 0.4198, 0.6959],\n",
            "        [0.4927, 0.6739, 0.6169, 0.5137],\n",
            "        [0.4972, 0.4998, 0.8902, 0.5541]], device='cuda:0')\n"
          ]
        }
      ]
    },
    {
      "cell_type": "code",
      "source": [
        "# 최종 학습 결과 확인\n",
        "model.eval()\n",
        "with torch.no_grad():\n",
        "    inputs = torch.randn(5, input_size).to(device)  # 예측값을 확인할 임의의 입력 데이터\n",
        "    predictions = torch.sigmoid(model(inputs))\n",
        "    print(\"Final Predictions:\")\n",
        "    print(predictions)"
      ],
      "metadata": {
        "id": "QazawYDzoi_u"
      },
      "execution_count": null,
      "outputs": []
    },
    {
      "cell_type": "code",
      "source": [],
      "metadata": {
        "id": "UESsoi19xsR9"
      },
      "execution_count": null,
      "outputs": []
    }
  ]
}